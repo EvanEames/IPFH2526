{
 "cells": [
  {
   "cell_type": "markdown",
   "id": "ade51932-afca-4760-bb0d-83221ae5e21f",
   "metadata": {},
   "source": [
    "# Week 8: Revision of functions and variables"
   ]
  },
  {
   "cell_type": "markdown",
   "id": "f7b9c9a3-b956-4aeb-8e8a-09c3704dcf78",
   "metadata": {},
   "source": [
    "## From week 2\n",
    "\n",
    "To define a function in Python, you use the \"**def**\" keyword followed by the **name of the function** and a **set of parentheses**. If the function takes in any arguments, you can specify them in the parentheses. The code block for the function is **indented** below the definition."
   ]
  },
  {
   "cell_type": "markdown",
   "id": "c6db08de-c80e-4a2c-a45e-f0b0aa4528a2",
   "metadata": {},
   "source": [
    "When you develop a function, **its name**, and the parameters variable names are **arbitrary**, you can choose them!\n",
    "\n",
    "There is **no difference** between these two functions\n",
    "\n"
   ]
  },
  {
   "cell_type": "code",
   "execution_count": 2,
   "id": "427069c4-60d5-4407-a4c1-c6a372998bef",
   "metadata": {},
   "outputs": [],
   "source": [
    "def sum_numbers(number1,number2):\n",
    "    return number1+number2\n",
    "\n",
    "def random_function_name(first_parameter, today_is_a_sunny_day):\n",
    "    return first_parameter, today_is_a_sunny_day"
   ]
  },
  {
   "cell_type": "markdown",
   "id": "f1e5eb0b-5bfe-4470-a0bc-9fe8ba874043",
   "metadata": {},
   "source": [
    "The parameters names are **placeholders for actual values** in most of the cases (you can have default values in some cases, more about this later). When you call a function, you have to give Python values!"
   ]
  },
  {
   "cell_type": "code",
   "execution_count": 4,
   "id": "7fe7751b-eac0-48eb-a379-5bc081e42b16",
   "metadata": {},
   "outputs": [
    {
     "data": {
      "text/plain": [
       "9"
      ]
     },
     "execution_count": 4,
     "metadata": {},
     "output_type": "execute_result"
    }
   ],
   "source": [
    "# for this function\n",
    "\n",
    "#DEFINITION\n",
    "def sum_numbers(number1,number2):\n",
    "    return number1+number2\n",
    "#CALLING\n",
    "\n",
    "sum_numbers(5,4)"
   ]
  },
  {
   "cell_type": "markdown",
   "id": "309a86d7-f603-4a43-a5c2-ddc875ae467d",
   "metadata": {},
   "source": [
    "**The actual values can be stored in variables, although the names of the variables have nothing to do with the name of the parameters when you define  a function**"
   ]
  },
  {
   "cell_type": "code",
   "execution_count": 7,
   "id": "b7385d1b-7182-4e59-847a-e494ae959f06",
   "metadata": {},
   "outputs": [
    {
     "data": {
      "text/plain": [
       "15"
      ]
     },
     "execution_count": 7,
     "metadata": {},
     "output_type": "execute_result"
    }
   ],
   "source": [
    "# WRITING VALUES AND STORING THEM IN VARIABLES\n",
    "\n",
    "a = 5\n",
    "b = 10\n",
    "\n",
    "# DEFINITION OF A FUNCTION\n",
    "def sum_numbers(number1,number2):\n",
    "    return number1 +number2\n",
    "\n",
    "# CALLING\n",
    "\n",
    "sum_numbers(a,b)"
   ]
  },
  {
   "cell_type": "markdown",
   "id": "a38844d6-3213-4472-af43-bf3aeab37f3f",
   "metadata": {},
   "source": [
    "**Calling and defining a function are two different things. You cannot call a function if you do not define first, so order matters. First you define a function, then you call it.**\n",
    "\n",
    "**When you define a function, you put parameters as placeholders for actual values when you call it**"
   ]
  },
  {
   "cell_type": "markdown",
   "id": "7f717968-4080-4282-bbdc-c947d4485420",
   "metadata": {},
   "source": [
    "Because we are setting parameters, **the input()** command is not needed when we are developing functions! you just use the normal parameters"
   ]
  },
  {
   "cell_type": "markdown",
   "id": "8e4429ab-f151-45d0-8053-fea7777e297c",
   "metadata": {},
   "source": [
    "IF, and only IF, your function has default parameters, then you can assign values also to the parameters when you define a function."
   ]
  },
  {
   "cell_type": "code",
   "execution_count": 10,
   "id": "f2abbd4d-c056-4c9e-8d3f-2de553a2528e",
   "metadata": {},
   "outputs": [
    {
     "data": {
      "text/plain": [
       "11"
      ]
     },
     "execution_count": 10,
     "metadata": {},
     "output_type": "execute_result"
    }
   ],
   "source": [
    "def count_consonants_in_a_sentence(sentence, list_of_consonants=[\"b\",\"c\",\"d\",\"f\",\"g\",\"h\",\"j\",\"k\",\"l\",\"m\",\"n\",\"p\",\"q\",\"r\",\"s\",\"t\",\"v\",\"w\",\"x\",\"y\",\"z\"]):\n",
    "    count_of_c = 0\n",
    "    for char in sentence.lower():\n",
    "        if char in list_of_consonants:\n",
    "            count_of_c +=1\n",
    "    return count_of_c\n",
    "\n",
    "# Calling the function with a default parameter, if I am not changing the default parameter, I DO NOT LIST IT WHEN I CALL THE FUNCTION\n",
    "\n",
    "count_consonants_in_a_sentence(\"Hello, what are you doing?\")\n",
    "\n",
    "\n",
    "\n"
   ]
  },
  {
   "cell_type": "code",
   "execution_count": 11,
   "id": "70003484-fa16-447e-afb2-4d7983437889",
   "metadata": {},
   "outputs": [
    {
     "data": {
      "text/plain": [
       "10"
      ]
     },
     "execution_count": 11,
     "metadata": {},
     "output_type": "execute_result"
    }
   ],
   "source": [
    "# What if I consider \"j\" and \"y\" to be \"semi-vowels\"? Then the default parameter is not good.\n",
    "# I have to call the function writing values for BOTH parameters now\n",
    "\n",
    "count_consonants_in_a_sentence(\"Hello, what are you doing?\", [\"b\",\"c\",\"d\",\"f\",\"g\",\"h\",\"k\",\"l\",\"m\", \"n\",\"p\",\"q\",\"r\",\"s\",\"t\",\"v\",\"w\",\"x\",\"z\"]) # list without j and y"
   ]
  },
  {
   "cell_type": "markdown",
   "id": "e732177b-8e8c-44ef-9c6d-641cfe6a7e17",
   "metadata": {},
   "source": [
    "**The parameters when you are calling a function need to be in the same order as when you define it**"
   ]
  },
  {
   "cell_type": "code",
   "execution_count": 13,
   "id": "43eda37f-b2d9-43ca-80b6-57a793a9fff9",
   "metadata": {},
   "outputs": [
    {
     "ename": "TypeError",
     "evalue": "'in <string>' requires string as left operand, not list",
     "output_type": "error",
     "traceback": [
      "\u001b[1;31m---------------------------------------------------------------------------\u001b[0m",
      "\u001b[1;31mTypeError\u001b[0m                                 Traceback (most recent call last)",
      "Cell \u001b[1;32mIn[13], line 9\u001b[0m\n\u001b[0;32m      5\u001b[0m         \u001b[38;5;28;01mreturn\u001b[39;00m \u001b[38;5;28;01mFalse\u001b[39;00m\n\u001b[0;32m      7\u001b[0m \u001b[38;5;66;03m# if I call this function with inverse parameters\u001b[39;00m\n\u001b[1;32m----> 9\u001b[0m \u001b[43mis_word_in_list\u001b[49m\u001b[43m(\u001b[49m\u001b[43m[\u001b[49m\u001b[38;5;124;43m\"\u001b[39;49m\u001b[38;5;124;43ma\u001b[39;49m\u001b[38;5;124;43m\"\u001b[39;49m\u001b[43m,\u001b[49m\u001b[38;5;124;43m\"\u001b[39;49m\u001b[38;5;124;43mb\u001b[39;49m\u001b[38;5;124;43m\"\u001b[39;49m\u001b[43m,\u001b[49m\u001b[38;5;124;43m\"\u001b[39;49m\u001b[38;5;124;43mc\u001b[39;49m\u001b[38;5;124;43m\"\u001b[39;49m\u001b[43m]\u001b[49m\u001b[43m,\u001b[49m\u001b[43m \u001b[49m\u001b[38;5;124;43m\"\u001b[39;49m\u001b[38;5;124;43mc\u001b[39;49m\u001b[38;5;124;43m\"\u001b[39;49m\u001b[43m)\u001b[49m\n",
      "Cell \u001b[1;32mIn[13], line 2\u001b[0m, in \u001b[0;36mis_word_in_list\u001b[1;34m(word, list_of_words)\u001b[0m\n\u001b[0;32m      1\u001b[0m \u001b[38;5;28;01mdef\u001b[39;00m \u001b[38;5;21mis_word_in_list\u001b[39m(word, list_of_words):\n\u001b[1;32m----> 2\u001b[0m     \u001b[38;5;28;01mif\u001b[39;00m \u001b[43mword\u001b[49m\u001b[43m \u001b[49m\u001b[38;5;129;43;01min\u001b[39;49;00m\u001b[43m \u001b[49m\u001b[43mlist_of_words\u001b[49m:\n\u001b[0;32m      3\u001b[0m         \u001b[38;5;28;01mreturn\u001b[39;00m \u001b[38;5;28;01mTrue\u001b[39;00m\n\u001b[0;32m      4\u001b[0m     \u001b[38;5;28;01melse\u001b[39;00m:\n",
      "\u001b[1;31mTypeError\u001b[0m: 'in <string>' requires string as left operand, not list"
     ]
    }
   ],
   "source": [
    "def is_word_in_list(word, list_of_words):\n",
    "    if word in list_of_words:\n",
    "        return True\n",
    "    else:\n",
    "        return False\n",
    "\n",
    "# if I call this function with inverse parameters\n",
    "\n",
    "is_word_in_list([\"a\",\"b\",\"c\"], \"c\")"
   ]
  },
  {
   "cell_type": "code",
   "execution_count": 14,
   "id": "a4bfda54-0bec-4910-9f41-8e4346e47e18",
   "metadata": {},
   "outputs": [
    {
     "data": {
      "text/plain": [
       "True"
      ]
     },
     "execution_count": 14,
     "metadata": {},
     "output_type": "execute_result"
    }
   ],
   "source": [
    "is_word_in_list(\"c\", [\"a\",\"b\",\"c\"])"
   ]
  },
  {
   "cell_type": "markdown",
   "id": "4a08d06d-50ec-49d5-89db-2950f8de1c47",
   "metadata": {},
   "source": [
    "**Another way is to explictly tell python which parameters you are using when you call the function**"
   ]
  },
  {
   "cell_type": "code",
   "execution_count": 16,
   "id": "62622e44-7317-4fc3-9a50-15df5e72a795",
   "metadata": {},
   "outputs": [
    {
     "data": {
      "text/plain": [
       "True"
      ]
     },
     "execution_count": 16,
     "metadata": {},
     "output_type": "execute_result"
    }
   ],
   "source": [
    "def is_word_in_list(word, list_of_words):\n",
    "    if word in list_of_words:\n",
    "        return True\n",
    "    else:\n",
    "        return False\n",
    "\n",
    "\n",
    "is_word_in_list(list_of_words=[\"a\",\"b\",\"c\"], word=\"c\") # if you want to be specific as to what parameter is represented by which value (if you\n",
    "# do not follow the order)"
   ]
  },
  {
   "cell_type": "code",
   "execution_count": null,
   "id": "f73399a3-a3ee-4f50-b960-459614ac1c39",
   "metadata": {},
   "outputs": [],
   "source": []
  }
 ],
 "metadata": {
  "kernelspec": {
   "display_name": "Python 3 (ipykernel)",
   "language": "python",
   "name": "python3"
  },
  "language_info": {
   "codemirror_mode": {
    "name": "ipython",
    "version": 3
   },
   "file_extension": ".py",
   "mimetype": "text/x-python",
   "name": "python",
   "nbconvert_exporter": "python",
   "pygments_lexer": "ipython3",
   "version": "3.8.10"
  }
 },
 "nbformat": 4,
 "nbformat_minor": 5
}
