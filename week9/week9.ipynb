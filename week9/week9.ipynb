{
 "cells": [
  {
   "cell_type": "markdown",
   "metadata": {
    "id": "2QH0LBPqG7MB"
   },
   "source": [
    "# Week 9: More ways to handle files"
   ]
  },
  {
   "cell_type": "markdown",
   "metadata": {
    "id": "Tk44Z_chHDG9"
   },
   "source": [
    "### From previous episodes\n",
    "\n",
    "To read data from a file in Python, we can use the **open()** function along with the file mode **'r'** (read mode). The **with** statement is used to automatically close a file when the indentation is done. The method **.read()** is used to read the content of a file and store them as a string somewhere."
   ]
  },
  {
   "cell_type": "markdown",
   "metadata": {},
   "source": [
    "# However\n",
    "\n",
    "We also know that in Python, you can put block of codes into functions, and you can also import libraries that let you do many steps with less lines of code"
   ]
  },
  {
   "cell_type": "markdown",
   "metadata": {
    "id": "YLxtPCqcmaW3"
   },
   "source": [
    "## Pandas\n",
    "\n",
    "**pandas** is a powerful library in Python for data manipulation and analysis. It provides a DataFrame object, which is a two-dimensional table-like data structure, similar to a spreadsheet or a SQL table. These are some commonly used functions and methods available with **pandas** **DataFrames**:\n",
    "\n",
    "1. Creating a DataFrame:\n",
    "   - `pd.DataFrame(data)`: Creates a DataFrame from a dictionary, or a list of dictionaries.\n",
    "   - `pd.read_csv('filename.csv')`: Reads a CSV file and returns a DataFrame.\n",
    "\n",
    "2. Exploring the DataFrame:\n",
    "   - `df.columns()`: Returns a list of columns of the DataFrame. You should write `df.columns.tolist()` to get a proper list\n",
    "   - `df.head(n)`: Returns the first `n` rows of the DataFrame.\n",
    "   - `df.tail(n)`: Returns the last `n` rows of the DataFrame.\n",
    "   - `df.info()`: Provides a summary of the DataFrame, including column names, data types, and non-null counts.\n",
    "   - `df.shape`: Returns the dimensions of the DataFrame (number of rows, number of columns).\n",
    "   - `df.describe()`: Generates descriptive statistics of numerical columns, such as count, mean, min, max, etc.\n",
    "\n",
    "3. Accessing and manipulating data:\n",
    "   - `df[column_name]`: Returns a specific column as a Series.\n",
    "   - `df[[col1, col2, ...]]`: Returns a subset of columns as a new DataFrame.\n",
    "   - `df.loc[row_label, column_label]`: Accesses a specific element or a range of elements using labels.\n",
    "   - `df['new_column'] = value`: Adds a new column with a specified value.\n",
    "   - `df.drop(columns=['col1', 'col2'])`: Removes specified columns from the DataFrame.\n",
    "\n",
    "4. Data manipulation:\n",
    "   - `df.sort_values(by='column')`: Sorts the DataFrame by a specific column.\n",
    "   - `df.groupby('column')`: Groups the DataFrame by a specific column.\n",
    "   - `df.pivot_table(values='value', index='index_col', columns='col')`: Creates a pivot table from the DataFrame.\n",
    "   - `df.apply(function)`: Applies a function to each element, row, or column of the DataFrame.\n",
    "   - `df.replace(old, new)`: Replaces values in the DataFrame with new values.\n",
    "   - `df.merge(other_df, on='column')`: Combines two DataFrames based on a common column.\n",
    "\n",
    "5. Data aggregation and summarization:\n",
    "   - `df.groupby('column').mean()`: Computes the mean value for each group.\n",
    "   - `df.groupby('column').sum()`: Computes the sum for each group.\n",
    "   - `df.groupby('column').count()`: Computes the count for each group.\n",
    "   - `df.groupby('column').max()`: Finds the maximum value for each group.\n",
    "   - `df.groupby('column').min()`: Finds the minimum value for each group.\n",
    "\n",
    "Of course there is more to pandas, I link the documentation below if you want to know more.\n",
    "**Important**\n",
    "**Pandas** is not a built-in library in python, which means you must install it before using it.\n",
    "\n",
    "`!pip install pandas`"
   ]
  },
  {
   "cell_type": "code",
   "execution_count": null,
   "metadata": {},
   "outputs": [],
   "source": [
    "!pip install pandas"
   ]
  },
  {
   "cell_type": "code",
   "execution_count": null,
   "metadata": {
    "executionInfo": {
     "elapsed": 233,
     "status": "ok",
     "timestamp": 1684327906042,
     "user": {
      "displayName": "Bruno Sartini",
      "userId": "05292936127254060969"
     },
     "user_tz": -120
    },
    "id": "8W1THAX-J075"
   },
   "outputs": [],
   "source": [
    "import pandas as pd\n",
    "\n",
    "# Creating a DataFrame from a dictionary\n",
    "data = {'Name': ['John', 'Emily', 'Charlie'],\n",
    "        'Age': [25, 30, 35]}\n",
    "df1 = pd.DataFrame(data)\n",
    "\n",
    "# Creating a DataFrame from a CSV file\n",
    "df = pd.read_csv('pandascsv.csv')\n"
   ]
  },
  {
   "cell_type": "code",
   "execution_count": null,
   "metadata": {},
   "outputs": [],
   "source": [
    "df"
   ]
  },
  {
   "cell_type": "code",
   "execution_count": null,
   "metadata": {
    "colab": {
     "base_uri": "https://localhost:8080/",
     "height": 174
    },
    "executionInfo": {
     "elapsed": 233,
     "status": "ok",
     "timestamp": 1684327214584,
     "user": {
      "displayName": "Bruno Sartini",
      "userId": "05292936127254060969"
     },
     "user_tz": -120
    },
    "id": "wicSVFSLt-Kl",
    "outputId": "0f4fe30a-21be-4f8b-9e65-7bbdedf51e61"
   },
   "outputs": [],
   "source": [
    "# Getting the first 5 rows of the DataFrame\n",
    "df.head()\n",
    "\n"
   ]
  },
  {
   "cell_type": "code",
   "execution_count": null,
   "metadata": {
    "colab": {
     "base_uri": "https://localhost:8080/",
     "height": 174
    },
    "executionInfo": {
     "elapsed": 3,
     "status": "ok",
     "timestamp": 1684327218915,
     "user": {
      "displayName": "Bruno Sartini",
      "userId": "05292936127254060969"
     },
     "user_tz": -120
    },
    "id": "8mJHezMTuPxN",
    "outputId": "9f1c0478-d6f5-4d32-d6d6-7a54499c6fa2"
   },
   "outputs": [],
   "source": [
    "\n",
    "# Getting the last 5 rows of the DataFrame\n",
    "df.tail() \n",
    "# the dataframe is very short in this case, so that is why head and tail are\n",
    "# the same\n",
    "\n"
   ]
  },
  {
   "cell_type": "code",
   "execution_count": null,
   "metadata": {
    "colab": {
     "base_uri": "https://localhost:8080/"
    },
    "executionInfo": {
     "elapsed": 223,
     "status": "ok",
     "timestamp": 1684327245926,
     "user": {
      "displayName": "Bruno Sartini",
      "userId": "05292936127254060969"
     },
     "user_tz": -120
    },
    "id": "kBx6jDLfuXPc",
    "outputId": "082f3a87-d763-4cac-cd08-1e02d1cb908e"
   },
   "outputs": [],
   "source": [
    "# Getting summary information about the DataFrame\n",
    "df.info()\n",
    "\n"
   ]
  },
  {
   "cell_type": "code",
   "execution_count": null,
   "metadata": {
    "colab": {
     "base_uri": "https://localhost:8080/"
    },
    "executionInfo": {
     "elapsed": 2,
     "status": "ok",
     "timestamp": 1684327257496,
     "user": {
      "displayName": "Bruno Sartini",
      "userId": "05292936127254060969"
     },
     "user_tz": -120
    },
    "id": "DPenlBxFuYxL",
    "outputId": "fd16c489-4893-40b2-d0a2-1c127f2c8050"
   },
   "outputs": [],
   "source": [
    "# Getting the dimensions of the DataFrame\n",
    "df.shape\n",
    "\n"
   ]
  },
  {
   "cell_type": "code",
   "execution_count": null,
   "metadata": {
    "colab": {
     "base_uri": "https://localhost:8080/",
     "height": 300
    },
    "executionInfo": {
     "elapsed": 3,
     "status": "ok",
     "timestamp": 1684327260104,
     "user": {
      "displayName": "Bruno Sartini",
      "userId": "05292936127254060969"
     },
     "user_tz": -120
    },
    "id": "LwOOPsmtuZ9c",
    "outputId": "f4e2f22b-266d-4e10-da76-609e30eb70bf"
   },
   "outputs": [],
   "source": [
    "# Generating descriptive statistics of numerical columns\n",
    "df.describe()"
   ]
  },
  {
   "cell_type": "markdown",
   "metadata": {},
   "source": [
    "# Insight: percentiles\n",
    "\"a value on a scale of 100 that indicates the percent of a distribution that is equal to or below it\" (Merriam Webster)\n",
    "\n",
    "\"Percentiles are a type of quantiles, obtained adopting a subdivision into 100 groups. The 25th percentile is also known as the first quartile (Q1), the 50th percentile as the median or second quartile (Q2), and the 75th percentile as the third quartile (Q3). For example, the 50th percentile (median) is the score below (or at or below, depending on the definition) which 50% of the scores in the distribution are found.\" (Wikipedia)\n",
    "\n",
    "“Percentile.” Merriam-Webster.com Dictionary, Merriam-Webster, https://www.merriam-webster.com/dictionary/percentile. Accessed 30 Jan. 2025.\n",
    "“Percentile.” Wikipedia.org, Wikipedia Collaborators, https://en.wikipedia.org/wiki/Percentile. Accessed 30 Jan. 2025.\n"
   ]
  },
  {
   "cell_type": "code",
   "execution_count": null,
   "metadata": {
    "executionInfo": {
     "elapsed": 227,
     "status": "ok",
     "timestamp": 1684327611325,
     "user": {
      "displayName": "Bruno Sartini",
      "userId": "05292936127254060969"
     },
     "user_tz": -120
    },
    "id": "EqG3M2Yhulwv"
   },
   "outputs": [],
   "source": [
    "# Accessing a specific column as a Series\n",
    "column = df['Salary']"
   ]
  },
  {
   "cell_type": "code",
   "execution_count": null,
   "metadata": {
    "colab": {
     "base_uri": "https://localhost:8080/"
    },
    "executionInfo": {
     "elapsed": 335,
     "status": "ok",
     "timestamp": 1684327626237,
     "user": {
      "displayName": "Bruno Sartini",
      "userId": "05292936127254060969"
     },
     "user_tz": -120
    },
    "id": "K8BqhRq5v8gX",
    "outputId": "e67f301f-64e2-47f9-8667-dd94fac31a92"
   },
   "outputs": [],
   "source": [
    "list(column)"
   ]
  },
  {
   "cell_type": "code",
   "execution_count": null,
   "metadata": {
    "executionInfo": {
     "elapsed": 288,
     "status": "ok",
     "timestamp": 1684327637095,
     "user": {
      "displayName": "Bruno Sartini",
      "userId": "05292936127254060969"
     },
     "user_tz": -120
    },
    "id": "dgjcKiLYv0q9"
   },
   "outputs": [],
   "source": [
    "# Accessing a subset of columns as a new DataFrame\n",
    "subset = df[['Name', 'Age']]"
   ]
  },
  {
   "cell_type": "code",
   "execution_count": null,
   "metadata": {
    "colab": {
     "base_uri": "https://localhost:8080/",
     "height": 174
    },
    "executionInfo": {
     "elapsed": 218,
     "status": "ok",
     "timestamp": 1684327638275,
     "user": {
      "displayName": "Bruno Sartini",
      "userId": "05292936127254060969"
     },
     "user_tz": -120
    },
    "id": "4PpDG3aTwAoB",
    "outputId": "3b5ee721-9e94-4dae-bee2-7c55c4c451d2"
   },
   "outputs": [],
   "source": [
    "subset"
   ]
  },
  {
   "cell_type": "code",
   "execution_count": null,
   "metadata": {
    "executionInfo": {
     "elapsed": 2,
     "status": "ok",
     "timestamp": 1684327648146,
     "user": {
      "displayName": "Bruno Sartini",
      "userId": "05292936127254060969"
     },
     "user_tz": -120
    },
    "id": "L3S4ylEIv2n0"
   },
   "outputs": [],
   "source": [
    "\n",
    "# Accessing a specific element using labels\n",
    "element = df.loc[0, 'Name']"
   ]
  },
  {
   "cell_type": "code",
   "execution_count": null,
   "metadata": {
    "colab": {
     "base_uri": "https://localhost:8080/",
     "height": 35
    },
    "executionInfo": {
     "elapsed": 3,
     "status": "ok",
     "timestamp": 1684327651078,
     "user": {
      "displayName": "Bruno Sartini",
      "userId": "05292936127254060969"
     },
     "user_tz": -120
    },
    "id": "YKZKnX6UwEFF",
    "outputId": "8547ee34-adae-40e8-c55d-c23d3396857d"
   },
   "outputs": [],
   "source": [
    "element"
   ]
  },
  {
   "cell_type": "code",
   "execution_count": null,
   "metadata": {
    "executionInfo": {
     "elapsed": 236,
     "status": "ok",
     "timestamp": 1684327910334,
     "user": {
      "displayName": "Bruno Sartini",
      "userId": "05292936127254060969"
     },
     "user_tz": -120
    },
    "id": "-cvletKCv4du"
   },
   "outputs": [],
   "source": [
    "\n",
    "# Adding a new column with a specified value\n",
    "df['Relationship Status'] = 'Single'"
   ]
  },
  {
   "cell_type": "code",
   "execution_count": null,
   "metadata": {
    "colab": {
     "base_uri": "https://localhost:8080/",
     "height": 174
    },
    "executionInfo": {
     "elapsed": 354,
     "status": "ok",
     "timestamp": 1684327911906,
     "user": {
      "displayName": "Bruno Sartini",
      "userId": "05292936127254060969"
     },
     "user_tz": -120
    },
    "id": "rV6nnOihwHYR",
    "outputId": "2bbf4b0b-831e-4d60-9679-64e21a96bf8e"
   },
   "outputs": [],
   "source": [
    "df"
   ]
  },
  {
   "cell_type": "code",
   "execution_count": null,
   "metadata": {
    "executionInfo": {
     "elapsed": 208,
     "status": "ok",
     "timestamp": 1684327914714,
     "user": {
      "displayName": "Bruno Sartini",
      "userId": "05292936127254060969"
     },
     "user_tz": -120
    },
    "id": "ayiLube5whJJ"
   },
   "outputs": [],
   "source": [
    " #changing the content of a specific\n",
    "#cell\n",
    "for i, content in enumerate(df[\"Name\"]):\n",
    "    if content == \"John\":\n",
    "        df.at[i, \"Relationship Status\"] = \"Complicated story\"\n",
    "        print(df[\"City\"][i])"
   ]
  },
  {
   "cell_type": "code",
   "execution_count": null,
   "metadata": {
    "colab": {
     "base_uri": "https://localhost:8080/",
     "height": 174
    },
    "executionInfo": {
     "elapsed": 237,
     "status": "ok",
     "timestamp": 1684327916856,
     "user": {
      "displayName": "Bruno Sartini",
      "userId": "05292936127254060969"
     },
     "user_tz": -120
    },
    "id": "KSZhmf6iwnPj",
    "outputId": "a8543332-c8f9-4d97-fc9a-d9b62b1dc5d8"
   },
   "outputs": [],
   "source": [
    "df"
   ]
  },
  {
   "cell_type": "code",
   "execution_count": null,
   "metadata": {},
   "outputs": [],
   "source": [
    "# You can also add a new column by using a list,\n",
    "# make sure that the list length is the same as the number of rows in the df\n",
    "# Also the order in which the items matters, first item will be attached to the first row,\n",
    "# etc...\n",
    "\n",
    "df[\"Relationship Status\"] = [\"Single\", \"Married\", \"Complicated Story\", \"No comment\"]"
   ]
  },
  {
   "cell_type": "code",
   "execution_count": null,
   "metadata": {},
   "outputs": [],
   "source": [
    "df"
   ]
  },
  {
   "cell_type": "code",
   "execution_count": null,
   "metadata": {
    "colab": {
     "base_uri": "https://localhost:8080/",
     "height": 174
    },
    "executionInfo": {
     "elapsed": 213,
     "status": "ok",
     "timestamp": 1684327925074,
     "user": {
      "displayName": "Bruno Sartini",
      "userId": "05292936127254060969"
     },
     "user_tz": -120
    },
    "id": "unuAAFcjv6Fc",
    "outputId": "cb5f8531-30d8-483f-fb87-8a787370ebf4"
   },
   "outputs": [],
   "source": [
    "\n",
    "# Removing specified columns from the DataFrame\n",
    "df.drop(columns=['Relationship Status'])"
   ]
  },
  {
   "cell_type": "code",
   "execution_count": null,
   "metadata": {
    "colab": {
     "base_uri": "https://localhost:8080/",
     "height": 174
    },
    "executionInfo": {
     "elapsed": 3,
     "status": "ok",
     "timestamp": 1684328083912,
     "user": {
      "displayName": "Bruno Sartini",
      "userId": "05292936127254060969"
     },
     "user_tz": -120
    },
    "id": "mrI8SvJIxIM6",
    "outputId": "2041ed23-f6b0-46b8-eefa-41a1fb777bff"
   },
   "outputs": [],
   "source": [
    "# Sorting the DataFrame by a specific column\n",
    "df = df.sort_values(by='Name')\n",
    "\n",
    "\n"
   ]
  },
  {
   "cell_type": "code",
   "execution_count": null,
   "metadata": {},
   "outputs": [],
   "source": [
    "df"
   ]
  },
  {
   "cell_type": "code",
   "execution_count": null,
   "metadata": {
    "executionInfo": {
     "elapsed": 319,
     "status": "ok",
     "timestamp": 1684328087528,
     "user": {
      "displayName": "Bruno Sartini",
      "userId": "05292936127254060969"
     },
     "user_tz": -120
    },
    "id": "qMAqeQd_xhvp"
   },
   "outputs": [],
   "source": [
    "# Grouping the DataFrame by a specific column\n",
    "grouped = df.groupby('City')\n",
    "\n",
    "# we see later what happens with grouped\n",
    "\n"
   ]
  },
  {
   "cell_type": "code",
   "execution_count": null,
   "metadata": {
    "colab": {
     "base_uri": "https://localhost:8080/"
    },
    "executionInfo": {
     "elapsed": 2,
     "status": "ok",
     "timestamp": 1684328103368,
     "user": {
      "displayName": "Bruno Sartini",
      "userId": "05292936127254060969"
     },
     "user_tz": -120
    },
    "id": "PqyO82a9xwgC",
    "outputId": "d79426de-75a7-4dcc-f200-add2ed4e1b4b"
   },
   "outputs": [],
   "source": []
  },
  {
   "cell_type": "code",
   "execution_count": null,
   "metadata": {
    "colab": {
     "base_uri": "https://localhost:8080/",
     "height": 174
    },
    "executionInfo": {
     "elapsed": 412,
     "status": "ok",
     "timestamp": 1684328144456,
     "user": {
      "displayName": "Bruno Sartini",
      "userId": "05292936127254060969"
     },
     "user_tz": -120
    },
    "id": "TTF3q1izxkwN",
    "outputId": "5bea0b08-12aa-4a71-8adc-23af3abbab97"
   },
   "outputs": [],
   "source": [
    "# Applying a function to each element, row, or column of the DataFrame\n",
    "df.apply(lambda x: x * 2) # this is just for showing, lambda is actually quite\n",
    "#complex and I will not ask you to use it\n",
    "\n"
   ]
  },
  {
   "cell_type": "code",
   "execution_count": null,
   "metadata": {
    "executionInfo": {
     "elapsed": 2,
     "status": "ok",
     "timestamp": 1684329005262,
     "user": {
      "displayName": "Bruno Sartini",
      "userId": "05292936127254060969"
     },
     "user_tz": -120
    },
    "id": "ycIpEHMixmaa"
   },
   "outputs": [],
   "source": [
    "# Replacing values in the DataFrame with new values\n",
    "df = df.replace('New York', 'Los Angeles')\n"
   ]
  },
  {
   "cell_type": "code",
   "execution_count": null,
   "metadata": {},
   "outputs": [],
   "source": [
    "df"
   ]
  },
  {
   "cell_type": "code",
   "execution_count": null,
   "metadata": {},
   "outputs": [],
   "source": [
    "df1"
   ]
  },
  {
   "cell_type": "code",
   "execution_count": null,
   "metadata": {
    "executionInfo": {
     "elapsed": 1,
     "status": "ok",
     "timestamp": 1684328315235,
     "user": {
      "displayName": "Bruno Sartini",
      "userId": "05292936127254060969"
     },
     "user_tz": -120
    },
    "id": "YCkFvVCdxnr2"
   },
   "outputs": [],
   "source": [
    "\n",
    "# Combining two DataFrames based on a common column\n",
    "merged = df.merge(df1, on='Name')"
   ]
  },
  {
   "cell_type": "code",
   "execution_count": null,
   "metadata": {},
   "outputs": [],
   "source": [
    "merged"
   ]
  },
  {
   "cell_type": "markdown",
   "metadata": {
    "id": "sd2whtRZz0k6"
   },
   "source": [
    "Merge will automatically add suffixes to your dataframes columns if the merged dataframes share the name of the columns. If you don't want to have any suffixes added to the column names during the merge operation, you can specify the suffixes parameter as an empty string ''. This will keep the original column names intact without any modifications."
   ]
  },
  {
   "cell_type": "code",
   "execution_count": null,
   "metadata": {
    "colab": {
     "base_uri": "https://localhost:8080/"
    },
    "executionInfo": {
     "elapsed": 208,
     "status": "ok",
     "timestamp": 1684328667971,
     "user": {
      "displayName": "Bruno Sartini",
      "userId": "05292936127254060969"
     },
     "user_tz": -120
    },
    "id": "14O0O4hkzzdj",
    "outputId": "0bb646f6-84a6-4013-f579-5a46b58022dd"
   },
   "outputs": [],
   "source": [
    "import pandas as pd\n",
    "\n",
    "# Create the first DataFrame\n",
    "data1 = {'ID': [1, 2, 3],\n",
    "         'Name': ['John', 'Alice', 'Bob'],\n",
    "        \"Age\":[10,12,15]}\n",
    "df1 = pd.DataFrame(data1)\n",
    "\n",
    "# Create the second DataFrame\n",
    "data2 = {'ID': [2, 3, 4],\n",
    "         'Age': [30, 35, 40]}\n",
    "df2 = pd.DataFrame(data2)\n",
    "\n",
    "# Merge the DataFrames without suffixes\n",
    "merged_df = df1.merge(df2, on='ID', suffixes=('a', 'a'))\n",
    "\n",
    "# Print the merged DataFrame\n",
    "print(merged_df)\n"
   ]
  },
  {
   "cell_type": "markdown",
   "metadata": {
    "id": "xFdQ0s5Ay3H-"
   },
   "source": [
    "To add the content of one DataFrame to another DataFrame, you can use the `concat()` function.\n",
    "\n",
    "It will combine the rows of the two DataFrames vertically, effectively adding the content of one DataFrame to another."
   ]
  },
  {
   "cell_type": "code",
   "execution_count": null,
   "metadata": {
    "colab": {
     "base_uri": "https://localhost:8080/"
    },
    "executionInfo": {
     "elapsed": 5,
     "status": "ok",
     "timestamp": 1684328411214,
     "user": {
      "displayName": "Bruno Sartini",
      "userId": "05292936127254060969"
     },
     "user_tz": -120
    },
    "id": "8MB803qny8_o",
    "outputId": "b47f1174-a06e-4a84-c10f-682e34faed93"
   },
   "outputs": [],
   "source": [
    "\n",
    "import pandas as pd\n",
    "\n",
    "# Create the first DataFrame\n",
    "data1 = {'Name': ['John', 'Alice', 'Bob'],\n",
    "         'Age': [25, 30, 35]}\n",
    "df1 = pd.DataFrame(data1)\n",
    "\n",
    "# Create the second DataFrame\n",
    "data2 = {'Name': ['Charlie', 'David'],\n",
    "         'Age': [40, 45]}\n",
    "df2 = pd.DataFrame(data2)\n",
    "\n",
    "# Concatenate the two DataFrames vertically\n",
    "concatenated_df = pd.concat([df1, df2])\n",
    "\n",
    "# Print the concatenated DataFrame\n",
    "print(concatenated_df)"
   ]
  },
  {
   "cell_type": "code",
   "execution_count": null,
   "metadata": {
    "executionInfo": {
     "elapsed": 2,
     "status": "ok",
     "timestamp": 1684328813292,
     "user": {
      "displayName": "Bruno Sartini",
      "userId": "05292936127254060969"
     },
     "user_tz": -120
    },
    "id": "qxKioDau0bpV"
   },
   "outputs": [],
   "source": [
    "concatenated_df = concatenated_df.reset_index()"
   ]
  },
  {
   "cell_type": "code",
   "execution_count": null,
   "metadata": {},
   "outputs": [],
   "source": [
    "concatenated_df.shape[0]"
   ]
  },
  {
   "cell_type": "code",
   "execution_count": null,
   "metadata": {
    "colab": {
     "base_uri": "https://localhost:8080/",
     "height": 206
    },
    "executionInfo": {
     "elapsed": 350,
     "status": "ok",
     "timestamp": 1684328815436,
     "user": {
      "displayName": "Bruno Sartini",
      "userId": "05292936127254060969"
     },
     "user_tz": -120
    },
    "id": "GRGoNTFF0P51",
    "outputId": "68e45ecc-5862-41b7-c02a-f4478e61ab42"
   },
   "outputs": [],
   "source": [
    "concatenated_df.drop(columns=\"index\")"
   ]
  },
  {
   "cell_type": "code",
   "execution_count": null,
   "metadata": {},
   "outputs": [],
   "source": [
    "df"
   ]
  },
  {
   "cell_type": "markdown",
   "metadata": {
    "id": "_UiTCh5Y0jYl"
   },
   "source": [
    "## Data aggregation and summarization"
   ]
  },
  {
   "cell_type": "code",
   "execution_count": null,
   "metadata": {
    "executionInfo": {
     "elapsed": 3,
     "status": "ok",
     "timestamp": 1684329011086,
     "user": {
      "displayName": "Bruno Sartini",
      "userId": "05292936127254060969"
     },
     "user_tz": -120
    },
    "id": "tZuH4L3c0w02"
   },
   "outputs": [],
   "source": [
    "grouped = df.groupby('City')"
   ]
  },
  {
   "cell_type": "code",
   "execution_count": null,
   "metadata": {
    "colab": {
     "base_uri": "https://localhost:8080/",
     "height": 174
    },
    "executionInfo": {
     "elapsed": 5,
     "status": "ok",
     "timestamp": 1684329011976,
     "user": {
      "displayName": "Bruno Sartini",
      "userId": "05292936127254060969"
     },
     "user_tz": -120
    },
    "id": "arI-s-yuzMnB",
    "outputId": "09f3fb03-6c0d-416a-9a0b-5c1d422d6e0a"
   },
   "outputs": [],
   "source": [
    "# Computing the mean value for each group\n",
    "grouped.mean(numeric_only = True)"
   ]
  },
  {
   "cell_type": "code",
   "execution_count": null,
   "metadata": {
    "colab": {
     "base_uri": "https://localhost:8080/",
     "height": 174
    },
    "executionInfo": {
     "elapsed": 3,
     "status": "ok",
     "timestamp": 1684329016087,
     "user": {
      "displayName": "Bruno Sartini",
      "userId": "05292936127254060969"
     },
     "user_tz": -120
    },
    "id": "Wlsl5_3R04bd",
    "outputId": "b3a89066-3fc8-4b80-9374-fe37a565022f"
   },
   "outputs": [],
   "source": [
    "# Computing the sum for each group\n",
    "grouped.sum(numeric_only=True)"
   ]
  },
  {
   "cell_type": "code",
   "execution_count": null,
   "metadata": {
    "colab": {
     "base_uri": "https://localhost:8080/",
     "height": 174
    },
    "executionInfo": {
     "elapsed": 3,
     "status": "ok",
     "timestamp": 1684329032319,
     "user": {
      "displayName": "Bruno Sartini",
      "userId": "05292936127254060969"
     },
     "user_tz": -120
    },
    "id": "st2b7cvH1Gv5",
    "outputId": "e98cf4b4-63d5-4f2d-9a94-9b91b2833d46"
   },
   "outputs": [],
   "source": [
    "# Computing the count for each group\n",
    "grouped.count()"
   ]
  },
  {
   "cell_type": "code",
   "execution_count": null,
   "metadata": {
    "colab": {
     "base_uri": "https://localhost:8080/",
     "height": 174
    },
    "executionInfo": {
     "elapsed": 4,
     "status": "ok",
     "timestamp": 1684329044103,
     "user": {
      "displayName": "Bruno Sartini",
      "userId": "05292936127254060969"
     },
     "user_tz": -120
    },
    "id": "T_F9rm381U2j",
    "outputId": "95a6e75d-8ad0-4b95-f2f6-a2d666c409e4"
   },
   "outputs": [],
   "source": [
    "# Finding the maximum value for each group\n",
    "grouped.max(numeric_only=True)"
   ]
  },
  {
   "cell_type": "code",
   "execution_count": null,
   "metadata": {
    "colab": {
     "base_uri": "https://localhost:8080/",
     "height": 174
    },
    "executionInfo": {
     "elapsed": 3,
     "status": "ok",
     "timestamp": 1684329058433,
     "user": {
      "displayName": "Bruno Sartini",
      "userId": "05292936127254060969"
     },
     "user_tz": -120
    },
    "id": "xHo3yABA1ZQU",
    "outputId": "09e795ed-fa81-443c-f2ce-ba5ee8426419"
   },
   "outputs": [],
   "source": [
    "# Finding the minimum value for each group\n",
    "grouped.min(numeric_only=True)"
   ]
  },
  {
   "cell_type": "markdown",
   "metadata": {
    "id": "HcJinIwn282q"
   },
   "source": [
    "## What is a pivot table?\n",
    "\n",
    "A pivot table is a data summarization technique in pandas that allows you to restructure and analyze data by grouping and aggregating it based on specific criteria. It provides a way to create a multi-dimensional table where data can be viewed from different perspectives.\n",
    "\n",
    "In a pivot table, you can specify one or more columns as the index, another column as the columns, and a third column as the values. The values in the table are then aggregated based on the combinations of index and column values.\n",
    "\n",
    "The **pivot_table()** function in pandas is used to create a pivot table from a DataFrame. It takes several parameters, including values, index, and columns, to specify the columns to be aggregated, the rows for the index, and the columns for the columns."
   ]
  },
  {
   "cell_type": "code",
   "execution_count": null,
   "metadata": {
    "colab": {
     "base_uri": "https://localhost:8080/"
    },
    "executionInfo": {
     "elapsed": 226,
     "status": "ok",
     "timestamp": 1684329508093,
     "user": {
      "displayName": "Bruno Sartini",
      "userId": "05292936127254060969"
     },
     "user_tz": -120
    },
    "id": "KBfoQqYA1cr9",
    "outputId": "19d82b17-8b35-4d4c-f9fc-33cef4ed37cf"
   },
   "outputs": [],
   "source": [
    "import pandas as pd\n",
    "\n",
    "# Create a sample DataFrame\n",
    "data = {'Name': ['John', 'Emily', 'Charlie', 'Emily', 'John'],\n",
    "        'City': ['New York', 'Los Angeles', 'New York', 'Los Angeles', 'New York'],\n",
    "        'Sales': [1000, 2000, 1500, 3000, 2500]}\n",
    "df = pd.DataFrame(data)\n",
    "\n",
    "# Create a pivot table to aggregate sales by name and city\n",
    "pivot_table = df.pivot_table(values='Sales', index='Name', columns='City', aggfunc='sum')\n",
    "\n",
    "print(pivot_table)\n"
   ]
  },
  {
   "cell_type": "markdown",
   "metadata": {
    "id": "6aImw18s5seM"
   },
   "source": [
    "## Iterating over rows of a dataframe\n",
    "\n",
    "We use **dataframe_name.iterrows()** to iterate over rows of a DataFrame"
   ]
  },
  {
   "cell_type": "code",
   "execution_count": null,
   "metadata": {
    "colab": {
     "base_uri": "https://localhost:8080/"
    },
    "executionInfo": {
     "elapsed": 232,
     "status": "ok",
     "timestamp": 1684330489638,
     "user": {
      "displayName": "Bruno Sartini",
      "userId": "05292936127254060969"
     },
     "user_tz": -120
    },
    "id": "rrveAP0v6oFk",
    "outputId": "e9918040-a0fe-468c-fb6b-d6129e888687"
   },
   "outputs": [],
   "source": [
    "import pandas as pd\n",
    "\n",
    "data = pd.read_csv('data.csv')\n",
    "for index, row in data.iterrows():\n",
    "    print(index)\n",
    "    print(row['Name'], row['Age'])\n"
   ]
  },
  {
   "cell_type": "markdown",
   "metadata": {
    "id": "Rup1y4xP3OO1"
   },
   "source": [
    "## Reading and Writing Excel Files with pandas\n",
    "\n",
    "You can use the **.read_excel(\"excel_filename\")** method to read excel data using Pandas. It might be required that you install additional libraries for this function.\n",
    "\n",
    "You can use the **dataframe.to_excel(\"excel_filename_for_output, index=either False or True)** to write the content of an excel file to a file.\n",
    "\n",
    "You need to install **openpyxl** package first to handle excel files."
   ]
  },
  {
   "cell_type": "code",
   "execution_count": null,
   "metadata": {},
   "outputs": [],
   "source": [
    "!pip install openpyxl"
   ]
  },
  {
   "cell_type": "code",
   "execution_count": null,
   "metadata": {
    "colab": {
     "base_uri": "https://localhost:8080/"
    },
    "executionInfo": {
     "elapsed": 554,
     "status": "ok",
     "timestamp": 1684329569247,
     "user": {
      "displayName": "Bruno Sartini",
      "userId": "05292936127254060969"
     },
     "user_tz": -120
    },
    "id": "HJWYlZ5U3XFd",
    "outputId": "af4b4046-6929-4def-92dc-05e5b8293f29"
   },
   "outputs": [],
   "source": [
    "data = pd.read_excel('data.xlsx')\n",
    "print(data)\n"
   ]
  },
  {
   "cell_type": "code",
   "execution_count": null,
   "metadata": {
    "executionInfo": {
     "elapsed": 204,
     "status": "ok",
     "timestamp": 1684329622821,
     "user": {
      "displayName": "Bruno Sartini",
      "userId": "05292936127254060969"
     },
     "user_tz": -120
    },
    "id": "CSMbbV5C3KiI"
   },
   "outputs": [],
   "source": [
    "data = {'Name': ['John', 'Sarah', 'Michael'], 'Age': [25, 30, 35]}\n",
    "df = pd.DataFrame(data)\n",
    "\n",
    "df.to_excel('output.xlsx', index=False)"
   ]
  },
  {
   "cell_type": "markdown",
   "metadata": {},
   "source": [
    "## More pandas\n",
    "\n",
    "Check the documentation [here](https://pandas.pydata.org/docs/)"
   ]
  },
  {
   "cell_type": "markdown",
   "metadata": {},
   "source": [
    "# Exercises\n",
    "\n",
    "## Dataset for testing\n",
    "\n",
    "Use the `unesco_heritage_sites.csv` to test the functions\n",
    "\r\n",
    "\r\n",
    "### Exercise 1: Basic Exploration\r\n",
    "**Develop a function `get_column_names(df)`** that takes a pandas DataFrame as input and returns a list of column names.\r\n",
    "\r\n",
    "---\r\n",
    "\r\n",
    "### Exercise 2: Filtering Data\r\n",
    "**Develop a function `filter_by_category(df, category)`** that takes a pandas DataFrame and a category (either `\"Cultural\"`, `\"Natural\"`, or ` in our case)Mixed\"`) and returns a new DataFrame containing only the rows that match the given  in the given columncategory.\r\n",
    "\r\n",
    "---\r\n",
    "\r\n",
    "### Exercise 3: Counting Rows\r\n",
    "**Develop a function `count_sites_per_country(df, country)`** that takes a pandas DataFrame and a country name as input and returns the number of heritage sites located in that country.\r\n",
    "\r\n",
    "---\r\n",
    "\r\n",
    "### Exercise 4: Sorting Data\r\n",
    "**Develop a function `get_top_visited_sites(df, n)`** that takes a DataFrame and a number `n` as input and returns the top `n` most visited heritage sites sorted in descending order.\r\n",
    "\r\n",
    "---\r\n",
    "\r\n",
    "### Exercise 5: Categorizing Sites by Visitors\r\n",
    "**Develop a function `categorize_sites_by_visitors(df)`** that adds a new column `\"VisitorCategory\"` to the DataFrame based on the number of visitors per year:\r\n",
    "- `\"High\"`: More than 5 million visitors\r\n",
    "- `\"Medium\"`: Between 1 and 5 million visitors\r\n",
    "- `\"Low\"`: Less than 1 million visitors  \r\n",
    "\r\n",
    "The function should return the modified DataFrame.\r\n",
    "\r\n",
    "---\r\n",
    "\r\n",
    "### Exercise 6: Counting Threatened Sites\r\n",
    "**Develop a function `count_threatened_sites(df)`** that returns the total number of threatened heritage sites.\r\n",
    "\r\n",
    "---\r\n",
    "\r\n",
    "### Exercise 7: Grouping by Country\r\n",
    "**Develop a function `get_site_counts_by_country(df)`** that returns a dictionary where each key is a country, and the value is the number of heritage sites in that country.\r\n",
    "\r\n",
    "---\r\n",
    "\r\n",
    "### Exercise 8: Finding Sites Inscribed Before a Given Year\r\n",
    "**Develop a function `sites_before_year(df, year)`** that takes a DataFrame and a year as input, returning a new DataFrame containing only the sites inscribed before that year.\r\n",
    "\r\n",
    "---\r\n",
    "\r\n",
    "### Exercise 9: Adding New Sites from a Dictionary\r\n",
    "**Develop a function `add_new_sites(df, new_sites_dict)`** that takes a DataFrame and a dictionary containing new heritage sites. The function should:\r\n",
    "1. Convert the dictionary into a new DataFrame.\r\n",
    "2. Concatenate it with the original DataFrame.\r\n",
    "3. Return the updated DataFrame.\r\n",
    "\r\n",
    "---\r\n",
    "\r\n",
    "### Exercise 10: Finding the Largest Site per Country\r\n",
    "**Develop a function `largest_site_per_country(df)`** that returns a new DataFrame containing only the largest heritage site (in terms of area) for each country.\r\n",
    "\r\n"
   ]
  },
  {
   "cell_type": "code",
   "execution_count": null,
   "metadata": {},
   "outputs": [],
   "source": [
    "# For exercise 9\n",
    "\n",
    "new_sites_dict = {\n",
    "    \"Name\": [\"Ancient Ruins of Tikal\", \"Great Zimbabwe National Monument\"],\n",
    "    \"Country\": [\"Guatemala\", \"Zimbabwe\"],\n",
    "    \"Category\": [\"Cultural\", \"Cultural\"],\n",
    "    \"Year Inscribed\": [1979, 1986],\n",
    "    \"Visitors Per Year\": [200000, 50000],\n",
    "    \"Threatened\": [False, False],\n",
    "    \"Area (sq km)\": [16, 7.2]\n",
    "}"
   ]
  }
 ],
 "metadata": {
  "colab": {
   "authorship_tag": "ABX9TyPSwVfos6mAS5t1tAKrZiyn",
   "provenance": []
  },
  "kernelspec": {
   "display_name": "Python 3 (ipykernel)",
   "language": "python",
   "name": "python3"
  },
  "language_info": {
   "codemirror_mode": {
    "name": "ipython",
    "version": 3
   },
   "file_extension": ".py",
   "mimetype": "text/x-python",
   "name": "python",
   "nbconvert_exporter": "python",
   "pygments_lexer": "ipython3",
   "version": "3.8.10"
  }
 },
 "nbformat": 4,
 "nbformat_minor": 4
}
