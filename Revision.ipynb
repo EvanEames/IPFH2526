{
 "cells": [
  {
   "cell_type": "markdown",
   "id": "b41e49f3-969c-40ef-9ef4-f2fa6ba15442",
   "metadata": {},
   "source": [
    "# Revision Checklist"
   ]
  },
  {
   "cell_type": "markdown",
   "id": "44b33d04-4208-4811-9579-ac7ff798f7d7",
   "metadata": {},
   "source": [
    "* data types (strings, integers, floats, **booleans**) <- how to impose them\n",
    "* the print function\n",
    "* string concatenation and formatting\n",
    "* mathematical operations (*\\**, *+*, *-*, */*, *//*, *%*, *\\*\\**)\n",
    "* difference between *=* and *==*\n",
    "* **special use of % to check if a number is even or odd**\n",
    "* **variables** and **definition of functions**\n",
    "* List and lists methods\n",
    "* Sets and sets methods\n",
    "* Dictionaries and dictionary methods\n",
    "* Tuples and tuples methods\n",
    "* Strings and string methods\n",
    "* **FOR LOOPS**\n",
    "* **WHILE LOOPS**\n",
    "* **CONDITIONAL STATEMENTS** (*if*, *else*,*elif*)\n",
    "* **BOOLEAN COMPARISONS** (*and*, *or*, *not*)\n",
    "* **INDENTATION**\n",
    "* The packages *csv*, *json*. *DictReader* as part of *csv*\n",
    "* Opening and closing files\n",
    "* *readers* and *writers*\n",
    "* Methods to open files (*w*,*a*,*r*)\n",
    "* **RANGE AND ENUMERATE as life savers**"
   ]
  },
  {
   "cell_type": "markdown",
   "id": "bac25fb9-6c9a-4297-ac08-a336fd0cb79f",
   "metadata": {},
   "source": [
    "# Enumerate to check two or more lists at a time and compare them"
   ]
  },
  {
   "cell_type": "markdown",
   "id": "55616283-c53c-45ec-a10c-bd96234a85e6",
   "metadata": {},
   "source": [
    "If I have two lists, I can iterate over both of them using enumerate or range on one of them, I can also compare them"
   ]
  },
  {
   "cell_type": "code",
   "execution_count": 2,
   "id": "9554b260-fa3b-4880-9ab1-7e382c4af6bb",
   "metadata": {},
   "outputs": [
    {
     "name": "stdout",
     "output_type": "stream",
     "text": [
      "1\n",
      "1\n",
      "2\n",
      "5\n",
      "3\n",
      "3\n",
      "4\n",
      "9\n"
     ]
    }
   ],
   "source": [
    "list_1 =  [1,2,3,4]\n",
    "list_2 = [1,5,3,9]\n",
    "\n",
    "for i in range(len(list_1)):\n",
    "    el_i_from_list1 = list_1[i]\n",
    "    el_i_from_list2 = list_2[i]\n",
    "    print(list_1[i])\n",
    "    print(list_2[i])"
   ]
  },
  {
   "cell_type": "code",
   "execution_count": 6,
   "id": "d59c5027-ff62-44c8-b008-87938a385a7c",
   "metadata": {},
   "outputs": [
    {
     "name": "stdout",
     "output_type": "stream",
     "text": [
      "10\n",
      "1 33\n",
      "5 99\n",
      "3 1000\n",
      "9 2191292\n"
     ]
    }
   ],
   "source": [
    "list_1 =  [10,2,3,4]\n",
    "list_2 = [1,5,3,9]\n",
    "list_3 = [33,99, 1000, 2191292]\n",
    "# the lists need to be on the same length otherwise you need more checks\n",
    "\n",
    "for i, el in enumerate(list_1):\n",
    "    if el > list_2[i]:\n",
    "        print(el)\n",
    "    if el > list_3[i]:\n",
    "        print(el)\n",
    "    else:\n",
    "        print(list_2[i], list_3[i])"
   ]
  },
  {
   "cell_type": "code",
   "execution_count": 11,
   "id": "9f0d50dd-0430-4477-a087-264780c921f8",
   "metadata": {},
   "outputs": [
    {
     "name": "stdout",
     "output_type": "stream",
     "text": [
      "10\n"
     ]
    }
   ],
   "source": [
    "list_1 =  [10,2,3,4,15]\n",
    "list_2 = [1,5,3,9]\n",
    "list_3 = [33,99, 1000, 2191292]\n",
    "# the lists need to be on the same length otherwise you need more checks\n",
    "\n",
    "for i, el in enumerate(list_1):\n",
    "    if len(list_2) > i:\n",
    "        if el > list_2[i]:\n",
    "            print(el)\n",
    "    if len(list_2) > i:\n",
    "        if el > list_3[i]:\n",
    "            print(el)"
   ]
  },
  {
   "cell_type": "code",
   "execution_count": 12,
   "id": "afde921c-bad7-4a50-9f79-4e27905f4b6f",
   "metadata": {},
   "outputs": [
    {
     "name": "stdout",
     "output_type": "stream",
     "text": [
      "10\n"
     ]
    },
    {
     "ename": "IndexError",
     "evalue": "list index out of range",
     "output_type": "error",
     "traceback": [
      "\u001b[1;31m---------------------------------------------------------------------------\u001b[0m",
      "\u001b[1;31mIndexError\u001b[0m                                Traceback (most recent call last)",
      "Cell \u001b[1;32mIn[12], line 3\u001b[0m\n\u001b[0;32m      1\u001b[0m \u001b[38;5;28;01mfor\u001b[39;00m i, el \u001b[38;5;129;01min\u001b[39;00m \u001b[38;5;28menumerate\u001b[39m(list_1):\n\u001b[0;32m      2\u001b[0m     \u001b[38;5;66;03m#if len(list_2) > i:\u001b[39;00m\n\u001b[1;32m----> 3\u001b[0m     \u001b[38;5;28;01mif\u001b[39;00m el \u001b[38;5;241m>\u001b[39m \u001b[43mlist_2\u001b[49m\u001b[43m[\u001b[49m\u001b[43mi\u001b[49m\u001b[43m]\u001b[49m:\n\u001b[0;32m      4\u001b[0m         \u001b[38;5;28mprint\u001b[39m(el)\n\u001b[0;32m      5\u001b[0m     \u001b[38;5;66;03m#if len(list_2) > i:\u001b[39;00m\n",
      "\u001b[1;31mIndexError\u001b[0m: list index out of range"
     ]
    }
   ],
   "source": [
    "for i, el in enumerate(list_1):\n",
    "    #if len(list_2) > i:\n",
    "    if el > list_2[i]:\n",
    "        print(el)\n",
    "    #if len(list_2) > i:\n",
    "    if el > list_3[i]:\n",
    "        print(el)"
   ]
  },
  {
   "cell_type": "code",
   "execution_count": 3,
   "id": "23560185-46c0-43c4-9c28-cd80074c796d",
   "metadata": {},
   "outputs": [],
   "source": [
    "a = True\n",
    "b = False\n",
    "\n",
    "c = (a or b) and (a and not(b))"
   ]
  },
  {
   "cell_type": "code",
   "execution_count": null,
   "id": "d8700f85-9732-43e7-8de9-2c6116029da6",
   "metadata": {},
   "outputs": [],
   "source": []
  }
 ],
 "metadata": {
  "kernelspec": {
   "display_name": "Python 3 (ipykernel)",
   "language": "python",
   "name": "python3"
  },
  "language_info": {
   "codemirror_mode": {
    "name": "ipython",
    "version": 3
   },
   "file_extension": ".py",
   "mimetype": "text/x-python",
   "name": "python",
   "nbconvert_exporter": "python",
   "pygments_lexer": "ipython3",
   "version": "3.10.1"
  }
 },
 "nbformat": 4,
 "nbformat_minor": 5
}
