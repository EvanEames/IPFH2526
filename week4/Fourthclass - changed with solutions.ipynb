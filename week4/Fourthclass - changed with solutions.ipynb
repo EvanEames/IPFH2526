{
 "cells": [
  {
   "cell_type": "markdown",
   "metadata": {
    "id": "Hh7K1NYziUki"
   },
   "source": [
    "## Modules"
   ]
  },
  {
   "cell_type": "markdown",
   "metadata": {},
   "source": [
    "Modules are a way to organize your code by putting related functions, classes, and variables into separate files. By doing this, you can keep your code organized and make it easier to maintain.\n",
    "\n",
    "* To create a module, we simply write the code in a separate .py file and import it in our main program using the import statement.\n",
    "\n",
    "Python has a number of built-in modules that can be used directly, such as math, random, and datetime.\n",
    "T\n",
    "* to install external modules, we can use a package manager such as pip or conda."
   ]
  },
  {
   "cell_type": "markdown",
   "metadata": {},
   "source": [
    "### Import a module"
   ]
  },
  {
   "cell_type": "markdown",
   "metadata": {},
   "source": [
    "To import a module, we use the **import keyword** followed by the **name of the module**.\n",
    "We can access the definitions and statements in the module using the \"**.**\" notation.\n",
    "For example, to use the \"sqrt()\" function from the math module, we would write: \"math.sqrt(4)\""
   ]
  },
  {
   "cell_type": "code",
   "execution_count": 1,
   "metadata": {},
   "outputs": [
    {
     "name": "stdout",
     "output_type": "stream",
     "text": [
      "3.0\n"
     ]
    }
   ],
   "source": [
    "import math\n",
    "\n",
    "print(math.sqrt(9))"
   ]
  },
  {
   "cell_type": "markdown",
   "metadata": {},
   "source": [
    "We can also give a module a different name using the as keyword. This is useful if the name of the module is long or if we want to avoid naming conflicts."
   ]
  },
  {
   "cell_type": "code",
   "execution_count": 2,
   "metadata": {},
   "outputs": [
    {
     "name": "stdout",
     "output_type": "stream",
     "text": [
      "3.0\n"
     ]
    }
   ],
   "source": [
    "import math as m\n",
    "\n",
    "print(m.sqrt(9))\n"
   ]
  },
  {
   "cell_type": "markdown",
   "metadata": {},
   "source": [
    "We can also import specific definitions from a module using the \"**from**\" keyword.\n",
    "This allows us to use the definition without having to use the \".\" notation."
   ]
  },
  {
   "cell_type": "code",
   "execution_count": 3,
   "metadata": {},
   "outputs": [
    {
     "name": "stdout",
     "output_type": "stream",
     "text": [
      "3.0\n"
     ]
    }
   ],
   "source": [
    "from math import sqrt\n",
    "\n",
    "print(sqrt(9))\n"
   ]
  },
  {
   "cell_type": "markdown",
   "metadata": {},
   "source": [
    "We can also import multiple functions using the \"**,**\" separator"
   ]
  },
  {
   "cell_type": "code",
   "execution_count": 4,
   "metadata": {},
   "outputs": [
    {
     "name": "stdout",
     "output_type": "stream",
     "text": [
      "2.0\n",
      "3.141592653589793\n"
     ]
    }
   ],
   "source": [
    "from math import sqrt, pi\n",
    "\n",
    "print(sqrt(4))\n",
    "print(pi)\n"
   ]
  },
  {
   "cell_type": "code",
   "execution_count": 5,
   "metadata": {},
   "outputs": [],
   "source": [
    "from math import *"
   ]
  },
  {
   "cell_type": "markdown",
   "metadata": {},
   "source": [
    "## Creating our own modules"
   ]
  },
  {
   "cell_type": "markdown",
   "metadata": {},
   "source": [
    "We can create our own modules by writing the code in a separate **.py** file.\n",
    "Then we can import the module in our main program using the **import** statement.\n",
    "Finally, We can also import specific definitions from our module using the **from** keyword."
   ]
  },
  {
   "cell_type": "code",
   "execution_count": 9,
   "metadata": {},
   "outputs": [
    {
     "name": "stdout",
     "output_type": "stream",
     "text": [
      "Hello, John, you are special!\n"
     ]
    },
    {
     "data": {
      "text/plain": [
       "3.0"
      ]
     },
     "execution_count": 9,
     "metadata": {},
     "output_type": "execute_result"
    }
   ],
   "source": [
    "def greeting(name):\n",
    "    print(\"Hello, \" + name)\n",
    "\n",
    "from math import *\n",
    "\n",
    "greeting_special(\"John\")\n",
    "sqrt(9)\n",
    "# Output: Hello, John, you are special!"
   ]
  },
  {
   "cell_type": "markdown",
   "metadata": {},
   "source": [
    "# Documenting functions: some guidelines\n",
    "\n",
    "Now that we know how to write functions, I can give you more details on what it is important to do in both writing the functions, and documenting them.\n",
    "\n",
    "For the writing of the functions:\n",
    "\n",
    "* Use descriptive variable names: use variable names that clearly describe what the variable represents. Avoid using single-letter names, unless they are commonly used (for example \"i\" for a loop index)\n",
    "* Use meaningful function names: use functions names that clearly describe what a function does. Avoid using abbreviations or acronyms that may not be immediately understandable to other developers.\n",
    "* Use comments to explain what the code does in each line (or the most relevant)\n",
    "\n",
    "For the documentation of functions:\n",
    "\n",
    "* Give a brief summary of what the function does. If you are creating the documentation for a series of related functions, give a brief summary of the goal of the series of functions.\n",
    "* Explain each parameter of the function, including whether the parameters or arguments have a default value or not. Specify the datatype expected in each parameter. If the parameter is a list, or any other sequence in Python, describe also the expected datatypes of its members.\n",
    "* Explain what a function returns, if it returns multiple elements, explain them all. If it returns different things according to certain condition, explain them.\n",
    "* Give an example of testing the function with expected parameters, explaining what the expected result would be. Provide both a description of this and blocks of code that test the function. If the function gives different results according to conditional statements, make sure that you give more than one testing example so that you can cover many different possibilities"
   ]
  },
  {
   "cell_type": "code",
   "execution_count": null,
   "metadata": {},
   "outputs": [],
   "source": [
    "\n",
    "def calculate_average(numbers):\n",
    "    if len(numbers) == 0:\n",
    "        return 0\n",
    "    else:\n",
    "        total = sum(numbers)\n",
    "        return total / len(numbers)"
   ]
  },
  {
   "cell_type": "markdown",
   "metadata": {},
   "source": [
    "The function \"calculate_average\" calculates the average of a list of numbers.\n",
    "\n",
    "Parameters:<br>\n",
    "numbers (list). A list of numbers (integers or floats) to be averaged <br>\n",
    "returns: the function returns a float which is the average of the numbers in the list. <br>\n",
    "Examples: <br>\n",
    "If we run the function \"calculate_average\" using the list [1,2,3,4,5] it will return 3.0 as the result"
   ]
  },
  {
   "cell_type": "code",
   "execution_count": 10,
   "metadata": {},
   "outputs": [],
   "source": [
    "def calculate_average(numbers):\n",
    "    if len(numbers) == 0: # If the list is empty, return 0 to avoid a division by zero error.\n",
    "        return 0\n",
    "    else:\n",
    "        total = sum(numbers) # Calculate the sum of the numbers in the list.\n",
    "        return total / len(numbers) # Calculate the average by dividing the sum by the length of the list.\n"
   ]
  },
  {
   "cell_type": "code",
   "execution_count": 11,
   "metadata": {},
   "outputs": [
    {
     "data": {
      "text/plain": [
       "3.0"
      ]
     },
     "execution_count": 11,
     "metadata": {},
     "output_type": "execute_result"
    }
   ],
   "source": [
    "calculate_average([1,2,3,4,5]) #it should return 3.0"
   ]
  },
  {
   "cell_type": "markdown",
   "metadata": {},
   "source": [
    "# Dictionaries, sets and tuples\n",
    "\n",
    "## Dictionaries\n",
    "\n",
    "A dictionary is a collection of **unique** key-value pairs, where each key maps to a value. Dictionaries are unordered, so the order of the elements is not guaranteed. Dictionaries are very useful when you want to access values based on a specific key. Finally, dictionaries are mutable."
   ]
  },
  {
   "cell_type": "markdown",
   "metadata": {},
   "source": [
    "### Creating a Dictionary\n",
    "\n",
    "A dictionary can be created using the curly braces **{}** or the built-in **dict()** function. Keys and values are separated by a colon **:** and each key-value pair is separated by a comma **,**."
   ]
  },
  {
   "cell_type": "code",
   "execution_count": 12,
   "metadata": {},
   "outputs": [
    {
     "name": "stdout",
     "output_type": "stream",
     "text": [
      "{'Name': 'Carl', 'Age': 31, 'Interests': ['Tennis', 'Bouldering', 'Reading']}\n"
     ]
    }
   ],
   "source": [
    "# Creating a dictionary using curly braces\n",
    "my_dict = {\"Name\": \"Carl\", \"Age\": 31, \"Interests\": [\"Tennis\", \"Bouldering\", \"Reading\"]}\n",
    "# Creating a dictionary using dict()\n",
    "my_dict = dict(Name=\"Carl\", Age=31, Interests=[\"Tennis\", \"Bouldering\", \"Reading\"])\n",
    "\n",
    "print(my_dict)\n"
   ]
  },
  {
   "cell_type": "markdown",
   "metadata": {},
   "source": [
    "### Accessing Dictionary Values\n",
    "\n",
    "Values in a dictionary can be accessed by their corresponding keys. To access a value, you can use square brackets **[]** with the key or the **get()** method.\n",
    "\n"
   ]
  },
  {
   "cell_type": "code",
   "execution_count": 13,
   "metadata": {},
   "outputs": [
    {
     "name": "stdout",
     "output_type": "stream",
     "text": [
      "3\n",
      "6\n"
     ]
    }
   ],
   "source": [
    "my_dict = {\"apple\": 3, \"banana\": 6, \"orange\": 9}\n",
    "\n",
    "# Accessing a value using the key\n",
    "print(my_dict[\"apple\"])\n",
    "\n",
    "# Accessing a value using the get() method\n",
    "print(my_dict.get(\"banana\"))\n"
   ]
  },
  {
   "cell_type": "markdown",
   "metadata": {},
   "source": [
    "### Adding and Modifying values\n",
    "\n",
    "You can add a new key-value pair to a dictionary by using the square brackets **[]** and assigning a value to it. If the key already exists, it will update its value.\n"
   ]
  },
  {
   "cell_type": "code",
   "execution_count": 14,
   "metadata": {},
   "outputs": [
    {
     "name": "stdout",
     "output_type": "stream",
     "text": [
      "{'apple': 5, 'banana': 6, 'orange': 9, 'pear': 4}\n"
     ]
    }
   ],
   "source": [
    "my_dict = {\"apple\": 3, \"banana\": 6, \"orange\": 9}\n",
    "\n",
    "# Adding a new key-value pair\n",
    "my_dict[\"pear\"] = 4\n",
    "\n",
    "# Updating a value\n",
    "my_dict[\"apple\"] = 5\n",
    "\n",
    "print(my_dict)"
   ]
  },
  {
   "cell_type": "markdown",
   "metadata": {},
   "source": [
    "### Removing key-values\n",
    "\n",
    "You can remove a key-value pair from a dictionary by using the **del** keyword followed by the key. You can also remove a key-value using the **pop()** method, saving the value in a variable"
   ]
  },
  {
   "cell_type": "code",
   "execution_count": 15,
   "metadata": {},
   "outputs": [
    {
     "name": "stdout",
     "output_type": "stream",
     "text": [
      "{'apple': 3, 'orange': 9}\n",
      "3\n",
      "{'orange': 9}\n"
     ]
    }
   ],
   "source": [
    "my_dict = {\"apple\": 3, \"banana\": 6, \"orange\": 9}\n",
    "\n",
    "# Removing a key-value pair\n",
    "del my_dict[\"banana\"]\n",
    "\n",
    "print(my_dict)\n",
    "\n",
    "deleted = my_dict.pop(\"apple\")\n",
    "\n",
    "print(deleted)\n",
    "print(my_dict)"
   ]
  },
  {
   "cell_type": "markdown",
   "metadata": {},
   "source": [
    "### Checking Membership\n",
    "\n",
    "You can check whether a key is in a dictionary or not using the **in** keyword"
   ]
  },
  {
   "cell_type": "code",
   "execution_count": 16,
   "metadata": {},
   "outputs": [
    {
     "name": "stdout",
     "output_type": "stream",
     "text": [
      "True\n",
      "False\n",
      "{'name': 'Bruno', 'age': 27, 'city': 'Munich', 'country': 'Germany'}\n"
     ]
    }
   ],
   "source": [
    "my_dict = {'name': 'Bruno', 'age': 27, 'city': 'Munich'}\n",
    "print('name' in my_dict)  \n",
    "print('country' in my_dict)   \n",
    "\n",
    "if \"country\" in my_dict:\n",
    "    print(my_dict[\"country\"])\n",
    "else:\n",
    "    my_dict[\"country\"] = \"Germany\"\n",
    "\n",
    "print(my_dict)"
   ]
  },
  {
   "cell_type": "code",
   "execution_count": 18,
   "metadata": {},
   "outputs": [
    {
     "data": {
      "text/plain": [
       "False"
      ]
     },
     "execution_count": 18,
     "metadata": {},
     "output_type": "execute_result"
    }
   ],
   "source": [
    "\"Munich\" in my_dict"
   ]
  },
  {
   "cell_type": "markdown",
   "metadata": {},
   "source": [
    "### Copying Dictionaries\n",
    "\n",
    "Copying dictionaries: You can copy a dictionary using the **copy()** method or the **dictionary constructor**."
   ]
  },
  {
   "cell_type": "code",
   "execution_count": null,
   "metadata": {},
   "outputs": [],
   "source": [
    "my_dict = {'name': 'Bruno', 'age': 27, 'city': 'Munich'}\n",
    "new_dict = my_dict.copy()   # Copies the dictionary using the copy() method\n",
    "another_dict = dict(my_dict)   # Copies the dictionary using the dictionary constructor\n"
   ]
  },
  {
   "cell_type": "markdown",
   "metadata": {},
   "source": [
    "### Looping through dictionaries\n",
    "\n",
    "You can loop through a dictionary using a **for** loop. The loop iterates over the keys by default, but you can access the values by using the keys."
   ]
  },
  {
   "cell_type": "code",
   "execution_count": 19,
   "metadata": {},
   "outputs": [
    {
     "name": "stdout",
     "output_type": "stream",
     "text": [
      "apple 3\n",
      "banana 6\n",
      "orange 9\n"
     ]
    }
   ],
   "source": [
    "my_dict = {\"apple\": 3, \"banana\": 6, \"orange\": 9}\n",
    "for key in my_dict:\n",
    "    print(key, my_dict[key])\n"
   ]
  },
  {
   "cell_type": "markdown",
   "metadata": {},
   "source": [
    "### Dictionary Methods\n",
    "\n",
    "* **keys()**: Returns a dict_keys() object  (acts like a list) of all the keys in the dictionary.\n",
    "* **values()**: Returns a dict_values() object (acts like a list) of all the values in the dictionary.\n",
    "* **items()**: Returns a  dict_items() object (acts like a list of tuples, more on tuples later) of all the key-value pairs in the dictionary.\n"
   ]
  },
  {
   "cell_type": "code",
   "execution_count": 20,
   "metadata": {},
   "outputs": [
    {
     "name": "stdout",
     "output_type": "stream",
     "text": [
      "['apple', 'banana', 'orange']\n",
      "dict_values([3, 6, 9])\n",
      "dict_items([('apple', 3), ('banana', 6), ('orange', 9)])\n"
     ]
    }
   ],
   "source": [
    "my_dict = {\"apple\": 3, \"banana\": 6, \"orange\": 9}\n",
    "\n",
    "# Getting all the keys\n",
    "print(list(my_dict.keys())) \n",
    "\n",
    "# Getting all the values\n",
    "print(my_dict.values())\n",
    "# Getting all the key-value pairs\n",
    "print(my_dict.items())"
   ]
  },
  {
   "cell_type": "code",
   "execution_count": 21,
   "metadata": {},
   "outputs": [
    {
     "name": "stdout",
     "output_type": "stream",
     "text": [
      "4\n",
      "7\n",
      "10\n"
     ]
    }
   ],
   "source": [
    "for value in my_dict.values():\n",
    "    print(value + 1)"
   ]
  },
  {
   "cell_type": "markdown",
   "metadata": {},
   "source": [
    "## Sets"
   ]
  },
  {
   "cell_type": "markdown",
   "metadata": {},
   "source": [
    "A set is a **mutable** **unordered** collection of **unique** elements. Sets are useful when you want to eliminate duplicate elements from a list or perform mathematical operations such as union, intersection, and difference."
   ]
  },
  {
   "cell_type": "markdown",
   "metadata": {},
   "source": [
    "### Creating a Set\n",
    "\n",
    "A set can be created using the built-in **set()** function (also known as constructor method) or using curly braces {}."
   ]
  },
  {
   "cell_type": "code",
   "execution_count": 22,
   "metadata": {},
   "outputs": [
    {
     "name": "stdout",
     "output_type": "stream",
     "text": [
      "{1, 2, 3, 4, 8}\n"
     ]
    }
   ],
   "source": [
    "# Creating a set using set()\n",
    "my_set = set([1, 2, 3, 4, 5])\n",
    "\n",
    "# Creating a set using curly braces\n",
    "my_set = {1, 2, 3, 4, 5}\n",
    "\n",
    "# we can also create a set from a list\n",
    "my_list = [1, 2, 2, 3, 3, 4,8,8,8,8,8]\n",
    "my_set = set(my_list)\n",
    "print(my_set)\n"
   ]
  },
  {
   "cell_type": "markdown",
   "metadata": {},
   "source": [
    "### Adding and removing elements from a set\n",
    "\n",
    "You can add elements to a set using the **add()** method.\n",
    "You can remove elements from a set using the **remove()** method."
   ]
  },
  {
   "cell_type": "code",
   "execution_count": null,
   "metadata": {},
   "outputs": [],
   "source": [
    "# add elements to a set using add() method\n",
    "my_set = {1, 2, 3}\n",
    "my_set.add(4)\n",
    "print(my_set)\n",
    "\n",
    "# remove an element from a set using remove() method\n",
    "my_set = {1, 2, 3, 4}\n",
    "my_set.remove(2)\n",
    "print(my_set) "
   ]
  },
  {
   "cell_type": "markdown",
   "metadata": {},
   "source": [
    "### Checking Memberships in a set\n",
    "\n",
    "You can check whether a set contains a certain element using the **in** keyword."
   ]
  },
  {
   "cell_type": "code",
   "execution_count": null,
   "metadata": {},
   "outputs": [],
   "source": [
    "# check if an element is in a set using in keyword\n",
    "my_set = {1, 2, 3}\n",
    "print(2 in my_set)\n",
    "print(4 in my_set)\n",
    "\n",
    "if 2 in my_set:\n",
    "    my_set.remove(2)\n",
    "\n",
    "if 4 not in my_set:\n",
    "    my_set.add(4)\n",
    "\n",
    "print(my_set)"
   ]
  },
  {
   "cell_type": "code",
   "execution_count": 24,
   "metadata": {},
   "outputs": [],
   "source": [
    "my_set = {\"a\", 2}"
   ]
  },
  {
   "cell_type": "markdown",
   "metadata": {},
   "source": [
    "### Set Operations\n",
    "\n",
    "Union: The union of two sets A and B is a set that contains all the elements from A and all the elements from B. In Python, you use **set1.union(set2)** to perform union."
   ]
  },
  {
   "cell_type": "code",
   "execution_count": 35,
   "metadata": {},
   "outputs": [
    {
     "name": "stdout",
     "output_type": "stream",
     "text": [
      "{1, 2, 3, 4}\n",
      "{1, 2, 3}\n"
     ]
    }
   ],
   "source": [
    "A = {1, 2, 3}\n",
    "B = {2, 3, 4}\n",
    "C = A.union(B)\n",
    "print(C)\n",
    "\n",
    "print(A)\n",
    "\n"
   ]
  },
  {
   "cell_type": "code",
   "execution_count": 28,
   "metadata": {},
   "outputs": [
    {
     "data": {
      "text/plain": [
       "{1, 3}"
      ]
     },
     "execution_count": 28,
     "metadata": {},
     "output_type": "execute_result"
    }
   ],
   "source": [
    "D"
   ]
  },
  {
   "cell_type": "markdown",
   "metadata": {},
   "source": [
    "Intersection: The intersection of two sets A and B is a set that contains all the elements that are in both sets. In Python, you use **set1.intersection(set2)** to perform intersection."
   ]
  },
  {
   "cell_type": "code",
   "execution_count": 26,
   "metadata": {},
   "outputs": [
    {
     "name": "stdout",
     "output_type": "stream",
     "text": [
      "{2, 3}\n"
     ]
    }
   ],
   "source": [
    "A = {1, 2, 3}\n",
    "B = {2, 3, 4}\n",
    "C = A.intersection(B)\n",
    "print(C)"
   ]
  },
  {
   "cell_type": "markdown",
   "metadata": {},
   "source": [
    "Difference: The difference of two sets A and B is a set that contains all the elements that are in set A but not in set B. In Python, you use **set1.difference(set2)** to perform difference. Remember that difference is ordered, so you will get all elements that are in the first set you write, but are not in the second one."
   ]
  },
  {
   "cell_type": "code",
   "execution_count": 29,
   "metadata": {},
   "outputs": [
    {
     "name": "stdout",
     "output_type": "stream",
     "text": [
      "{1}\n",
      "set()\n"
     ]
    }
   ],
   "source": [
    "A = {1, 2, 3}\n",
    "B = {2, 3}\n",
    "C = A.difference(B)\n",
    "D = B.difference(A)\n",
    "print(C)\n",
    "print(D)\n"
   ]
  },
  {
   "cell_type": "markdown",
   "metadata": {},
   "source": [
    "Symmetric Difference: The symmetric difference of two sets A and B is a set that contains all the elements that are in A or B but not in both. In Python, you use **set1.symmetric_difference(set2)** to perform symmetric difference. In this case, the order of sets is irrelevant."
   ]
  },
  {
   "cell_type": "code",
   "execution_count": 30,
   "metadata": {},
   "outputs": [
    {
     "name": "stdout",
     "output_type": "stream",
     "text": [
      "{1, 4}\n"
     ]
    }
   ],
   "source": [
    "A = {1, 2, 3}\n",
    "B = {2, 3, 4}\n",
    "C = A.symmetric_difference(B)\n",
    "print(C)\n"
   ]
  },
  {
   "cell_type": "markdown",
   "metadata": {},
   "source": [
    "Subset: set A is a subset of set B if all the elements of set A are also in set B. In Python, you use **set1.issubset(set2)** to perform subset checking. The result will be a boolean value."
   ]
  },
  {
   "cell_type": "code",
   "execution_count": 32,
   "metadata": {},
   "outputs": [
    {
     "name": "stdout",
     "output_type": "stream",
     "text": [
      "False\n"
     ]
    }
   ],
   "source": [
    "A = {1, 2}\n",
    "B = {1, 2, 3}\n",
    "print(B.issubset(A))\n"
   ]
  },
  {
   "cell_type": "markdown",
   "metadata": {},
   "source": [
    "Superset: set A is a superset of set B if all the elements of set B are also in set A. In Python, you use **set1.issuperset(set2)** to perform superset checking. The result will be a boolean value"
   ]
  },
  {
   "cell_type": "code",
   "execution_count": 33,
   "metadata": {},
   "outputs": [
    {
     "name": "stdout",
     "output_type": "stream",
     "text": [
      "True\n"
     ]
    }
   ],
   "source": [
    "A = {1, 2,3,5,6}\n",
    "B = {1, 2, 3}\n",
    "print(A.issuperset(B))\n"
   ]
  },
  {
   "cell_type": "markdown",
   "metadata": {},
   "source": [
    "## Update, a method for both sets and dictionaries\n",
    "\n",
    "### Sets\n",
    "\n",
    "For sets, the **update()** method adds elements to the set from another set or **an iterable**. It modifies the original set and returns None. If the set is updated with another set that has some common elements, those common elements will be removed from the original set (because remember that sets contain unique values, they cannot be repeated). The difference between the **union()** and the **update()** method is that **union()** creates a new set, update changes the original one."
   ]
  },
  {
   "cell_type": "code",
   "execution_count": 41,
   "metadata": {},
   "outputs": [
    {
     "name": "stdout",
     "output_type": "stream",
     "text": [
      "{1, 2, 3, 4, 5}\n",
      "{1, 2, 3, 4, 5, 6, 7, 8}\n"
     ]
    }
   ],
   "source": [
    "set1 = {1, 2, 3}\n",
    "set2 = {3, 4, 5}\n",
    "set3 = set1.update(set2)\n",
    "print(set1)\n",
    "\n",
    "list1 = [6,7,8]\n",
    "set1.update(list1)\n",
    "print(set1)"
   ]
  },
  {
   "cell_type": "code",
   "execution_count": 42,
   "metadata": {},
   "outputs": [],
   "source": [
    "set3"
   ]
  },
  {
   "cell_type": "markdown",
   "metadata": {},
   "source": [
    "### Dictionaries\n",
    "\n",
    "For dictionaries, the **update()** method updates a dictionary with key-value pairs from another dictionary or an iterable of key-value pairs. It modifies the original dictionary and returns **None** *(In Python, None is a special value that represents the absence of a value. It is often used to indicate that a function or method did not return a value, or to indicate the absence of a valid value in a variable. It is commonly used as a default value for function arguments or class attributes. When a function or method is called without passing a value for a parameter with a default value of None, the parameter is assigned the value None.)* If a key in the second dictionary already exists in the original dictionary, its corresponding value will be updated with the new value."
   ]
  },
  {
   "cell_type": "code",
   "execution_count": 46,
   "metadata": {},
   "outputs": [
    {
     "name": "stdout",
     "output_type": "stream",
     "text": [
      "{'a': 1, 'b': 3, 'c': 4}\n"
     ]
    }
   ],
   "source": [
    "dict1 = {'a': 1, 'b': 2}\n",
    "dict2 = {'b': 3, 'c': 4}\n",
    "dict3 = {'z': 3, 'c': 4}\n",
    "dict1.update(dict2)\n",
    "print(dict1)\n",
    "\n",
    "# Note that the value for key 'b' in the original dict1 was updated to 3,\n",
    "# which is the value for key 'b' in dict2."
   ]
  },
  {
   "cell_type": "code",
   "execution_count": 39,
   "metadata": {},
   "outputs": [
    {
     "name": "stdout",
     "output_type": "stream",
     "text": [
      "Bruno\n",
      "None\n"
     ]
    }
   ],
   "source": [
    "def name(name_to_print):\n",
    "    print(name_to_print)\n",
    "\n",
    "\n",
    "a = name(\"Bruno\")\n",
    "print(a)"
   ]
  },
  {
   "cell_type": "markdown",
   "metadata": {},
   "source": [
    "## Tuples"
   ]
  },
  {
   "cell_type": "markdown",
   "metadata": {},
   "source": [
    "In Python, a tuple is an **ordered, immutable** sequence of values. Tuples are similar to lists, but once a tuple is created, its elements cannot be modified."
   ]
  },
  {
   "cell_type": "code",
   "execution_count": null,
   "metadata": {},
   "outputs": [],
   "source": [
    "my_tuple = (1, 2, 3)"
   ]
  },
  {
   "cell_type": "markdown",
   "metadata": {},
   "source": [
    "Tuples can also be created using the **tuple()** function/constructor method."
   ]
  },
  {
   "cell_type": "code",
   "execution_count": null,
   "metadata": {},
   "outputs": [],
   "source": [
    "my_tuple = tuple([1, 2, 3])"
   ]
  },
  {
   "cell_type": "markdown",
   "metadata": {},
   "source": [
    "### Accessing tuple elements\n",
    "\n",
    "Tuples can be accessed using indexing, just like lists."
   ]
  },
  {
   "cell_type": "code",
   "execution_count": null,
   "metadata": {},
   "outputs": [],
   "source": [
    "my_tuple = (1, 2, 3)\n",
    "print(my_tuple[0])"
   ]
  },
  {
   "cell_type": "markdown",
   "metadata": {},
   "source": [
    "Lists and tuples support concatenation and repetition"
   ]
  },
  {
   "cell_type": "code",
   "execution_count": 47,
   "metadata": {},
   "outputs": [
    {
     "name": "stdout",
     "output_type": "stream",
     "text": [
      "(1, 2, 3, 3, 4, 5, 6)\n",
      "(1, 2, 3, 1, 2, 3, 1, 2, 3)\n"
     ]
    }
   ],
   "source": [
    "my_tuple1 = (1, 2, 3)\n",
    "my_tuple2 = (3, 4, 5, 6)\n",
    "my_tuple3 = my_tuple1 + my_tuple2\n",
    "print(my_tuple3)\n",
    "\n",
    "my_tuple4 = (1, 2, 3) * 3\n",
    "print(my_tuple4) # you can do the same for lists\n"
   ]
  },
  {
   "cell_type": "markdown",
   "metadata": {},
   "source": [
    "Tuples are often used to group related values together. For example, you might use a tuple to represent a point on a 2D plane, or to represent a date."
   ]
  },
  {
   "cell_type": "code",
   "execution_count": 49,
   "metadata": {},
   "outputs": [
    {
     "name": "stdout",
     "output_type": "stream",
     "text": [
      "6\n",
      "(3, 5)\n"
     ]
    }
   ],
   "source": [
    "my_date = (2023, 4, 25)\n",
    "my_point = (3, 4)\n",
    "my_point = (3, 5)\n",
    "a = my_point[0]\n",
    "a = a + 3\n",
    "print(a)\n",
    "print(my_point)"
   ]
  },
  {
   "cell_type": "markdown",
   "metadata": {},
   "source": [
    "Tuples can also be used to return multiple values from a function."
   ]
  },
  {
   "cell_type": "code",
   "execution_count": 52,
   "metadata": {},
   "outputs": [
    {
     "name": "stdout",
     "output_type": "stream",
     "text": [
      "('John', 30, 'Rome')\n",
      "John\n",
      "30\n",
      "30\n"
     ]
    }
   ],
   "source": [
    "def get_name_and_age():\n",
    "    name = \"John\"\n",
    "    age = 30\n",
    "    city = \"Rome\"\n",
    "    return name, age, city\n",
    "\n",
    "nameandage = get_name_and_age()\n",
    "a, b, c = get_name_and_age()\n",
    "print(nameandage)\n",
    "print(nameandage[0])\n",
    "print(nameandage[1]) \n",
    "print(b)"
   ]
  },
  {
   "cell_type": "code",
   "execution_count": 55,
   "metadata": {},
   "outputs": [
    {
     "data": {
      "text/plain": [
       "4"
      ]
     },
     "execution_count": 55,
     "metadata": {},
     "output_type": "execute_result"
    }
   ],
   "source": [
    "dissection = (1,2,3,4)\n",
    "a,b,c,d = dissection\n",
    "d"
   ]
  },
  {
   "cell_type": "code",
   "execution_count": null,
   "metadata": {},
   "outputs": [],
   "source": [
    "my_list = [1,2,3]\n",
    "my_list[0]"
   ]
  },
  {
   "cell_type": "code",
   "execution_count": 57,
   "metadata": {},
   "outputs": [
    {
     "name": "stdout",
     "output_type": "stream",
     "text": [
      "{'house': 19476}\n",
      "{'house': 19477}\n"
     ]
    }
   ],
   "source": [
    "'''empty_d = dict()\n",
    "empty_d[\"house\"] = 19476\n",
    "print(empty_d)\n",
    "empty_d[\"house\"] += 1\n",
    "empty_d[\"house\"] = empty_d[\"house\"] + 1\n",
    "print(empty_d)'''\n",
    "\n",
    "\n",
    "\n",
    "empty_d = dict()\n",
    "a = [\"house\", \"door\"]\n",
    "for element in a:\n",
    "    if element not in empty_d:\n",
    "        empty_d[element] = 1\n",
    "    else:\n",
    "        empty_d[element] +=1\n",
    "        "
   ]
  },
  {
   "cell_type": "markdown",
   "metadata": {},
   "source": [
    "# Exercises"
   ]
  },
  {
   "cell_type": "markdown",
   "metadata": {},
   "source": [
    "## Exercise 5.1\n",
    "\n",
    "Write a function word_frequencies(input_list) that takes a list input_list as input and returns a dictionary that maps each word in the list to the number of times it appears. For example, word_frequencies([\"the\",\"cat\",\"in\",\"the\",\"hat\"]) should return {'the': 2, 'cat': 1, 'in': 1, 'hat': 1}.\n",
    "\n",
    "## Exercise 5.2\n",
    "\n",
    "Write a function vector_addition(v1, v2) that takes two tuples representing vectors formed by pairs of floats and returns their sum as a tuple. For example, vector_addition((1.0, 2.0), (3.0, 4.0)) should return (4.0, 6.0).\n",
    "\n",
    "## Exercise 5.3\n",
    "\n",
    "Write a function named reverse_dict(dict) that takes a dictionary as an argument and returns a new dictionary with the keys and values reversed. For example, if the input dictionary is {'a': 1, 'b': 2, 'c': 3}, the function should return {1: 'a', 2: 'b', 3: 'c'}.\n",
    "\n",
    "## Exercise 5.4\n",
    "\n",
    "Write a function set_operations(set_a,set_b,set_c) that takes in three sets that contain only integers, set_a, set_b, and set_c, and performs the following operations:\n",
    "\n",
    "Finds the union of set_a and set_b, and stores it in a variable called union_ab.\n",
    "Finds the intersection of set_b and set_c, and stores it in a variable called intersect_bc.\n",
    "Finds the difference of union_ab and intersect_bc, and stores it in a variable called diff.\n",
    "Removes any element in diff that is less than or equal to 10, and stores the resulting set in a variable called filtered_diff.\n",
    "Returns filtered_diff.\n",
    "\n",
    "given \n",
    "set_a = {1, 2, 3, 4, 5}\n",
    "set_b = {4, 5, 6, 7, 8}\n",
    "set_c = {5, 6, 7, 8, 9}, the function returns the set {1, 2, 3, 4}\n",
    "\n",
    "## Exercise 5.5\n",
    "\n",
    "Create a jupyter notebook called \"week5exercises\", document the functions you have created.\n"
   ]
  },
  {
   "cell_type": "code",
   "execution_count": null,
   "metadata": {},
   "outputs": [],
   "source": [
    "'''Write a function word_frequencies(input_list) that takes a list input_list as input\n",
    "and returns a dictionary that maps each word in the list to the number of times it appears. \n",
    "For example, word_frequencies([\"the\",\"cat\",\"in\",\"the\",\"hat\"]) should return {'the': 2, 'cat': 1, 'in': 1, 'hat': 1}.'''"
   ]
  },
  {
   "cell_type": "code",
   "execution_count": 62,
   "metadata": {},
   "outputs": [
    {
     "data": {
      "text/plain": [
       "{'the': 2, 'cat': 1, 'in': 1, 'hat': 1}"
      ]
     },
     "execution_count": 62,
     "metadata": {},
     "output_type": "execute_result"
    }
   ],
   "source": [
    "def word_frequencies(input_list):\n",
    "    result = dict()\n",
    "    for word in input_list:\n",
    "        if word in result:\n",
    "            result[word] = result[word] + 1\n",
    "        else:\n",
    "            result[word] = 1\n",
    "    return result\n",
    "\n",
    "\n",
    "\n",
    "            \n",
    "\n",
    "def word_frequencies2(input_list):\n",
    "    result = dict()\n",
    "    for word in input_list:\n",
    "        result[word] = input_list.count(word)\n",
    "    return result\n",
    "\n",
    "\n",
    "word_frequencies2([\"the\",\"cat\",\"in\",\"the\",\"hat\"])"
   ]
  },
  {
   "cell_type": "code",
   "execution_count": 1,
   "metadata": {},
   "outputs": [
    {
     "data": {
      "text/plain": [
       "(4.0, 6.0)"
      ]
     },
     "execution_count": 1,
     "metadata": {},
     "output_type": "execute_result"
    }
   ],
   "source": [
    "''''Write a function vector_addition(v1, v2) that takes two tuples representing\n",
    "vectors formed by pairs of floats and returns their sum as a tuple.\n",
    "For example, vector_addition((1.0, 2.0), (3.0, 4.0)) should return (4.0, 6.0).'''\n",
    "def vector_addition(v1,v2):\n",
    "    first_sum = v1[0] + v2[0]\n",
    "    second_sum = v1[1] + v2[1]\n",
    "    result = (first_sum, second_sum)\n",
    "    return result\n",
    "\n",
    "vector_addition((1.0, 2.0), (3.0, 4.0))\n",
    "\n",
    "def vector_addition(v1,v2):\n",
    "    return (v1[0]+v2[0], v1[1]+v2[1])"
   ]
  },
  {
   "cell_type": "code",
   "execution_count": 5,
   "metadata": {},
   "outputs": [
    {
     "data": {
      "text/plain": [
       "{1: 'a', 2: 'b', 3: 'c'}"
      ]
     },
     "execution_count": 5,
     "metadata": {},
     "output_type": "execute_result"
    }
   ],
   "source": [
    "'''Write a function named reverse_dict(dict) that takes a dictionary as\n",
    "an argument and returns a new dictionary with the keys and values reversed. \n",
    "For example, if the input dictionary is {'a': 1, 'b': 2, 'c': 3}, \n",
    "the function should return {1: 'a', 2: 'b', 3: 'c'}.'''\n",
    "\n",
    "def reverse_dict(input_dict):\n",
    "    new_dictionary = dict()\n",
    "    for key in input_dict:\n",
    "        value = input_dict[key]\n",
    "        new_dictionary[value] = key\n",
    "    return new_dictionary\n",
    "\n",
    "reverse_dict({'a': 1, 'b': 2, 'c': 3})\n",
    "        "
   ]
  },
  {
   "cell_type": "code",
   "execution_count": 4,
   "metadata": {},
   "outputs": [
    {
     "name": "stdout",
     "output_type": "stream",
     "text": [
      "{1: 'a', 2: 'b', 3: 'c'}\n"
     ]
    }
   ],
   "source": [
    "print(result_of_function)"
   ]
  },
  {
   "cell_type": "markdown",
   "metadata": {},
   "source": [
    "Write a function set_operations(set_a,set_b,set_c) that takes in three sets that contain only integers, set_a, set_b, and set_c, and performs the following operations:\n",
    "\n",
    "Finds the union of set_a and set_b, and stores it in a variable called union_ab.\n",
    "Finds the intersection of set_b and set_c, and stores it in a variable called intersect_bc.\n",
    "Finds the difference of union_ab and intersect_bc, and stores it in a variable called diff.\n",
    "Add any element in diff that is less than or equal to 10 to a set called filtered_diff.\n",
    "Returns filtered_diff.\n",
    "\n",
    "given \n",
    "set_a = {1, 2, 3, 4, 5}\n",
    "set_b = {4, 5, 6, 7, 8}\n",
    "set_c = {5, 6, 7, 8, 9}, the function returns the set {1, 2, 3, 4}"
   ]
  },
  {
   "cell_type": "code",
   "execution_count": 6,
   "metadata": {},
   "outputs": [
    {
     "data": {
      "text/plain": [
       "set()"
      ]
     },
     "execution_count": 6,
     "metadata": {},
     "output_type": "execute_result"
    }
   ],
   "source": [
    "def set_operations(set_a, set_b, set_c):\n",
    "    union_ab = set_a.union(set_b)\n",
    "    intersect_bc = set_b.intersection(set_c)\n",
    "    diff = union_ab.difference(intersect_bc)\n",
    "    filtered_diff = set()\n",
    "    for element in diff:\n",
    "        if element < 10:\n",
    "            filtered_diff.add(element)\n",
    "    return filtered_diff\n",
    "\n",
    "set_a = {1, 2, 3, 4, 5} \n",
    "set_b = {4, 5, 6, 7, 8} \n",
    "set_c = {5, 6, 7, 8, 9} \n",
    "\n",
    "set_operations(set_a,set_b,set_c)"
   ]
  },
  {
   "cell_type": "code",
   "execution_count": null,
   "metadata": {},
   "outputs": [],
   "source": []
  }
 ],
 "metadata": {
  "colab": {
   "provenance": []
  },
  "kernelspec": {
   "display_name": "Python 3 (ipykernel)",
   "language": "python",
   "name": "python3"
  },
  "language_info": {
   "codemirror_mode": {
    "name": "ipython",
    "version": 3
   },
   "file_extension": ".py",
   "mimetype": "text/x-python",
   "name": "python",
   "nbconvert_exporter": "python",
   "pygments_lexer": "ipython3",
   "version": "3.10.1"
  }
 },
 "nbformat": 4,
 "nbformat_minor": 4
}
