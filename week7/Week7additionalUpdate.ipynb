{
 "cells": [
  {
   "cell_type": "markdown",
   "metadata": {
    "id": "2QH0LBPqG7MB"
   },
   "source": [
    "# Week 7: Files, Files, Files!\n",
    "\n",
    "## Reading and Writing to Files"
   ]
  },
  {
   "cell_type": "markdown",
   "metadata": {
    "id": "Tk44Z_chHDG9"
   },
   "source": [
    "### Reading a file\n",
    "\n",
    "To read data from a file in Python, we can use the **open()** function along with the file mode **'r'** (read mode). The **with** statement is used to automatically close a file when the indentation is done. The method **.read()** is used to read the content of a file and store them as a string somewhere."
   ]
  },
  {
   "cell_type": "code",
   "execution_count": 2,
   "metadata": {
    "colab": {
     "base_uri": "https://localhost:8080/"
    },
    "executionInfo": {
     "elapsed": 238,
     "status": "ok",
     "timestamp": 1684249959916,
     "user": {
      "displayName": "Bruno Sartini",
      "userId": "05292936127254060969"
     },
     "user_tz": -120
    },
    "id": "nq3qjDKDHCgN",
    "outputId": "49f4e911-baae-4c0c-bb78-84543fa082d3"
   },
   "outputs": [
    {
     "name": "stdout",
     "output_type": "stream",
     "text": [
      "sorry for forgetting the file\n"
     ]
    }
   ],
   "source": [
    "with open('data.txt', 'r') as file:\n",
    "    data = file.read()\n",
    "    print(data)"
   ]
  },
  {
   "cell_type": "code",
   "execution_count": 7,
   "metadata": {},
   "outputs": [
    {
     "name": "stdout",
     "output_type": "stream",
     "text": [
      "sorry for forgetting the file\n",
      "line 2\n"
     ]
    }
   ],
   "source": [
    "file = open(\"data.txt\", \"r\")\n",
    "data = file.read()\n",
    "print(data)"
   ]
  },
  {
   "cell_type": "code",
   "execution_count": 4,
   "metadata": {},
   "outputs": [],
   "source": [
    "file.close()"
   ]
  },
  {
   "cell_type": "code",
   "execution_count": 9,
   "metadata": {
    "colab": {
     "base_uri": "https://localhost:8080/",
     "height": 35
    },
    "executionInfo": {
     "elapsed": 5,
     "status": "ok",
     "timestamp": 1684249978956,
     "user": {
      "displayName": "Bruno Sartini",
      "userId": "05292936127254060969"
     },
     "user_tz": -120
    },
    "id": "R7mjJO_hHtqr",
    "outputId": "53b735e7-8211-438d-8379-69b175cf1183"
   },
   "outputs": [
    {
     "name": "stdout",
     "output_type": "stream",
     "text": [
      "['sorry for forgetting the file', 'line 2']\n"
     ]
    }
   ],
   "source": [
    "splitted = data.split(\"\\n\")\n",
    "print(splitted)"
   ]
  },
  {
   "cell_type": "markdown",
   "metadata": {
    "id": "nwIWU32zH5sY"
   },
   "source": [
    "### Writing to a File (txt)\n",
    "To write data to a file in Python, we can use the **open()** function with the file mode **'w'** (write mode). If there is no filename that matches with what you write inside open(), Python will create a new file with that name. \n",
    "\n",
    "You use the **.write()** method to write information.\n",
    "\n",
    "**important** if you want to add information to a file that already contains text, you need to open it with the file mode **\"a\"** (append mode), otherwise you will **rewrite the content of the entire file**"
   ]
  },
  {
   "cell_type": "code",
   "execution_count": 11,
   "metadata": {
    "id": "BG-gwZ1WHx2h"
   },
   "outputs": [],
   "source": [
    "with open('output.txt', 'w') as file:\n",
    "    file.write('Hello world 2')"
   ]
  },
  {
   "cell_type": "markdown",
   "metadata": {
    "id": "AFRxpAubIwyb"
   },
   "source": [
    "## Reading and Writing CSV files\n",
    "\n",
    "CSV means comma separated value. A csv file is like a table where the separation between one column and the other is usually given by the \",\" character.\n",
    "\n",
    "### Reading csv files\n",
    "\n",
    "To read data from a CSV file in Python, we can use the **csv** module and its **reader** object.\n",
    "\n",
    "We use the **.reader(file_variable_name)** from the csv module to read the content of a CSV."
   ]
  },
  {
   "cell_type": "code",
   "execution_count": 17,
   "metadata": {
    "colab": {
     "base_uri": "https://localhost:8080/"
    },
    "executionInfo": {
     "elapsed": 206,
     "status": "ok",
     "timestamp": 1684250864179,
     "user": {
      "displayName": "Bruno Sartini",
      "userId": "05292936127254060969"
     },
     "user_tz": -120
    },
    "id": "emcm7-rjJGAz",
    "outputId": "6bafc3e3-c204-4dcd-ebbf-63abee26d429"
   },
   "outputs": [
    {
     "name": "stdout",
     "output_type": "stream",
     "text": [
      "['Name', 'Age']\n",
      "['John', '25']\n",
      "['Sarah', '30']\n",
      "['James', '99']\n"
     ]
    }
   ],
   "source": [
    "import csv\n",
    "\n",
    "with open('data.csv', 'r') as file:\n",
    "    reader = csv.reader(file)\n",
    "    for row in reader: # we can iterate over the rows and print them as lists\n",
    "        print(row)\n"
   ]
  },
  {
   "cell_type": "code",
   "execution_count": null,
   "metadata": {},
   "outputs": [],
   "source": []
  },
  {
   "cell_type": "markdown",
   "metadata": {
    "id": "wJ9s4SDuJO3u"
   },
   "source": [
    "### Writing csv files\n",
    "\n",
    "To write data to a CSV file in Python, we can use again the **csv** module. And we need to create a writer object, and then use it to write rows using the **.writerow(rows)** or **.writerows(rows)** methods. \n",
    "\n",
    "**important** if you want to add information to a file that already contains text, you need to open it with the file mode **\"a\"** (append mode). If you use the **w** mode you will overwrite the content of the file."
   ]
  },
  {
   "cell_type": "code",
   "execution_count": 19,
   "metadata": {
    "colab": {
     "base_uri": "https://localhost:8080/"
    },
    "executionInfo": {
     "elapsed": 217,
     "status": "ok",
     "timestamp": 1684251131715,
     "user": {
      "displayName": "Bruno Sartini",
      "userId": "05292936127254060969"
     },
     "user_tz": -120
    },
    "id": "S3exjU3wJHU-",
    "outputId": "e7388acd-b790-49f8-f22e-3dd6472fd0ed"
   },
   "outputs": [
    {
     "name": "stdout",
     "output_type": "stream",
     "text": [
      "['Name', 'Age']\n",
      "['John', '25']\n",
      "['Sarah', '30']\n",
      "['James', '99']\n",
      "['Mary', '99']\n",
      "['Mary', '99']\n"
     ]
    }
   ],
   "source": [
    "import csv\n",
    "\n",
    "\n",
    "single_row = [\"Mary\", 99]\n",
    "\n",
    "with open('data.csv', 'a', newline='') as file:\n",
    "    writer = csv.writer(file)\n",
    "    writer.writerow(single_row)\n",
    "\n",
    "with open('data.csv', 'r') as file:\n",
    "    reader = csv.reader(file)\n",
    "    for row in reader:\n",
    "        print(row)\n"
   ]
  },
  {
   "cell_type": "code",
   "execution_count": 20,
   "metadata": {
    "colab": {
     "base_uri": "https://localhost:8080/"
    },
    "executionInfo": {
     "elapsed": 621,
     "status": "ok",
     "timestamp": 1684251217830,
     "user": {
      "displayName": "Bruno Sartini",
      "userId": "05292936127254060969"
     },
     "user_tz": -120
    },
    "id": "L2dvhUkLMOsc",
    "outputId": "27be2147-9f5c-4a3f-97ae-65e0374cad15"
   },
   "outputs": [
    {
     "name": "stdout",
     "output_type": "stream",
     "text": [
      "['Name', 'Age']\n",
      "['John', '25']\n",
      "['Sarah', '30']\n",
      "['James', '99']\n",
      "['Mary', '99']\n",
      "['Mary', '99']\n",
      "['Roger', '41']\n",
      "['Superman', '203']\n",
      "['My imagination has limits', '0']\n"
     ]
    }
   ],
   "source": [
    "multiple_rows = [[\"Roger\", 41], [\"Superman\", 203], [\"My imagination has limits\", 0]]\n",
    "\n",
    "with open('data.csv', 'a', newline='') as file:\n",
    "    writer = csv.writer(file)\n",
    "    writer.writerows(multiple_rows)\n",
    "\n",
    "with open('data.csv', 'r') as file:\n",
    "    reader = csv.reader(file)\n",
    "    for row in reader:\n",
    "        print(row)\n"
   ]
  },
  {
   "cell_type": "markdown",
   "metadata": {
    "id": "pKJaqhWDM2R8"
   },
   "source": [
    "## What if there is any other type of separator?\n",
    "\n",
    "You can specify which character is used to separate columns in your file with the \"delimiter\" argument."
   ]
  },
  {
   "cell_type": "code",
   "execution_count": 22,
   "metadata": {
    "colab": {
     "base_uri": "https://localhost:8080/"
    },
    "executionInfo": {
     "elapsed": 2,
     "status": "ok",
     "timestamp": 1684251418537,
     "user": {
      "displayName": "Bruno Sartini",
      "userId": "05292936127254060969"
     },
     "user_tz": -120
    },
    "id": "riPL67sGNMmQ",
    "outputId": "0e861b41-f102-4ad8-db5e-f0c4fe56d7f2"
   },
   "outputs": [
    {
     "name": "stdout",
     "output_type": "stream",
     "text": [
      "['Name', 'Age']\n",
      "['Zeus', '20000']\n",
      "['Pikachu', '30']\n",
      "['Python', '32']\n"
     ]
    }
   ],
   "source": [
    "with open('atseparated.csv', 'r') as file:\n",
    "    reader = csv.reader(file, delimiter=\"@\")\n",
    "    for row in reader:\n",
    "        print(row)"
   ]
  },
  {
   "cell_type": "markdown",
   "metadata": {
    "id": "frpyjQpbMxrN"
   },
   "source": [
    "## DictReader to read csv files"
   ]
  },
  {
   "cell_type": "markdown",
   "metadata": {
    "id": "aq9_yek3NkwQ"
   },
   "source": [
    "The **DictReader** class from the **csv** module provides a convenient way to read CSV files into dictionaries. Each row of the CSV file is represented as a dictionary, where the keys are the column headers and the values are the corresponding values in the row. You use the csv method **DictReader(file_variable_name)** to create a *DictReader* version of your csv"
   ]
  },
  {
   "cell_type": "code",
   "execution_count": 27,
   "metadata": {
    "colab": {
     "base_uri": "https://localhost:8080/"
    },
    "executionInfo": {
     "elapsed": 4,
     "status": "ok",
     "timestamp": 1684251544272,
     "user": {
      "displayName": "Bruno Sartini",
      "userId": "05292936127254060969"
     },
     "user_tz": -120
    },
    "id": "fSL5ZqpwNp6u",
    "outputId": "2f242dbf-fdd5-42db-b14f-d3b01b23f554"
   },
   "outputs": [
    {
     "name": "stdout",
     "output_type": "stream",
     "text": [
      "John 25\n",
      "{'Name': 'John', 'Age': '25'}\n",
      "Sarah 30\n",
      "{'Name': 'Sarah', 'Age': '30'}\n",
      "James 99\n",
      "{'Name': 'James', 'Age': '99'}\n",
      "Mary 99\n",
      "{'Name': 'Mary', 'Age': '99'}\n",
      "Mary 99\n",
      "{'Name': 'Mary', 'Age': '99'}\n",
      "Roger 41\n",
      "{'Name': 'Roger', 'Age': '41'}\n",
      "Superman 203\n",
      "{'Name': 'Superman', 'Age': '203'}\n",
      "My imagination has limits 0\n",
      "{'Name': 'My imagination has limits', 'Age': '0'}\n",
      "[{'Name': 'John', 'Age': '25'}, {'Name': 'Sarah', 'Age': '30'}, {'Name': 'James', 'Age': '99'}, {'Name': 'Mary', 'Age': '99'}, {'Name': 'Mary', 'Age': '99'}, {'Name': 'Roger', 'Age': '41'}, {'Name': 'Superman', 'Age': '203'}, {'Name': 'My imagination has limits', 'Age': '0'}]\n"
     ]
    }
   ],
   "source": [
    "import csv\n",
    "\n",
    "with open('data.csv', 'r') as file:\n",
    "    reader = csv.DictReader(file)\n",
    "    list_of_dictionary = []\n",
    "    for row in reader:\n",
    "        print(row['Name'], row['Age'])\n",
    "        print(row)\n",
    "        list_of_dictionary.append(dict(row))\n",
    "\n",
    "print(list_of_dictionary)\n"
   ]
  },
  {
   "cell_type": "markdown",
   "metadata": {
    "id": "YL6EfwuJmNSH"
   },
   "source": [
    "In the example above, each row is a dictionary, allowing us to access the values by column names (e.g., **row['Name']** **and row[' Age']**)."
   ]
  },
  {
   "cell_type": "markdown",
   "metadata": {
    "id": "EGGHfONb4M-G"
   },
   "source": [
    "## Reading and Writing JSON files\n",
    "\n",
    "JSON (JavaScript Object Notation) is a lightweight data interchange format that is easy for humans to read and write and easy for machines to parse and generate. It is widely used to transmit data between a server and a web application.\n",
    "\n",
    "JSON represents data as key-value pairs in a hierarchical structure (like a Pyhton Dictionary!). It supports various data types such as strings, numbers, booleans, arrays, and objects. The data is organized into nested structures, making it flexible for representing complex data relationships.\n",
    "\n",
    "\n",
    "\n",
    "```json\n",
    "{\n",
    "  \"name\": \"John Doe\",\n",
    "  \"age\": 30,\n",
    "  \"city\": \"New York\",\n",
    "  \"skills\": [\"Python\", \"JavaScript\", \"HTML\", \"CSS\"],\n",
    "  \"contact\": {\n",
    "    \"email\": \"john.doe@example.com\",\n",
    "    \"phone\": \"123-456-7890\"\n",
    "  }\n",
    "}\n",
    "\n",
    "```\n",
    "\n",
    "To read and write data from a JSON file in Python, we can use the **json** module.\n",
    "\n"
   ]
  },
  {
   "cell_type": "markdown",
   "metadata": {
    "id": "TgIQJ4iw7Lau"
   },
   "source": [
    "`json.dumps()`: Converts a Python object to a JSON string."
   ]
  },
  {
   "cell_type": "code",
   "execution_count": 82,
   "metadata": {
    "colab": {
     "base_uri": "https://localhost:8080/"
    },
    "executionInfo": {
     "elapsed": 273,
     "status": "ok",
     "timestamp": 1684330658213,
     "user": {
      "displayName": "Bruno Sartini",
      "userId": "05292936127254060969"
     },
     "user_tz": -120
    },
    "id": "nc-HRb-W7Pof",
    "outputId": "837e86cf-9c7e-46f4-da48-fb6e06b2f49f"
   },
   "outputs": [
    {
     "name": "stdout",
     "output_type": "stream",
     "text": [
      "{\"name\": \"John\", \"age\": 30}\n"
     ]
    }
   ],
   "source": [
    "import json\n",
    "\n",
    "data = {\"name\": \"John\", \"age\": 30}\n",
    "json_string = json.dumps(data)\n",
    "print(json_string)\n"
   ]
  },
  {
   "cell_type": "markdown",
   "metadata": {
    "id": "7qGzZ-G07LmB"
   },
   "source": [
    "`json.dump()`: Writes a Python object as a JSON string to a file."
   ]
  },
  {
   "cell_type": "code",
   "execution_count": 112,
   "metadata": {
    "id": "G47F8tR27W-s"
   },
   "outputs": [],
   "source": [
    "import json\n",
    "\n",
    "data = {\"name\": \"John\", \"age\": 30}\n",
    "with open(\"data.json\", \"w\") as file:\n",
    "    json.dump(data, file)"
   ]
  },
  {
   "cell_type": "markdown",
   "metadata": {
    "id": "ynz3mCPt7Lz8"
   },
   "source": [
    "`json.loads()`: Parses a JSON string and converts it into a Python object. (a dictionary)"
   ]
  },
  {
   "cell_type": "code",
   "execution_count": 114,
   "metadata": {
    "colab": {
     "base_uri": "https://localhost:8080/"
    },
    "executionInfo": {
     "elapsed": 221,
     "status": "ok",
     "timestamp": 1684330653673,
     "user": {
      "displayName": "Bruno Sartini",
      "userId": "05292936127254060969"
     },
     "user_tz": -120
    },
    "id": "qTV6HEzk7fMn",
    "outputId": "a763f748-730b-42e1-eb73-fddb80f92daf"
   },
   "outputs": [
    {
     "name": "stdout",
     "output_type": "stream",
     "text": [
      "John\n"
     ]
    }
   ],
   "source": [
    "import json\n",
    "\n",
    "json_string = '{\"name\": \"John\", \"age\": 30}'\n",
    "data = json.loads(json_string)\n",
    "print(data[\"name\"])  # Output: John\n"
   ]
  },
  {
   "cell_type": "markdown",
   "metadata": {
    "id": "M8Ld45pJ7tWu"
   },
   "source": [
    "`json.load()`: Reads a JSON string from a file and parses it into a Python object."
   ]
  },
  {
   "cell_type": "code",
   "execution_count": 115,
   "metadata": {
    "colab": {
     "base_uri": "https://localhost:8080/"
    },
    "executionInfo": {
     "elapsed": 224,
     "status": "ok",
     "timestamp": 1684330730713,
     "user": {
      "displayName": "Bruno Sartini",
      "userId": "05292936127254060969"
     },
     "user_tz": -120
    },
    "id": "Ifjd8UkT7lhZ",
    "outputId": "b4ecf372-18e9-4d4b-8bb7-8179611e3a1b"
   },
   "outputs": [
    {
     "name": "stdout",
     "output_type": "stream",
     "text": [
      "John\n"
     ]
    }
   ],
   "source": [
    "import json\n",
    "\n",
    "with open(\"data.json\", \"r\") as file:\n",
    "    data = json.load(file)\n",
    "print(data[\"name\"])"
   ]
  },
  {
   "cell_type": "markdown",
   "metadata": {
    "id": "0v9vijAG743-"
   },
   "source": [
    "`json.dump()` and `json.load()` can be used together to copy JSON data from one file to another."
   ]
  },
  {
   "cell_type": "code",
   "execution_count": 116,
   "metadata": {
    "colab": {
     "base_uri": "https://localhost:8080/"
    },
    "executionInfo": {
     "elapsed": 224,
     "status": "ok",
     "timestamp": 1684330024991,
     "user": {
      "displayName": "Bruno Sartini",
      "userId": "05292936127254060969"
     },
     "user_tz": -120
    },
    "id": "1l5cZL3A3mj1",
    "outputId": "7fb42dae-79b1-4d2e-8b2b-c6146998220a"
   },
   "outputs": [],
   "source": [
    "import json\n",
    "\n",
    "with open(\"data.json\", \"r\") as input_file, open(\"output.json\", \"w\") as output_file:\n",
    "    data = json.load(input_file)\n",
    "    json.dump(data, output_file)\n",
    "\n"
   ]
  },
  {
   "cell_type": "markdown",
   "metadata": {
    "id": "TaRJhh7V8Dr9"
   },
   "source": [
    "`json.dumps()` can accept additional parameters such as `indent` and `sort_keys` for printing things in a nicer way and sorting the keys in the output."
   ]
  },
  {
   "cell_type": "code",
   "execution_count": 118,
   "metadata": {
    "colab": {
     "base_uri": "https://localhost:8080/"
    },
    "executionInfo": {
     "elapsed": 218,
     "status": "ok",
     "timestamp": 1684330827860,
     "user": {
      "displayName": "Bruno Sartini",
      "userId": "05292936127254060969"
     },
     "user_tz": -120
    },
    "id": "NQ5Brmf05hVk",
    "outputId": "9fdcecc1-ba2b-4fef-e9c3-475ae2befa4f"
   },
   "outputs": [
    {
     "name": "stdout",
     "output_type": "stream",
     "text": [
      "{\n",
      "    \"age\": 30,\n",
      "    \"name\": \"John\"\n",
      "}\n",
      "{\"name\": \"John\", \"age\": 30}\n"
     ]
    }
   ],
   "source": [
    "import json\n",
    "\n",
    "data = {\"name\": \"John\", \"age\": 30}\n",
    "json_string = json.dumps(data, indent=4, sort_keys=True)\n",
    "json_string_ugly = json.dumps(data)\n",
    "print(json_string)\n",
    "print(json_string_ugly)\n"
   ]
  },
  {
   "cell_type": "markdown",
   "metadata": {
    "id": "jZLHrOtZ8ZqI"
   },
   "source": [
    "# Exercises:\n",
    "\n",
    "\n",
    "## Exercise 7.1:\n",
    "\n",
    "Write a `read_csv(filename)` that takes a filename as input to load the data from the CSV file into a DictReader. The function should return the DictReader.\n",
    "\n",
    "## Exercise 7.2\n",
    "\n",
    "Write a function `count_csv_row(csv_file)` that reads a CSV file and returns the total number of rows in the file.\n",
    "\n",
    "## Exercise 7.3\n",
    "\n",
    "Write a function `retrieve_info_from_json(json_file_path, specific_key)` that reads a JSON file and returns the value connected to a specific key.\n",
    "\n",
    "## Exercise 7.4\n",
    "\n",
    "Write a function `replace_in_txt(txt_file, word_to_be_replaced, replacement)` reads a text file and replaces all occurrences of a word with another word.\n",
    "\n",
    "\n",
    "## Exercise 7.5:\n",
    "\n",
    "Write a function `calculate_column_average(csv_file, column_name)` that takes a csv file and a column name as input. The calculates and return the average value for the specified column in the csv. \n",
    "\n",
    "## Exercise 7.6\n",
    "\n",
    "Create a Jupyter notebook where you document and test all the previous functions\n",
    "\n",
    "\n",
    "## Data for testing\n",
    "\n",
    "Here is an example CSV file `data.csv` that you can use to test the functions above:\n",
    "\n",
    "```\n",
    "name,age,city\n",
    "John,30,New York\n",
    "Emily,25,Los Angeles\n",
    "Michael,35,Chicago\n",
    "Sophia,28,Houston\n",
    "Daniel,32,San Francisco\n",
    "Olivia,27,Miami\n",
    "James,31,Seattle\n",
    "Emma,29,Boston\n",
    "William,26,Atlanta\n",
    "Ava,33,Dallas\n",
    "Benjamin,24,Denver\n",
    "Isabella,30,Austin\n",
    "Mason,28,Phoenix\n",
    "Mia,29,Detroit\n",
    "Elijah,27,Philadelphia\n",
    "```\n",
    "\n",
    "Copy this in a notepad and save it as \"data_ex.csv\".\n",
    "\n",
    "Here is an example JSON file you can use to set the functions above:\n",
    "\n",
    "```\n",
    "{\n",
    "  \"name\": \"John Doe\",\n",
    "  \"age\": 30,\n",
    "  \"city\": \"New York\",\n",
    "  \"skills\": [\"Python\", \"JavaScript\", \"HTML\", \"CSS\"],\n",
    "  \"email\": \"john.doe@example.com\"\n",
    "}\n",
    "```\n",
    "Copy this in a notepad and save it as \"data_ex.json\".\n"
   ]
  },
  {
   "cell_type": "markdown",
   "metadata": {},
   "source": []
  },
  {
   "cell_type": "markdown",
   "metadata": {},
   "source": []
  }
 ],
 "metadata": {
  "colab": {
   "authorship_tag": "ABX9TyPSwVfos6mAS5t1tAKrZiyn",
   "provenance": []
  },
  "kernelspec": {
   "display_name": "Python 3 (ipykernel)",
   "language": "python",
   "name": "python3"
  },
  "language_info": {
   "codemirror_mode": {
    "name": "ipython",
    "version": 3
   },
   "file_extension": ".py",
   "mimetype": "text/x-python",
   "name": "python",
   "nbconvert_exporter": "python",
   "pygments_lexer": "ipython3",
   "version": "3.8.10"
  }
 },
 "nbformat": 4,
 "nbformat_minor": 4
}
