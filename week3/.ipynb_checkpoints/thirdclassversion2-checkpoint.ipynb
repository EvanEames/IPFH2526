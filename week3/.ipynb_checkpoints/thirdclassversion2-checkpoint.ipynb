{
 "cells": [
  {
   "cell_type": "markdown",
   "metadata": {},
   "source": [
    "# Trick or Script?"
   ]
  },
  {
   "cell_type": "markdown",
   "metadata": {
    "id": "pbHfobo3pjd2"
   },
   "source": [
    "# Lists and Loops"
   ]
  },
  {
   "cell_type": "markdown",
   "metadata": {
    "id": "_gF2aiFMplbz"
   },
   "source": [
    "## Learning Objectives\n",
    "\n",
    "\n",
    "\n",
    "*   Understanding what lists are and how to create and manipulate them in Python\n",
    "*   Understanding what loops are and how to use them to iterate over lists\n",
    "    *  Understanding the difference between \"for\" and \"while\" loops\n",
    "*   Practice loops and lists together in Python\n",
    "\n"
   ]
  },
  {
   "cell_type": "markdown",
   "metadata": {
    "id": "ViSz5l-cp8cd"
   },
   "source": [
    "## Lists"
   ]
  },
  {
   "cell_type": "markdown",
   "metadata": {
    "id": "JPgTHEk7qCyI"
   },
   "source": [
    "### Creating Lists\n",
    "\n",
    "A list is an ordered, mutable collection of items enclosed in square brackets \"[]\". Commas are used to separate one element from the other."
   ]
  },
  {
   "cell_type": "code",
   "execution_count": null,
   "metadata": {
    "id": "-br9q3YLqSYJ"
   },
   "outputs": [],
   "source": [
    "example_list = [1,2,3,4,5] #how to create a list in python\n",
    "\n",
    "# you can create an empty list by writing either\n",
    "\n",
    "empty_list = []\n",
    "\n",
    "#or\n",
    "\n",
    "empty_list = list()"
   ]
  },
  {
   "cell_type": "markdown",
   "metadata": {
    "id": "5O6Qf8UPqh9e"
   },
   "source": [
    "Lists can be printed, and they can contain multiple datatypes"
   ]
  },
  {
   "cell_type": "code",
   "execution_count": 1,
   "metadata": {
    "id": "L3ZgNzSvql8t"
   },
   "outputs": [
    {
     "name": "stdout",
     "output_type": "stream",
     "text": [
      "[1, 2, 3]\n"
     ]
    }
   ],
   "source": [
    "print_me = [1,2,3]\n",
    "\n",
    "print(print_me)"
   ]
  },
  {
   "cell_type": "code",
   "execution_count": 2,
   "metadata": {
    "id": "epsWgrFhp_uh"
   },
   "outputs": [],
   "source": [
    "mix_list = [1, \"a\", 2.04, False, [1, \"a\"]] # this list contains an integer, \n",
    "# a string, a float, a boolean and another list inside of it."
   ]
  },
  {
   "cell_type": "markdown",
   "metadata": {
    "id": "cFMQ6Em4q61o"
   },
   "source": [
    "## Accessing List Items\n",
    "\n",
    "Being ordered collections, you can retrieve an element from a list using its index. In Python, the starting index is 0 (meaning the first element of a list has 0 as index)."
   ]
  },
  {
   "cell_type": "code",
   "execution_count": 2,
   "metadata": {
    "id": "1WqZ9HyHq4dC"
   },
   "outputs": [
    {
     "name": "stdout",
     "output_type": "stream",
     "text": [
      "hello,\n",
      "are\n"
     ]
    }
   ],
   "source": [
    "example_list = [\"pumpkin,\", \"jack\", \"o\", \"lantern\"]\n",
    "\n",
    "print(example_list[0])\n",
    "\n",
    "# you can save an element of a list in another variable\n",
    "\n",
    "third_element = example_list[2]\n",
    "\n",
    "print(third_element)"
   ]
  },
  {
   "cell_type": "markdown",
   "metadata": {
    "id": "mjWTUDyDrpXf"
   },
   "source": [
    "A negative index can be used to access elements of a list from the last one."
   ]
  },
  {
   "cell_type": "code",
   "execution_count": 1,
   "metadata": {
    "id": "yFcszTMjr6Fo"
   },
   "outputs": [
    {
     "name": "stdout",
     "output_type": "stream",
     "text": [
      "!\n",
      "Halloween\n"
     ]
    }
   ],
   "source": [
    "example_list = [\"This\", \"is\", \"Halloween\", \"!\"]\n",
    "\n",
    "print(example_list[-1]) #last element\n",
    "print(example_list[-2]) #second to last element"
   ]
  },
  {
   "cell_type": "markdown",
   "metadata": {
    "id": "NGL0Y9FNsaUQ"
   },
   "source": [
    "### Modifying a list from index\n",
    "\n",
    "Being a mutable object, you can modify a list by assinging a new value to an element in a certain index position"
   ]
  },
  {
   "cell_type": "code",
   "execution_count": 6,
   "metadata": {
    "id": "BPupH_VjsmLg"
   },
   "outputs": [
    {
     "name": "stdout",
     "output_type": "stream",
     "text": [
      "[1, 2, 3]\n",
      "['a', 2, 3]\n"
     ]
    }
   ],
   "source": [
    "to_be_changed_list = [\"troll tongue\",\"spider legs\",\"demon eye\"]\n",
    "print(to_be_changed_list)\n",
    "to_be_changed_list[0] = \"candy\" #changes the first item of the list with \"candy\"\n",
    "\n",
    "print(to_be_changed_list)"
   ]
  },
  {
   "cell_type": "markdown",
   "metadata": {
    "id": "2Bu_ZnrNtDwF"
   },
   "source": [
    "## List Slicing\n",
    "\n",
    "You can create a sublist of a list by slicing it. You slice a list by specifying two indices separated by a colon \":\". The first index is the starting one (inclusive), the second index is the ending one (exclusive)."
   ]
  },
  {
   "cell_type": "code",
   "execution_count": 7,
   "metadata": {
    "id": "-CSx_g8StVW4"
   },
   "outputs": [
    {
     "name": "stdout",
     "output_type": "stream",
     "text": [
      "[2, 3]\n"
     ]
    }
   ],
   "source": [
    "normal_list = [1,2,3,4,5]\n",
    "\n",
    "sliced_list = normal_list[1:3]\n",
    "\n",
    "print(sliced_list)"
   ]
  },
  {
   "cell_type": "code",
   "execution_count": 8,
   "metadata": {
    "id": "uklZ9os_tecM"
   },
   "outputs": [
    {
     "name": "stdout",
     "output_type": "stream",
     "text": [
      "[1, 2, 3]\n"
     ]
    }
   ],
   "source": [
    "normal_list = [1,2,3,4,5]\n",
    "\n",
    "sliced_list = normal_list[0:-2]\n",
    "\n",
    "print(sliced_list)"
   ]
  },
  {
   "cell_type": "markdown",
   "metadata": {
    "id": "tDeiTq5Ht92s"
   },
   "source": [
    "If you write nothing before the \":\" when slicing, it will start from the beginning and end at the index you write after it (exclusive), if you write nothing after \":\" it will start from the index you write before the \":\" (inclusive) and end at the end of the list"
   ]
  },
  {
   "cell_type": "code",
   "execution_count": 11,
   "metadata": {
    "id": "4hGCZL1BuPog"
   },
   "outputs": [
    {
     "name": "stdout",
     "output_type": "stream",
     "text": [
      "[1, 2, 3]\n",
      "[4, 5]\n",
      "[2, 3, 4, 5]\n"
     ]
    }
   ],
   "source": [
    "normal_list = [1,2,3,4,5]\n",
    "\n",
    "sliced_list = normal_list[:3]\n",
    "print(sliced_list)\n",
    "sliced_list = normal_list[3:]\n",
    "print(sliced_list)\n",
    "sliced_list = normal_list[1:500]\n",
    "print(sliced_list)"
   ]
  },
  {
   "cell_type": "markdown",
   "metadata": {
    "id": "Vm8nm-zpuwvn"
   },
   "source": [
    "## List Methods and length\n",
    "\n",
    "Lists can be manipulated using different methods in Python:\n",
    "\n",
    "\n",
    "\n",
    "*   \"append()\": adds an item to the end of the list\n",
    "*   \"insert(i, x)\": adds an item (x) at a specific position of the list (i)\n",
    "*   \"remove(x)\": removes the first occurrence of the \"x\" element from a list\n",
    "*   \"pop(i)\": removes and returns the item in a specific position (i) of the list, if no position is specified, the last element is removed and returned\n",
    "*   \"sort()\": sorts the items in the list in ascending order\n",
    "*   \"reverse()\": reverses the order of the items in the list\n",
    "*   \"len(list)\": returns the length (number of elements) of the list\n",
    "*   \"count(x)\": returns the number of times \"x\" appears in the list\n",
    "*   \"extend(another_list)\": adds all the elements of an iterable to the end of the list\n",
    "*   \"clear()\": removes all the elements from a list\n",
    "*   \"index(x)\": returns the index of the first occurrence of \"x\" in the list\n",
    "\n"
   ]
  },
  {
   "cell_type": "code",
   "execution_count": 2,
   "metadata": {
    "id": "XQ9R2KfGxTGD"
   },
   "outputs": [
    {
     "name": "stdout",
     "output_type": "stream",
     "text": [
      "['The Shining', 'The Ring', 'Suspiria', 'The Exorcist', 'The Grudge', 'Annabelle', 'Toy Story', 'Mean Girls']\n",
      "['The Shining', 'The Ring', 'Suspiria', 'The Substance', 'The Exorcist', 'The Grudge', 'Annabelle', 'Toy Story', 'Mean Girls']\n",
      "['The Shining', 'The Ring', 'Suspiria', 'The Substance', 'The Exorcist', 'The Grudge', 'Annabelle', 'Mean Girls']\n",
      "Mean Girls\n",
      "['The Shining', 'The Ring', 'Suspiria', 'The Substance', 'The Exorcist', 'The Grudge', 'Annabelle']\n"
     ]
    }
   ],
   "source": [
    "horror_list = [\"The Shining\", \"The Ring\", \"Suspiria\", \"The Exorcist\", \"The Grudge\",\"Annabelle\", \"Toy Story\"]\n",
    "\n",
    "horror_list.append(\"Mean Girls\")\n",
    "\n",
    "print(horror_list)\n",
    "\n",
    "horror_list.insert(3, \"The Substance\")\n",
    "\n",
    "print(horror_list)\n",
    "\n",
    "horror_list.remove(\"Toy Story\")\n",
    "\n",
    "print(horror_list)\n",
    "\n",
    "not_horror = horror_list.pop()\n",
    "\n",
    "print(not_horror)\n",
    "print(horror_list)"
   ]
  },
  {
   "cell_type": "code",
   "execution_count": 7,
   "metadata": {
    "id": "hsj3pCQgyQLY"
   },
   "outputs": [
    {
     "name": "stdout",
     "output_type": "stream",
     "text": [
      "['Annabelle', 'Suspiria', 'The Exorcist', 'The Grudge', 'The Ring', 'The Shining', 'Toy Story']\n",
      "['Toy Story', 'The Shining', 'The Ring', 'The Grudge', 'The Exorcist', 'Suspiria', 'Annabelle']\n",
      "7\n",
      "['The Lord of The Rings', 'Spirited Away', \"Howl's Moving Castle\", 'Annabelle', 'Toy Story', 'The Shining', 'The Ring', 'The Grudge', 'The Exorcist', 'Suspiria', 'Annabelle']\n",
      "9\n",
      "2\n",
      "[]\n"
     ]
    }
   ],
   "source": [
    "horror_list = [\"The Shining\", \"The Ring\", \"Suspiria\", \"The Exorcist\", \"The Grudge\",\"Annabelle\", \"Toy Story\"]\n",
    "\n",
    "horror_list.sort()\n",
    "\n",
    "print(horror_list)\n",
    "\n",
    "horror_list.reverse()\n",
    "\n",
    "print(horror_list)\n",
    "\n",
    "hor_list_len = len(horror_list)\n",
    "\n",
    "print(len(horror_list))\n",
    "\n",
    "movies = [\"The Lord of The Rings\", \"Spirited Away\", \"Howl's Moving Castle\", \"Annabelle\"]\n",
    "\n",
    "movies.extend(horror_list)\n",
    "\n",
    "print(movies)\n",
    "\n",
    "print(movies.index(\"Suspiria\"))\n",
    "\n",
    "print(movies.count(\"Annabelle\"))\n",
    "movies.clear()\n",
    "\n",
    "print(movies)"
   ]
  },
  {
   "cell_type": "code",
   "execution_count": 8,
   "metadata": {},
   "outputs": [
    {
     "data": {
      "text/plain": [
       "7"
      ]
     },
     "execution_count": 8,
     "metadata": {},
     "output_type": "execute_result"
    }
   ],
   "source": [
    "hor_list_len"
   ]
  },
  {
   "cell_type": "markdown",
   "metadata": {
    "id": "gOKD6-Fx7IEg"
   },
   "source": [
    "### Checking whether an item is in a list\n",
    "\n",
    "You can check if an item is in a list with the \"in\" method, it is used in conditional statements."
   ]
  },
  {
   "cell_type": "code",
   "execution_count": 11,
   "metadata": {
    "id": "hio3GQwQzGj6"
   },
   "outputs": [
    {
     "name": "stdout",
     "output_type": "stream",
     "text": [
      "Good job\n",
      "No, no, no!\n",
      "You should add it, it's a good movie!\n",
      "['The Shining', 'The Ring', 'Suspiria', 'The Exorcist', 'The Grudge', 'Annabelle', 'The Descent']\n"
     ]
    }
   ],
   "source": [
    "horror_list = [\"The Shining\", \"The Ring\", \"Suspiria\", \"The Exorcist\", \"The Grudge\",\"Annabelle\", \"Toy Story\"]\n",
    "\n",
    "if \"The Shining\" in horror_list:\n",
    "    print(\"Good job\")\n",
    "\n",
    "if \"Toy Story\" in horror_list:\n",
    "    print(\"No, no, no!\")\n",
    "    horror_list.remove(\"Toy Story\")\n",
    "\n",
    "if \"The Descent\" in horror_list:\n",
    "    print(\"Good taste!\")\n",
    "else:\n",
    "    print(\"You should add it, it's a good movie!\")\n",
    "    horror_list.append(\"The Descent\")\n",
    "\n",
    "print(horror_list)"
   ]
  },
  {
   "cell_type": "markdown",
   "metadata": {
    "id": "oXdRf08rzgxN"
   },
   "source": [
    "## Loops"
   ]
  },
  {
   "cell_type": "markdown",
   "metadata": {
    "id": "jZQ05QZVzjVa"
   },
   "source": [
    "Loops are used in Python to repeat a block of code many times. There are two main loops: \"for\" and \"while\""
   ]
  },
  {
   "cell_type": "markdown",
   "metadata": {
    "id": "evTyp7VBz6-A"
   },
   "source": [
    "### For loops\n",
    "\n",
    "\"for\" loops are used in python to iterate over a sequence of elements (for instance a list (its elements), or a string (its characters)), to perform certain actions for each element in the sequence"
   ]
  },
  {
   "cell_type": "code",
   "execution_count": 12,
   "metadata": {
    "id": "nhSKurex0LIt"
   },
   "outputs": [
    {
     "name": "stdout",
     "output_type": "stream",
     "text": [
      "Ghost Knight\n",
      "Demon\n",
      "Diabolic Surgeon\n",
      "Vampire\n",
      "Zombie\n"
     ]
    }
   ],
   "source": [
    "costumes = [\"Ghost Knight\", \"Demon\", \"Diabolic Surgeon\", \"Vampire\", \"Zombie\"]\n",
    "\n",
    "for element in costumes:\n",
    "    print(element)"
   ]
  },
  {
   "cell_type": "markdown",
   "metadata": {
    "id": "5u2PP3gY0gf5"
   },
   "source": [
    "Element is the name of the variable that takes on each value of the \"costumes\" list, you can choose whatever name you want"
   ]
  },
  {
   "cell_type": "code",
   "execution_count": 13,
   "metadata": {
    "id": "Ahmxgycr0kd6"
   },
   "outputs": [
    {
     "name": "stdout",
     "output_type": "stream",
     "text": [
      "['o', 'o']\n"
     ]
    }
   ],
   "source": [
    "o_in_horror = []\n",
    "for character in \"horror\":\n",
    "    if character == \"o\":\n",
    "        o_in_horror.append(character)\n",
    "\n",
    "print(o_in_horror)"
   ]
  },
  {
   "cell_type": "markdown",
   "metadata": {
    "id": "JO7ZNAwP0lj8"
   },
   "source": [
    "#### Range"
   ]
  },
  {
   "cell_type": "markdown",
   "metadata": {
    "id": "RVcr-dQX0nzT"
   },
   "source": [
    "range(integer) is a function that takes an integer as an input and generate a sequence of numbers to iterate over (from 0 to the specified integer-1)"
   ]
  },
  {
   "cell_type": "code",
   "execution_count": 21,
   "metadata": {
    "id": "NiP2O-pv06qR"
   },
   "outputs": [
    {
     "name": "stdout",
     "output_type": "stream",
     "text": [
      "[0, 1, 2, 3, 4, 5, 6, 7, 8, 9]\n"
     ]
    }
   ],
   "source": [
    "empty_list = list()\n",
    "for i in range(10):\n",
    "    empty_list.append(i)\n",
    "print(empty_list)\n"
   ]
  },
  {
   "cell_type": "code",
   "execution_count": 17,
   "metadata": {},
   "outputs": [
    {
     "name": "stdout",
     "output_type": "stream",
     "text": [
      "0\n",
      "1\n",
      "2\n"
     ]
    }
   ],
   "source": [
    "witches = [\"Winifred\", \"Sarah\", \"Mary\"]\n",
    "\n",
    "for i in range(len(witches)):\n",
    "    print(i)\n",
    "    "
   ]
  },
  {
   "cell_type": "markdown",
   "metadata": {
    "id": "rE7F5iqD1RZ6"
   },
   "source": [
    "### While Loops"
   ]
  },
  {
   "cell_type": "markdown",
   "metadata": {
    "id": "LdbPNFiP1V6d"
   },
   "source": [
    "A \"while\" loop is used to repeat a certain block of code as long as a certain condition is true (be careful of infinite loops!)"
   ]
  },
  {
   "cell_type": "code",
   "execution_count": 15,
   "metadata": {
    "id": "uUkHx9wj1dhs"
   },
   "outputs": [
    {
     "name": "stdout",
     "output_type": "stream",
     "text": [
      "0\n",
      "1\n",
      "2\n"
     ]
    }
   ],
   "source": [
    "furies = 0\n",
    "\n",
    "while furies < 3:\n",
    "    print(furies)\n",
    "    furies += 1 # this is a shortcut for saying i = i + 1"
   ]
  },
  {
   "cell_type": "code",
   "execution_count": null,
   "metadata": {},
   "outputs": [],
   "source": [
    "# Break and continue"
   ]
  },
  {
   "cell_type": "code",
   "execution_count": 19,
   "metadata": {},
   "outputs": [
    {
     "name": "stdout",
     "output_type": "stream",
     "text": [
      "Nightmare\n"
     ]
    }
   ],
   "source": [
    "check_wrong = [\"Nightmare\", True, \"Before\", \"Christmas\"]\n",
    "\n",
    "for element in check_wrong:\n",
    "    if element is True:\n",
    "        break\n",
    "    print(element)"
   ]
  },
  {
   "cell_type": "markdown",
   "metadata": {
    "id": "apsr-J2X1y6V"
   },
   "source": [
    "# Exercises"
   ]
  },
  {
   "cell_type": "markdown",
   "metadata": {
    "id": "v_QsOkaJ161g"
   },
   "source": [
    "## Exercise 3.1\n",
    "\n",
    "Write a program in pycharm.\n",
    "Prompt the user asking for a number.\n",
    "Create an empty list called \"snatched_souls\".\n",
    "While the length of \"snatched_souls\" is less than the number prompted by the user, keep asking the user for a name to add the to the snatched_souls list.\n",
    "When the number of souls is finally correct, print the list. Run and test the program\n",
    "\n",
    "## Exercise 3.2\n",
    "\n",
    "Write  a program  in PyCharm. Write a list with the following elements [1,3,4,53,2,6,78,100]. Print the sum of the even numbers by iterating on it and finding whether a number is even or odd. Run and test the program\n",
    "\n",
    "## Exercise 3.3\n",
    "\n",
    "Write a program that prompts the user to enter a list of numbers and then prints out the average of the numbers. The program should keep asking the user to enter numbers until they write \"hocus pocus\" to signal the end of the list. Run and test the program\n",
    "\n",
    "## Exercise 3.4\n",
    "\n",
    "Create a list in Python called \"pizza_base\" with \"mozzarella\", \"tomato\", \"flour\", \"yeast\" and \"salt\" in it. Then create another list called \"vesuvio\" with \"salame\", \"ricotta\", \"spicy oil\" in it. Then create a third one called \"Popeye\" with \"ricotta\", \"spinach\" in it. Finally, create \"spicy\" list with \"salame\", \"spicy oil\" in it.\n",
    "\n",
    "Extend the popeye list with the pizza_base. Then extend the popeye one with the pizza base again. Extend the vesuvio list with the pizza base. Append \"mushrooms\" to the popeye list. Remove \"mozzarella\" from the vesuvio list. Create an empty list called \"not_wasted\". If the popeye list has more elements the vesuvio list, while it has more elements, pop an element from the popeye and add it to the not_wasted list. Now iterate over the elements of the spicy list: if an element is not present in the vesuvio list, add it to the not_wasted list.\n",
    "\n",
    "Make a list called \"everything\" and extend it with the elements of all the list you have created.\n",
    "\n",
    "For each element of this list, print the number of times it appears in the list. If the element is in other lists (excluding \"everything\"), print the index number of that element in those lists and then remove it from them.\n",
    "\n",
    "Print the length of the everything list.\n",
    "\n",
    "Clear the everything list.\n",
    "\n",
    "Run and test the program on PyCharm\n",
    "\n",
    "## Exercise 3.5\n",
    "\n",
    "Create a jupyter notebook in PyCharm. Call it \"week3exercises\". Structure it with markdown, presenting the description of every exercises and what you have done to complete it. After each description, paste the code that you created. Run all the blocks and save the jupyter file.\n",
    "\n"
   ]
  },
  {
   "cell_type": "code",
   "execution_count": null,
   "metadata": {},
   "outputs": [],
   "source": []
  }
 ],
 "metadata": {
  "colab": {
   "provenance": []
  },
  "kernelspec": {
   "display_name": "Python 3 (ipykernel)",
   "language": "python",
   "name": "python3"
  },
  "language_info": {
   "codemirror_mode": {
    "name": "ipython",
    "version": 3
   },
   "file_extension": ".py",
   "mimetype": "text/x-python",
   "name": "python",
   "nbconvert_exporter": "python",
   "pygments_lexer": "ipython3",
   "version": "3.8.10"
  }
 },
 "nbformat": 4,
 "nbformat_minor": 4
}
