{
 "cells": [
  {
   "cell_type": "markdown",
   "metadata": {},
   "source": [
    "# Trick or Script?"
   ]
  },
  {
   "cell_type": "markdown",
   "metadata": {
    "id": "pbHfobo3pjd2"
   },
   "source": [
    "# Lists and Loops"
   ]
  },
  {
   "cell_type": "markdown",
   "metadata": {
    "id": "_gF2aiFMplbz"
   },
   "source": [
    "## Learning Objectives\n",
    "\n",
    "\n",
    "\n",
    "*   Understanding what lists are and how to create and manipulate them in Python\n",
    "*   Understanding what loops are and how to use them to iterate over lists\n",
    "    *  Understanding the difference between \"for\" and \"while\" loops\n",
    "*   Practice loops and lists together in Python\n",
    "\n"
   ]
  },
  {
   "cell_type": "markdown",
   "metadata": {
    "id": "ViSz5l-cp8cd"
   },
   "source": [
    "## Lists"
   ]
  },
  {
   "cell_type": "markdown",
   "metadata": {
    "id": "JPgTHEk7qCyI"
   },
   "source": [
    "### Creating Lists\n",
    "\n",
    "A list is an ordered, mutable collection of items enclosed in square brackets \"[]\". Commas are used to separate one element from the other."
   ]
  },
  {
   "cell_type": "code",
   "execution_count": 1,
   "metadata": {
    "id": "-br9q3YLqSYJ"
   },
   "outputs": [],
   "source": [
    "example_list = [1,2,3,4,5] #how to create a list in python\n",
    "\n",
    "# you can create an empty list by writing either\n",
    "\n",
    "empty_list = []\n",
    "\n",
    "#or\n",
    "\n",
    "empty_list = list()"
   ]
  },
  {
   "cell_type": "markdown",
   "metadata": {
    "id": "5O6Qf8UPqh9e"
   },
   "source": [
    "Lists can be printed, and they can contain multiple datatypes"
   ]
  },
  {
   "cell_type": "code",
   "execution_count": 2,
   "metadata": {
    "id": "L3ZgNzSvql8t"
   },
   "outputs": [
    {
     "name": "stdout",
     "output_type": "stream",
     "text": [
      "[1, 2, 3]\n"
     ]
    }
   ],
   "source": [
    "print_me = [1,2,3]\n",
    "\n",
    "print(print_me)"
   ]
  },
  {
   "cell_type": "code",
   "execution_count": 3,
   "metadata": {
    "id": "epsWgrFhp_uh"
   },
   "outputs": [],
   "source": [
    "mix_list = [1, \"a\", 2.04, False, [1, \"a\"]] # this list contains an integer, \n",
    "# a string, a float, a boolean and another list inside of it."
   ]
  },
  {
   "cell_type": "markdown",
   "metadata": {
    "id": "cFMQ6Em4q61o"
   },
   "source": [
    "## Accessing List Items\n",
    "\n",
    "Being ordered collections, you can retrieve an element from a list using its index. In Python, the starting index is 0 (meaning the first element of a list has 0 as index)."
   ]
  },
  {
   "cell_type": "code",
   "execution_count": 4,
   "metadata": {
    "id": "1WqZ9HyHq4dC"
   },
   "outputs": [
    {
     "name": "stdout",
     "output_type": "stream",
     "text": [
      "pumpkin,\n",
      "o\n"
     ]
    }
   ],
   "source": [
    "example_list = [\"pumpkin,\", \"jack\", \"o\", \"lantern\"]\n",
    "\n",
    "print(example_list[0])\n",
    "\n",
    "# you can save an element of a list in another variable\n",
    "\n",
    "third_element = example_list[2]\n",
    "\n",
    "print(third_element)"
   ]
  },
  {
   "cell_type": "markdown",
   "metadata": {
    "id": "mjWTUDyDrpXf"
   },
   "source": [
    "A negative index can be used to access elements of a list from the last one."
   ]
  },
  {
   "cell_type": "code",
   "execution_count": 5,
   "metadata": {
    "id": "yFcszTMjr6Fo"
   },
   "outputs": [
    {
     "name": "stdout",
     "output_type": "stream",
     "text": [
      "!\n",
      "Halloween\n"
     ]
    }
   ],
   "source": [
    "example_list = [\"This\", \"is\", \"Halloween\", \"!\"]\n",
    "\n",
    "print(example_list[-1]) #last element\n",
    "print(example_list[-2]) #second to last element"
   ]
  },
  {
   "cell_type": "markdown",
   "metadata": {
    "id": "NGL0Y9FNsaUQ"
   },
   "source": [
    "### Modifying a list from index\n",
    "\n",
    "Being a mutable object, you can modify a list by assinging a new value to an element in a certain index position"
   ]
  },
  {
   "cell_type": "code",
   "execution_count": 6,
   "metadata": {
    "id": "BPupH_VjsmLg"
   },
   "outputs": [
    {
     "name": "stdout",
     "output_type": "stream",
     "text": [
      "['troll tongue', 'spider legs', 'demon eye']\n",
      "['candy', 'spider legs', 'demon eye']\n"
     ]
    }
   ],
   "source": [
    "to_be_changed_list = [\"troll tongue\",\"spider legs\",\"demon eye\"]\n",
    "print(to_be_changed_list)\n",
    "to_be_changed_list[0] = \"candy\" #changes the first item of the list with \"candy\"\n",
    "\n",
    "print(to_be_changed_list)"
   ]
  },
  {
   "cell_type": "markdown",
   "metadata": {
    "id": "2Bu_ZnrNtDwF"
   },
   "source": [
    "## List Slicing\n",
    "\n",
    "You can create a sublist of a list by slicing it. You slice a list by specifying two indices separated by a colon \":\". The first index is the starting one (inclusive), the second index is the ending one (exclusive)."
   ]
  },
  {
   "cell_type": "code",
   "execution_count": 7,
   "metadata": {
    "id": "-CSx_g8StVW4"
   },
   "outputs": [
    {
     "name": "stdout",
     "output_type": "stream",
     "text": [
      "[2, 3]\n"
     ]
    }
   ],
   "source": [
    "normal_list = [1,2,3,4,5]\n",
    "\n",
    "sliced_list = normal_list[1:3]\n",
    "\n",
    "print(sliced_list)"
   ]
  },
  {
   "cell_type": "code",
   "execution_count": 8,
   "metadata": {
    "id": "uklZ9os_tecM"
   },
   "outputs": [
    {
     "name": "stdout",
     "output_type": "stream",
     "text": [
      "[1, 2, 3]\n"
     ]
    }
   ],
   "source": [
    "normal_list = [1,2,3,4,5]\n",
    "\n",
    "sliced_list = normal_list[0:-2]\n",
    "\n",
    "print(sliced_list)"
   ]
  },
  {
   "cell_type": "markdown",
   "metadata": {
    "id": "tDeiTq5Ht92s"
   },
   "source": [
    "If you write nothing before the \":\" when slicing, it will start from the beginning and end at the index you write after it (exclusive), if you write nothing after \":\" it will start from the index you write before the \":\" (inclusive) and end at the end of the list"
   ]
  },
  {
   "cell_type": "code",
   "execution_count": 9,
   "metadata": {
    "id": "4hGCZL1BuPog"
   },
   "outputs": [
    {
     "name": "stdout",
     "output_type": "stream",
     "text": [
      "[1, 2, 3]\n",
      "[4, 5]\n",
      "[2, 3, 4, 5]\n"
     ]
    }
   ],
   "source": [
    "normal_list = [1,2,3,4,5]\n",
    "\n",
    "sliced_list = normal_list[:3]\n",
    "print(sliced_list)\n",
    "sliced_list = normal_list[3:]\n",
    "print(sliced_list)\n",
    "sliced_list = normal_list[1:500]\n",
    "print(sliced_list)"
   ]
  },
  {
   "cell_type": "markdown",
   "metadata": {
    "id": "Vm8nm-zpuwvn"
   },
   "source": [
    "## List Methods and length\n",
    "\n",
    "Lists can be manipulated using different methods in Python:\n",
    "\n",
    "\n",
    "\n",
    "*   \"append()\": adds an item to the end of the list\n",
    "*   \"insert(i, x)\": adds an item (x) at a specific position of the list (i)\n",
    "*   \"remove(x)\": removes the first occurrence of the \"x\" element from a list\n",
    "*   \"pop(i)\": removes and returns the item in a specific position (i) of the list, if no position is specified, the last element is removed and returned\n",
    "*   \"sort()\": sorts the items in the list in ascending order\n",
    "*   \"reverse()\": reverses the order of the items in the list\n",
    "*   \"len(list)\": returns the length (number of elements) of the list\n",
    "*   \"count(x)\": returns the number of times \"x\" appears in the list\n",
    "*   \"extend(another_list)\": adds all the elements of an iterable to the end of the list\n",
    "*   \"clear()\": removes all the elements from a list\n",
    "*   \"index(x)\": returns the index of the first occurrence of \"x\" in the list\n",
    "\n"
   ]
  },
  {
   "cell_type": "code",
   "execution_count": 10,
   "metadata": {
    "id": "XQ9R2KfGxTGD"
   },
   "outputs": [
    {
     "name": "stdout",
     "output_type": "stream",
     "text": [
      "['The Shining', 'The Ring', 'Suspiria', 'The Exorcist', 'The Grudge', 'Annabelle', 'Toy Story', 'Mean Girls']\n",
      "['The Shining', 'The Ring', 'Suspiria', 'The Substance', 'The Exorcist', 'The Grudge', 'Annabelle', 'Toy Story', 'Mean Girls']\n",
      "['The Shining', 'The Ring', 'Suspiria', 'The Substance', 'The Exorcist', 'The Grudge', 'Annabelle', 'Mean Girls']\n",
      "Mean Girls\n",
      "['The Shining', 'The Ring', 'Suspiria', 'The Substance', 'The Exorcist', 'The Grudge', 'Annabelle']\n"
     ]
    }
   ],
   "source": [
    "horror_list = [\"The Shining\", \"The Ring\", \"Suspiria\", \"The Exorcist\", \"The Grudge\",\"Annabelle\", \"Toy Story\"]\n",
    "\n",
    "horror_list.append(\"Mean Girls\")\n",
    "\n",
    "print(horror_list)\n",
    "\n",
    "horror_list.insert(3, \"The Substance\")\n",
    "\n",
    "print(horror_list)\n",
    "\n",
    "horror_list.remove(\"Toy Story\")\n",
    "\n",
    "print(horror_list)\n",
    "\n",
    "not_horror = horror_list.pop()\n",
    "\n",
    "print(not_horror)\n",
    "print(horror_list)"
   ]
  },
  {
   "cell_type": "code",
   "execution_count": 11,
   "metadata": {
    "id": "hsj3pCQgyQLY"
   },
   "outputs": [
    {
     "name": "stdout",
     "output_type": "stream",
     "text": [
      "['Annabelle', 'Suspiria', 'The Exorcist', 'The Grudge', 'The Ring', 'The Shining']\n",
      "['The Shining', 'The Ring', 'The Grudge', 'The Exorcist', 'Suspiria', 'Annabelle']\n",
      "6\n",
      "['The Lord of The Rings', 'Spirited Away', \"Howl's Moving Castle\", 'Annabelle', 'The Shining', 'The Ring', 'The Grudge', 'The Exorcist', 'Suspiria', 'Annabelle']\n",
      "8\n",
      "2\n",
      "[]\n"
     ]
    }
   ],
   "source": [
    "horror_list = [\"The Shining\", \"The Ring\", \"Suspiria\", \"The Exorcist\", \"The Grudge\",\"Annabelle\"]\n",
    "\n",
    "horror_list.sort()\n",
    "\n",
    "print(horror_list)\n",
    "\n",
    "horror_list.reverse()\n",
    "\n",
    "print(horror_list)\n",
    "\n",
    "hor_list_len = len(horror_list)\n",
    "\n",
    "print(len(horror_list))\n",
    "\n",
    "movies = [\"The Lord of The Rings\", \"Spirited Away\", \"Howl's Moving Castle\", \"Annabelle\"]\n",
    "\n",
    "movies.extend(horror_list)\n",
    "\n",
    "print(movies)\n",
    "\n",
    "print(movies.index(\"Suspiria\"))\n",
    "\n",
    "print(movies.count(\"Annabelle\"))\n",
    "movies.clear()\n",
    "\n",
    "print(movies)"
   ]
  },
  {
   "cell_type": "markdown",
   "metadata": {},
   "source": [
    "We can also check the length of a list:"
   ]
  },
  {
   "cell_type": "code",
   "execution_count": 1,
   "metadata": {},
   "outputs": [
    {
     "name": "stdout",
     "output_type": "stream",
     "text": [
      "6\n"
     ]
    }
   ],
   "source": [
    "horror_list = [\"The Shining\", \"The Ring\", \"Suspiria\", \"The Exorcist\", \"The Grudge\",\"Annabelle\"]\n",
    "horror_list_len = len(horror_list)\n",
    "print(horror_list_len)"
   ]
  },
  {
   "cell_type": "markdown",
   "metadata": {
    "id": "gOKD6-Fx7IEg"
   },
   "source": [
    "### Checking whether an item is in a list\n",
    "\n",
    "You can check if an item is in a list with the \"in\" method, it is used in conditional statements."
   ]
  },
  {
   "cell_type": "code",
   "execution_count": 13,
   "metadata": {
    "id": "hio3GQwQzGj6"
   },
   "outputs": [
    {
     "name": "stdout",
     "output_type": "stream",
     "text": [
      "Good job\n",
      "No, no, no!\n",
      "You should add it, it's a good movie!\n",
      "['The Shining', 'The Ring', 'Suspiria', 'The Exorcist', 'The Grudge', 'Annabelle', 'The Descent']\n"
     ]
    }
   ],
   "source": [
    "horror_list = [\"The Shining\", \"The Ring\", \"Suspiria\", \"The Exorcist\", \"The Grudge\",\"Annabelle\", \"Toy Story\"]\n",
    "\n",
    "if \"The Shining\" in horror_list:\n",
    "    print(\"Good job\")\n",
    "\n",
    "if \"Toy Story\" in horror_list:\n",
    "    print(\"No, no, no!\")\n",
    "    horror_list.remove(\"Toy Story\")\n",
    "\n",
    "if \"The Descent\" in horror_list:\n",
    "    print(\"Good taste!\")\n",
    "else:\n",
    "    print(\"You should add it, it's a good movie!\")\n",
    "    horror_list.append(\"The Descent\")\n",
    "\n",
    "print(horror_list)"
   ]
  },
  {
   "cell_type": "markdown",
   "metadata": {
    "id": "oXdRf08rzgxN"
   },
   "source": [
    "## Loops"
   ]
  },
  {
   "cell_type": "markdown",
   "metadata": {
    "id": "jZQ05QZVzjVa"
   },
   "source": [
    "Loops are used in Python to repeat a block of code many times. There are two main loops: \"for\" and \"while\""
   ]
  },
  {
   "cell_type": "markdown",
   "metadata": {
    "id": "evTyp7VBz6-A"
   },
   "source": [
    "### For loops\n",
    "\n",
    "\"for\" loops are used in python to iterate over a sequence of elements (for instance a list (its elements), or a string (its characters)), to perform certain actions for each element in the sequence"
   ]
  },
  {
   "cell_type": "code",
   "execution_count": 14,
   "metadata": {
    "id": "nhSKurex0LIt"
   },
   "outputs": [
    {
     "name": "stdout",
     "output_type": "stream",
     "text": [
      "Ghost Knight\n",
      "Demon\n",
      "Diabolic Surgeon\n",
      "Vampire\n",
      "Zombie\n"
     ]
    }
   ],
   "source": [
    "costumes = [\"Ghost Knight\", \"Demon\", \"Diabolic Surgeon\", \"Vampire\", \"Zombie\"]\n",
    "\n",
    "for element in costumes:\n",
    "    print(element)"
   ]
  },
  {
   "cell_type": "markdown",
   "metadata": {
    "id": "5u2PP3gY0gf5"
   },
   "source": [
    "Element is the name of the variable that takes on each value of the \"costumes\" list, you can choose whatever name you want"
   ]
  },
  {
   "cell_type": "code",
   "execution_count": 15,
   "metadata": {
    "id": "Ahmxgycr0kd6"
   },
   "outputs": [
    {
     "name": "stdout",
     "output_type": "stream",
     "text": [
      "['o', 'o']\n"
     ]
    }
   ],
   "source": [
    "o_in_horror = []\n",
    "for character in \"horror\":\n",
    "    if character == \"o\":\n",
    "        o_in_horror.append(character)\n",
    "\n",
    "print(o_in_horror)"
   ]
  },
  {
   "cell_type": "markdown",
   "metadata": {
    "id": "JO7ZNAwP0lj8"
   },
   "source": [
    "#### Range"
   ]
  },
  {
   "cell_type": "markdown",
   "metadata": {
    "id": "RVcr-dQX0nzT"
   },
   "source": [
    "range(integer) is a function that takes an integer as an input and generate a sequence of numbers to iterate over (from 0 to the specified integer-1)"
   ]
  },
  {
   "cell_type": "code",
   "execution_count": 16,
   "metadata": {
    "id": "NiP2O-pv06qR"
   },
   "outputs": [
    {
     "name": "stdout",
     "output_type": "stream",
     "text": [
      "[0, 1, 2, 3, 4, 5, 6, 7, 8, 9]\n"
     ]
    }
   ],
   "source": [
    "empty_list = list()\n",
    "for i in range(10):\n",
    "    empty_list.append(i)\n",
    "print(empty_list)\n"
   ]
  },
  {
   "cell_type": "code",
   "execution_count": 17,
   "metadata": {},
   "outputs": [
    {
     "name": "stdout",
     "output_type": "stream",
     "text": [
      "0\n",
      "1\n",
      "2\n"
     ]
    }
   ],
   "source": [
    "witches = [\"Winifred\", \"Sarah\", \"Mary\"]\n",
    "\n",
    "for i in range(len(witches)):\n",
    "    print(i)\n",
    "    "
   ]
  },
  {
   "cell_type": "markdown",
   "metadata": {
    "id": "rE7F5iqD1RZ6"
   },
   "source": [
    "### While Loops"
   ]
  },
  {
   "cell_type": "markdown",
   "metadata": {
    "id": "LdbPNFiP1V6d"
   },
   "source": [
    "A \"while\" loop is used to repeat a certain block of code as long as a certain condition is true (be careful of infinite loops!)"
   ]
  },
  {
   "cell_type": "code",
   "execution_count": null,
   "metadata": {
    "id": "uUkHx9wj1dhs"
   },
   "outputs": [
    {
     "name": "stdout",
     "output_type": "stream",
     "text": [
      "0\n",
      "1\n",
      "2\n"
     ]
    }
   ],
   "source": [
    "counter = 0\n",
    "\n",
    "while counter < 3:\n",
    "    print(counter)\n",
    "    counter += 1 # this is a shortcut for saying i = i + 1"
   ]
  },
  {
   "cell_type": "markdown",
   "metadata": {},
   "source": [
    "### Break and continue"
   ]
  },
  {
   "cell_type": "code",
   "execution_count": null,
   "metadata": {},
   "outputs": [
    {
     "name": "stdout",
     "output_type": "stream",
     "text": [
      "Nightmare\n"
     ]
    }
   ],
   "source": [
    "check_wrong = [\"Nightmare\", \"Before\", True, \"Christmas\"]\n",
    "\n",
    "for element in check_wrong:\n",
    "    if element is True:\n",
    "        break\n",
    "    print(element)"
   ]
  },
  {
   "cell_type": "markdown",
   "metadata": {
    "id": "apsr-J2X1y6V"
   },
   "source": [
    "# Exercises of trick or script\n",
    "\n",
    "## Rules\n",
    "\n",
    "### 1\n",
    "You will be divided into teams of 3. (You can have teams of 4 if one more person is remaining, or you can work alone if you are there virtually) if two people are remaining, decide if you want to form a team of 2 or if you want to split and make two teams that have 3 people become teams of 4 people. Choose an halloween-themed name\n",
    "### 2\n",
    "You will need to complete the exercises, by doing collaborating programming (together on **one** computer)\n",
    "### 3\n",
    "When you are done, you need to send me the exercises via email at evan.eames@lmu.de (send me the final jupyter notebook file with the correct documentation!) along with a list with names and surnames of the people who are part of the teams, and the team name.\n",
    "\n",
    "### 4\n",
    "I will check the results next week, and I will assign 0.1 bonus points for the **final mark of the exam** to each team for each correct function that is correctly documented!!!\n",
    "Plus, the team which will send me the **most correct results the fastest** will have an additional 0.2 points!\n",
    "\n",
    "#### Example\n",
    "\n",
    "Team Scream Queens, with members Buffy, Sabrina, and Wednesday sends me the file at 15:59, they have 3 correctly documented functions. So they get +0.3 points\n",
    "\n",
    "Team Slashers, with Jack and Art, sends me the file at 16:02, they have 4 correctly documented functions. So they get 0.4 points.\n",
    "\n",
    "Team Monsters, with Frankenstein and The Swamp monster, sends me the file at 16:32, they have 4 correctly documented functions. So they get 0.4 points.\n",
    "\n",
    "Among all the teams, **4** was the highest number of correct functions. Among the teams that managed to get 4 correct, **Team Slashers** was the first, gaining an additional 0.2 points, totalling 0.6 points.\n",
    "\n",
    "**At the final exam:**\n",
    "\n",
    "Buffy scores 1.3. With the bonus points from the Trick or Script, she gets **1** as the final mark.\n",
    "\n",
    "Jack scores 2.7. With the bonus points from the Trick or Script, it gets **2**.\n",
    "\n",
    "The swamp monster scores 2.3. With the bonus points from the Trick or Script, he gets **2**.\n",
    "\n",
    "## Stay tuned\n",
    "\n",
    "Every 0.1 points counts! There will be another special event for Christmas where you can score more points for the final exam, increasing your bonus.\n",
    "\n",
    "### Notice\n",
    "\n",
    "The bonus points are only applied if you **pass the exam**. If you score 4.7, it **does not matter** if you have 0.9 bonus points, you will still fail the exam.\n"
   ]
  },
  {
   "cell_type": "markdown",
   "metadata": {
    "id": "v_QsOkaJ161g"
   },
   "source": [
    "## Exercise 3.1 SOUL SNATCHER\n",
    "\n",
    "Write a function: soul_snatcher, with one parameter: \"n_of_souls\".<br>\n",
    "The function creates an empty list called \"snatched_souls\".<br>\n",
    "While the length of \"snatched_souls\" is less than \"n_of_souls\", keep prompting the user (hint: use input) for a name to be added to the snatched_souls list, and keep prompting and adding names as long as the while cycle continues.<br>\n",
    "After the while is completed, return the snatched_souls list.\n",
    "\n",
    "## Exercise 3.2 IS IT POISONOUS???\n",
    "\n",
    "Write a function: is_it_poisonous, with three parameters, \"word\", \"poisonous_word\" and \"poison_resistance\". \"poisonous_word\" has a default value of \"belladonna\", \"poison_resistance\" has a default number of 3 (integer).<br>\n",
    "Make one variable, poisonous_count, and set it to 0 (integer).<br>\n",
    "Make two lists, \"word_l\" and \"poisonous_word_l\". Append to the first list the characters of \"word\". Append to the second list the characters of \"poisonous_word\". Iterate over word_l, if a character is in the poisonous_word_l, increase the value of poisonous_count by 1.\n",
    "At the end, if poisonous_count is bigger than poisonous_resistance, print \"This is poisoned, be careful!\", else, if poisonous_count is less or equal than poison_resistance, print \"This is safe\".\n",
    "\n",
    "## Exercise 3.3 CHASE SCENE\n",
    "\n",
    "Write a function called chase_scene, in reminiscence of all the iconic chase scenes in typical slasher movies. To survive a slasher chase scene, you need to either be faster than the killer, or smarter than them, or just luckier. You can survive a chase scene with a few scratches, but too many wounds will result you in not surviving it.<br>\n",
    "The function takes six parameters, victim_speed, killer_speed, victim_iq, killer_iq, victim_luck, killer_luck.<br>\n",
    "First, make a list called victim_skills, append, in this order, the victim_speed, victim_iq, and victim_luck.<br>\n",
    "Then make a second list called killer_skills. Append, in this order, the killer_speed, killer_iq, and killer_luck.<br>\n",
    "Also, create a wound variable, and set it as 0.<br>\n",
    "Then compare the first elements of each list. If the first element of victim skills is greater than the first element of the killer skill, print(\"You are faster than the killer!\") Else, increase the value of wound by the subtraction between the killer_skills list element and the victim_skills list element.<br>\n",
    "Then, compare the second elements of each list. If the second element of victim skills is greater than the second element of the killer skill, print(\"You are smarter than the killer!\") Else, increase the value of wound by the subtraction between the killer_skills list element and the victim_skills list element.<br>\n",
    "Finally, compare the third elements of each list. If the third element of victim skills is greater than the third element of the killer skill, print(\"You have more luck than the killer!\") Else, increase the value of wound by the subtraction between the killer_skills list element and the victim_skills list element.<br>\n",
    "If, at the end, wound is more than 5, print: \"You did not survive the chase\".<br>\n",
    "Else If, at the end, wound is more than 0 but less or equal than 5, print: \"You survived the chase with X wounds\" where X is the wound value.<br>\n",
    "Else If, at the end, wound is 0, print: \"You survived the chase effortlessly, good job!\".<br>\n",
    "\n",
    "## Exercise 3.4 SAW_RIDDLE\n",
    "\n",
    "BEFORE THE FUNCTION:<br>\n",
    "write<br>\n",
    "from random import randint<br>\n",
    "<br>\n",
    "randint works like this:<br>\n",
    "if you write \"x = randint(0,5)\" <- it will get a random integer from 0 to 5.<br>\n",
    "<br>\n",
    "Write a function saw_riddle, with two parameters, difficulty and my_try.<br>\n",
    "If my_try is bigger than diffulty, print(\"the second parameter must be smaller or equal than the first one\"). Return 0 to finish the function. <br>\n",
    "print \"let's play a game\"<br>\n",
    "print \"there are X rooms in front of you\" (where X is **difficulty +1**).<br>\n",
    "print \"you have chosen to enter in room Y\" (where Y is **my_try + 1**)<br>\n",
    "print \"will you escape or be stuck forever in here?\"<br>\n",
    "print \"let the games begin\"<br>\n",
    "Create a list called \"possibilities\".<br>\n",
    "While the length of the list is less than difficulty, append to the list the string \"game over\". (The list should look like [\"game over\", \"game over\", \"game over\"...] )<br>\n",
    "Then create a variable called \"random_pos\", and assign it a random integer between 0 and difficulty.<br>\n",
    "Insert \"you escaped\" in the list at the position that was given by the random integer generator.<br>\n",
    "Print the element of the list that is in the position of my_try.<br>\n",
    "Example: if my try is 3, print possibilities[3].<br>\n",
    "return 1 if the element is \"escape\",<br>\n",
    "return 0 otherwise.<br>\n",
    "\n",
    "## Exercise 3.5\n",
    "\n",
    "Create a jupyter notebook. Call it \"week3exercises\". Structure it with markdown, presenting the description of every exercises and what you have done to complete it. After each description, paste the code that you created. Also add code blocks that test the functions you have created. Run all the blocks and save the jupyter file.<br>\n",
    "\n"
   ]
  },
  {
   "cell_type": "code",
   "execution_count": 21,
   "metadata": {},
   "outputs": [
    {
     "data": {
      "text/plain": [
       "1"
      ]
     },
     "execution_count": 21,
     "metadata": {},
     "output_type": "execute_result"
    }
   ],
   "source": [
    "from random import randint\n",
    "\n",
    "x = randint(0,5)\n",
    "x"
   ]
  }
 ],
 "metadata": {
  "colab": {
   "provenance": []
  },
  "kernelspec": {
   "display_name": "Python 3",
   "language": "python",
   "name": "python3"
  },
  "language_info": {
   "codemirror_mode": {
    "name": "ipython",
    "version": 3
   },
   "file_extension": ".py",
   "mimetype": "text/x-python",
   "name": "python",
   "nbconvert_exporter": "python",
   "pygments_lexer": "ipython3",
   "version": "3.13.5"
  }
 },
 "nbformat": 4,
 "nbformat_minor": 4
}
