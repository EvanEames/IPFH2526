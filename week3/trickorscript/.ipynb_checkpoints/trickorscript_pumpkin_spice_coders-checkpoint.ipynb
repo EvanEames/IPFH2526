{
 "cells": [
  {
   "cell_type": "markdown",
   "id": "bb8862ea-cfab-4f2b-a6ed-7b8ab27fc973",
   "metadata": {},
   "source": [
    "## Ex 3.1"
   ]
  },
  {
   "cell_type": "markdown",
   "id": "e5424e61-21ee-438e-9c3f-78010fc1be34",
   "metadata": {},
   "source": [
    "1. We created a function soul snatcher with parameter n_of_souls.\n",
    "2. We created a list called \"snatched souls\"\n",
    "3. We added a condition where while snatched_ souls < n_of_souls, the function would ask for the input of another name.\n",
    "4. We return the function"
   ]
  },
  {
   "cell_type": "code",
   "execution_count": 5,
   "id": "7a972ef6-4c27-4d65-a782-9434422ba17f",
   "metadata": {},
   "outputs": [],
   "source": [
    "def soul_snatcher(n_of_souls):\n",
    "    snatched_souls = []\n",
    "    while len(snatched_souls) < n_of_souls:\n",
    "        nmsoul = input(\"Feed me a soul.\")\n",
    "        snatched_souls.append(nmsoul)\n",
    "    return snatched_souls\n",
    "list = soul_snatcher(5)\n",
    "print(list)"
   ]
  },
  {
   "cell_type": "markdown",
   "id": "9ef950e4-2a12-48fe-a6b6-57e846dcd692",
   "metadata": {},
   "source": [
    "## Ex 3.2"
   ]
  },
  {
   "cell_type": "markdown",
   "id": "5b78b89a-4741-4035-b9c6-83bcb6aee356",
   "metadata": {},
   "source": [
    "1. We create a function \"is_it_poisonous\" with parameters word, poisionous_word, which defaults to belladonna, and poison_resistance which defaults to 3.\n",
    "2. We create variable poisonous_count and set it to 0\n",
    "3. we create lists word_l and poisonous_woud_l\n",
    "4. We append every character in word to word_l\n",
    "5. We append every character in poisonous_word to poisonozs_word_l\n",
    "6. We create condition if character in poisonous_word_l, then poisonous count += 1\n",
    "7. We create condition if poisonous_count > poison_resistance, then \"This is poisoned, be careful\" will be printed. else \"this is safe\" will be printed."
   ]
  },
  {
   "cell_type": "code",
   "execution_count": 4,
   "id": "c3c5a939-ce18-427b-8340-0ea1ca49c385",
   "metadata": {},
   "outputs": [
    {
     "name": "stdin",
     "output_type": "stream",
     "text": [
      "Give me the name of a plant elm\n"
     ]
    },
    {
     "name": "stdout",
     "output_type": "stream",
     "text": [
      "This is safe.\n"
     ]
    }
   ],
   "source": [
    "def is_it_poisonous (word, poisonous_word = \"belladonna\", poison_resistance=3):\n",
    "    poisonous_count = 0\n",
    "    word_l = []\n",
    "    poisonous_word_l = []\n",
    "    for character in word:\n",
    "        word_l.append(character)\n",
    "    for character in poisonous_word:\n",
    "        poisonous_word_l.append(character)\n",
    "    for character in word_l:\n",
    "        if character in poisonous_word_l:\n",
    "            poisonous_count += 1\n",
    "    if poisonous_count > poison_resistance:\n",
    "        print(\"This is poisoned, be careful!\")\n",
    "    else:\n",
    "        print(\"This is safe.\")"
   ]
  },
  {
   "cell_type": "markdown",
   "id": "d29d8a94-013c-41ce-b7cf-76ac6adaf40e",
   "metadata": {},
   "source": [
    "## Ex 3.3"
   ]
  },
  {
   "cell_type": "markdown",
   "id": "0214a36e-91c1-48e6-8c30-0afdcd30707c",
   "metadata": {},
   "source": [
    "1. We create function chase_scene with parameters victim_speed, killer_speed, victim_iq, killer_iq, victim_luck, and killer_luck.\n",
    "2. we create variables victim_skills and killer_skills\n",
    "3. we create a variable called wound and set it as 0.\n",
    "4. we compared the victim and killer's skills in the three aspects of speed, iq and luck, and increased the value of wound if the killer's skills are higher than the victim's, the added value is the subtraction of the killer's speed/iq/luck and the victim's.\n",
    "5. Then we checked the value of wound, if it is more than 5, and printed different results according to different values."
   ]
  },
  {
   "cell_type": "code",
   "execution_count": null,
   "id": "a7b90e30-8fb2-4fb8-953d-cf1799f7ecb2",
   "metadata": {},
   "outputs": [],
   "source": [
    "def chase_scene(victim_speed, killer_speed, victim_iq, killer_iq, victim_luck, killer_luck):\n",
    "    victim_skills = [victim_speed, victim_iq, victim_luck]\n",
    "    killer_skills = [killer_speed, killer_iq, killer_luck]\n",
    "    wound = 0\n",
    "    if victim_skills[0] > killer_skills[0]:\n",
    "        print(\"You are faster than the killer!\")\n",
    "    else:\n",
    "        wound += killer_skills[0] - victim_skills[0]\n",
    "    if victim_skills[1] > killer_skills[1]:\n",
    "        print(\"You are smarter than the killer!\")\n",
    "    else:\n",
    "        wound += killer_skills[1] - victim_skills[1]\n",
    "    if victim_skills[2] > killer_skills[2]:\n",
    "        print(\"You have more luck than the killer!\")\n",
    "    else:\n",
    "        wound += killer_skills[2] - victim_skills[2]\n",
    "    if wound > 5:\n",
    "        print(\"You did not survive the chase\")\n",
    "    elif wound > 0:\n",
    "        print(\"You survived the chase with {} wounds\".format(wound))\n",
    "    else:\n",
    "        print(\"You survived the chase effortlessly, good job!\")"
   ]
  },
  {
   "cell_type": "markdown",
   "id": "75e78d7c-ed52-4a0e-9667-f927c3122ba5",
   "metadata": {},
   "source": [
    "## Ex 3.4"
   ]
  },
  {
   "cell_type": "markdown",
   "id": "ea6eb1c0-407c-4c09-9161-f3d8c7ea6cf4",
   "metadata": {},
   "source": [
    "1. we create a function called saw_riddle with the parameters difficulty and my_try\n",
    "2. difficulty needs to be higher or equal to my_try, or the function returns a warning\n",
    "3. the function creates an amount of \"rooms\" equal to the difficulty + 1\n",
    "4. one of these gets chosen at random to be the \"escape route\"\n",
    "5. if the parameter \"my_try\" matches the chosen escape room, the user \"escapes\", else the function prints \"game over\""
   ]
  },
  {
   "cell_type": "code",
   "execution_count": null,
   "id": "533bbd23-c1a4-459c-bbb2-1f2a4895dbd6",
   "metadata": {},
   "outputs": [],
   "source": [
    "from random import randint\n",
    "def saw_riddle(difficulty, my_try):\n",
    "    if my_try > difficulty:\n",
    "        print(\"the second parameter must be smaller or equal than the first one\")\n",
    "        return 0\n",
    "    print(\"let's play a game\")\n",
    "    print(\"there are {} rooms in front of you\".format(difficulty + 1))\n",
    "    print(\"you have chosen to enter in room {}\".format(my_try + 1))\n",
    "    print(\"will you escape or be stuck forever in here?\")\n",
    "    print(\"let the games begin\")\n",
    "    possibilities = []\n",
    "    while len(possibilities) < difficulty:\n",
    "        possibilities.append(\"game over\")\n",
    "    random_pos = randint(0,difficulty)\n",
    "    possibilities.insert(random_pos, \"you escaped\")\n",
    "    result = (possibilities[my_try])\n",
    "    print(result)\n",
    "    if result == \"you escaped\":\n",
    "        return 1\n",
    "    else:\n",
    "        return 0"
   ]
  }
 ],
 "metadata": {
  "kernelspec": {
   "display_name": "Python 3 (ipykernel)",
   "language": "python",
   "name": "python3"
  },
  "language_info": {
   "codemirror_mode": {
    "name": "ipython",
    "version": 3
   },
   "file_extension": ".py",
   "mimetype": "text/x-python",
   "name": "python",
   "nbconvert_exporter": "python",
   "pygments_lexer": "ipython3",
   "version": "3.10.1"
  }
 },
 "nbformat": 4,
 "nbformat_minor": 5
}
