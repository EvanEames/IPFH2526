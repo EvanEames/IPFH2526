{
 "cells": [
  {
   "cell_type": "markdown",
   "id": "665774fa-ae6a-4f47-a55f-e7e0b123a8d2",
   "metadata": {},
   "source": [
    "# Exercise 3.1\n",
    "Write a function in pycharm: soul_snatcher, with one parameter: \"n_of_souls\".<br>\n",
    "The function creates an empty list called \"snatched_souls\".<br>\n",
    "While the length of \"snatched_souls\" is less than \"n_of_souls\", keep prompting the user (hint: use input) for a name to be added to the snatched_souls list, and keep prompting and adding names as long as the while cycle continues.<br>\n",
    "After the while is completed, return the snatched_souls list.\n",
    "\n",
    "## Solution\n",
    "We created a while loop to append n_of_souls times the input the user was prompted for."
   ]
  },
  {
   "cell_type": "code",
   "execution_count": 3,
   "id": "a78f66a9-dfdf-4a47-990e-5002d5bda820",
   "metadata": {},
   "outputs": [
    {
     "name": "stdin",
     "output_type": "stream",
     "text": [
      "snatched_soul jörg\n",
      "snatched_soul günther\n",
      "snatched_soul jürgen\n"
     ]
    },
    {
     "data": {
      "text/plain": [
       "['jörg', 'günther', 'jürgen']"
      ]
     },
     "execution_count": 3,
     "metadata": {},
     "output_type": "execute_result"
    }
   ],
   "source": [
    " #3.1:\n",
    "def soul_snatcher (n_of_souls):\n",
    "    snatched_souls = list()\n",
    "    while n_of_souls > len(snatched_souls):\n",
    "        snatched_souls.append(input (\"snatched_soul\"))\n",
    "\n",
    "    return snatched_souls\n",
    "\n",
    "soul_snatcher(3)\n"
   ]
  },
  {
   "cell_type": "markdown",
   "id": "6e18b49e-ef09-43b1-a262-c3a118a3c7d6",
   "metadata": {},
   "source": [
    "# Exercise 3.2\n",
    "Write a function in pychram: is_it_poisonous, with three parameters, \"word\", \"poisonous_word\" and \"poison_resistance\". \"poisonous_word\" has a default value of \"belladonna\", \"poison_resistance\" has a default number of 3 (integer).<br>\n",
    "Make one variable, poisonous_count, and set it to 0 (integer).<br>\n",
    "Make two lists, \"word_l\" and \"poisonous_word_l\". Append to the first list the characters of \"word\". Append to the second list the characters of \"poisonous_word\". Iterate over word_l, if a character is in the poisonous_word_l, increase the value of poisonous_count by 1.\n",
    "At the end, if poisonous_count is bigger than poisonous_resistance, print \"This is poisoned, be careful!\", else, if poisonous_count is less or equal than poison_resistance, print \"This is safe\".\n",
    "## Solution\n",
    "We checked through the lists of characters of word and poisonous_word to see if a character in word also appears in poisonous_word. If the count of these double apperances is higher than the poison_resistance we return that we are poisoned and else that we are safe."
   ]
  },
  {
   "cell_type": "code",
   "execution_count": 4,
   "id": "96d4da34-956c-4966-9281-d0df80d0154b",
   "metadata": {},
   "outputs": [
    {
     "name": "stdout",
     "output_type": "stream",
     "text": [
      "This is safe\n"
     ]
    }
   ],
   "source": [
    "#3.2\n",
    "def is_it_poisonous (word, poisonous_word=\"belladonna\", poison_resistance=int (3)):\n",
    "    poisonous_count = 0\n",
    "    word_l = list()\n",
    "    poisonous_word_l = list()\n",
    "    word_l.extend(list(word))\n",
    "    poisonous_word_l.extend(list(poisonous_word))\n",
    "    for l in word_l:\n",
    "        if l in poisonous_word_l:\n",
    "            poisonous_count+=1\n",
    "    if poisonous_count> poison_resistance:\n",
    "        print (\"This is poisoned, be careful!\")\n",
    "    else:\n",
    "        print (\"This is safe\")\n",
    "\n",
    "is_it_poisonous(\"nope\")"
   ]
  },
  {
   "cell_type": "markdown",
   "id": "6d6b712a-7991-44f5-9197-7b188242eaf6",
   "metadata": {},
   "source": [
    "# Exercise 3.3\n",
    "Write a function called chase_scene, in reminiscence of all the iconic chase scenes in typical slasher movies. To survive a slasher chase scene, you need to either be faster than the killer, or smarter than them, or just luckier. You can survive a chase scene with a few scratches, but too many wounds will result you in not surviving it.<br>\n",
    "The function takes six parameters, victim_speed, killer_speed, victim_iq, killer_iq, victim_luck, killer_luck.<br>\n",
    "First, make a list called victim_skills, append, in this order, the victim_speed, victim_iq, and victim_luck.<br>\n",
    "Then make a second list called killer_skills. Append, in this order, the killer_speed, killer_iq, and killer_luck.<br>\n",
    "Also, create a wound variable, and set it as 0.<br>\n",
    "Then compare the first elements of each list. If the first element of victim skills is greater than the first element of the killer skill, print(\"You are faster than the killer!\") Else, increase the value of wound by the subtraction between the killer_skills list element and the victim_skills list element.<br>\n",
    "Then, compare the second elements of each list. If the second element of victim skills is greater than the second element of the killer skill, print(\"You are smarter than the killer!\") Else, increase the value of wound by the subtraction between the killer_skills list element and the victim_skills list element.<br>\n",
    "Finally, compare the third elements of each list. If the third element of victim skills is greater than the third element of the killer skill, print(\"You have more luck than the killer!\") Else, increase the value of wound by the subtraction between the killer_skills list element and the victim_skills list element.<br>\n",
    "If, at the end, wound is more than 5, print: \"You did not survive the chase\".<br>\n",
    "Else If, at the end, wound is more than 0 but less or equal than 5, print: \"You survived the chase with X wounds\" where X is the wound value.<br>\n",
    "Else If, at the end, wound is 0, print: \"You survived the chase effortlessly, good job!\".<br>\n",
    "## Solution\n",
    "We compared the different skills listed for the victim and the killer to see how many wounds the victim would get. The victim survives as long as the number of wounds is lower than 5."
   ]
  },
  {
   "cell_type": "code",
   "execution_count": 5,
   "id": "f639f8c1-e3e4-4a79-94a0-2d85cb3ada6c",
   "metadata": {},
   "outputs": [
    {
     "name": "stdout",
     "output_type": "stream",
     "text": [
      "You are faster than the killer!\n",
      "You have more luck than the killer!\n",
      "You survived the chase with 4 wounds\n"
     ]
    }
   ],
   "source": [
    "#3.3\n",
    "def chase_scene(victim_speed, killer_speed, victim_iq, killer_iq, victim_luck, killer_luck):\n",
    "    victim_skills = [victim_speed,victim_iq, victim_luck]\n",
    "    killer_skills = [killer_speed, killer_iq, killer_luck]\n",
    "    wound = int (\"0\")\n",
    "    if victim_skills[0] > killer_skills[0]:\n",
    "        print (\"You are faster than the killer!\")\n",
    "    else:\n",
    "        wound += killer_skills[0]- victim_skills[0]\n",
    "\n",
    "    if victim_skills[1] > killer_skills[1]:\n",
    "        print (\"You are smarter than the killer!\")\n",
    "\n",
    "    else:\n",
    "        wound += killer_skills[1]- victim_skills[1]\n",
    "\n",
    "    if victim_skills[2] > killer_skills[2]:\n",
    "        print(\"You have more luck than the killer!\")\n",
    "\n",
    "    else:\n",
    "        wound += killer_skills[2] - victim_skills[2]\n",
    "\n",
    "    if wound > 5:\n",
    "        print (\"You did not survive the chase\")\n",
    "    elif wound > 0:\n",
    "\n",
    "        print (\"You survived the chase with \"+ str(wound) +\" wounds\")\n",
    "    else:\n",
    "        print( \"You survived the chase effortlessly, good job!\")\n",
    "\n",
    "chase_scene(5,4,8,12,3,2)\n"
   ]
  },
  {
   "cell_type": "markdown",
   "id": "f2afc7b7-4b7f-4532-9e7b-d02f2dd25ffd",
   "metadata": {},
   "source": [
    "# Exercise 3.4\n",
    "\n",
    "BEFORE THE FUNCTION:<br>\n",
    "write<br>\n",
    "from random import randint<br>\n",
    "<br>\n",
    "randint works like this:<br>\n",
    "if you write \"x = randint(0,5)\" <- it will get a random integer from 0 to 5.<br>\n",
    "<br>\n",
    "Write a function saw_riddle, with two parameters, difficulty and my_try.<br>\n",
    "If my_try is bigger than diffulty, print(\"the second parameter must be smaller or equal than the first one\"). Return 0 to finish the function. <br>\n",
    "print \"let's play a game\"<br>\n",
    "print \"there are X rooms in front of you\" (where X is **difficulty +1**).<br>\n",
    "print \"you have chosen to enter in room Y\" (where Y is **my_try + 1**)<br>\n",
    "print \"will you escape or be stuck forever in here?\"<br>\n",
    "print \"let the games begin\"<br>\n",
    "Create a list called \"possibilities\".<br>\n",
    "While the length of the list is less than difficulty, append to the list the string \"game over\". (The list should look like [\"game over\", \"game over\", \"game over\"...] )<br>\n",
    "Then create a variable called \"random_pos\", and assign it a random integer between 0 and difficulty.<br>\n",
    "Insert \"you escaped\" in the list at the position that was given by the random integer generator.<br>\n",
    "Print the element of the list that is in the position of my_try.<br>\n",
    "Example: if my try is 3, print possibilities[3].<br>\n",
    "return 1 if the element is \"escape\",<br>\n",
    "return 0 otherwise.<br>\n",
    "## Solution\n",
    "We compared the position of my_try with the position of the randomly added \"escape\" within a list of the length of the difficulty to see wether or not we escape."
   ]
  },
  {
   "cell_type": "code",
   "execution_count": 6,
   "id": "17a32a26-1469-4ce9-a3c0-7ccde718ca68",
   "metadata": {},
   "outputs": [
    {
     "name": "stdout",
     "output_type": "stream",
     "text": [
      "let's play a game\n",
      "there are 10 rooms in front of you\n",
      "you have chosen to enter in room 4\n",
      "will you escape or be stuck forever in here?\n",
      "let the games begin\n",
      "you escaped\n"
     ]
    },
    {
     "data": {
      "text/plain": [
       "1"
      ]
     },
     "execution_count": 6,
     "metadata": {},
     "output_type": "execute_result"
    }
   ],
   "source": [
    "#3.4\n",
    "from random import randint\n",
    "\n",
    "def saw_riddle(difficulty, my_try):\n",
    "    if my_try > difficulty:\n",
    "        print (\"the second parameter must be smaller or equal than the first one\")\n",
    "        return 0\n",
    "    else:\n",
    "        print (\"let's play a game\")\n",
    "        print (\"there are \"+str(difficulty +1)+\" rooms in front of you\")\n",
    "        print ( \"you have chosen to enter in room \"+str(my_try +1))\n",
    "        print ( \"will you escape or be stuck forever in here?\")\n",
    "        print ( \"let the games begin\")\n",
    "\n",
    "        possibilities = list()\n",
    "        while len(possibilities) < difficulty:\n",
    "            possibilities.append(\"game_over\")\n",
    "        random_pos = randint(0, difficulty)\n",
    "        possibilities.insert(random_pos, \"you escaped\")\n",
    "        print(possibilities[my_try])\n",
    "        if possibilities[my_try] == \"you escaped\":\n",
    "            return 1\n",
    "        else:\n",
    "            return 0\n",
    "\n",
    "saw_riddle(9,3)"
   ]
  }
 ],
 "metadata": {
  "kernelspec": {
   "display_name": "Python 3 (ipykernel)",
   "language": "python",
   "name": "python3"
  },
  "language_info": {
   "codemirror_mode": {
    "name": "ipython",
    "version": 3
   },
   "file_extension": ".py",
   "mimetype": "text/x-python",
   "name": "python",
   "nbconvert_exporter": "python",
   "pygments_lexer": "ipython3",
   "version": "3.10.1"
  }
 },
 "nbformat": 4,
 "nbformat_minor": 5
}
