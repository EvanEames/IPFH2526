{
 "cells": [
  {
   "cell_type": "markdown",
   "id": "d8a9a014-73bb-4401-9979-afed536379db",
   "metadata": {},
   "source": [
    "# Dancing Skeletons - The Script or Treat Story"
   ]
  },
  {
   "cell_type": "code",
   "execution_count": null,
   "id": "4ca230ee-cefa-44ae-9c43-9ea395fd4808",
   "metadata": {},
   "outputs": [],
   "source": [
    "Members:\n",
    "\n",
    "Francesca Chessari\n",
    "\n",
    "Lorenz Absalon\n",
    "\n",
    "Moritz Baiter"
   ]
  },
  {
   "cell_type": "markdown",
   "id": "5a7b3e96-ac9b-480b-991e-ddcc15a2a69f",
   "metadata": {},
   "source": [
    "### Exercise 1"
   ]
  },
  {
   "cell_type": "markdown",
   "id": "e5ba1257-57ac-4905-a592-764701cf9479",
   "metadata": {},
   "source": [
    "We define a function called soul_snatcher, with one parameter: \"n_of_souls\".<br>\n",
    "Created a list \"snached_souls\"<br>\n",
    "We started a loop, asking the user to put in a name, filling the list.<br>\n",
    "Returns the list. <br>"
   ]
  },
  {
   "cell_type": "code",
   "execution_count": 3,
   "id": "bba1c1fe-70f9-4cac-bbce-fbbb355dcd58",
   "metadata": {},
   "outputs": [
    {
     "name": "stdin",
     "output_type": "stream",
     "text": [
      "Enter a Name 1\n",
      "Enter a Name 2\n",
      "Enter a Name 3\n"
     ]
    },
    {
     "name": "stdout",
     "output_type": "stream",
     "text": [
      "['1', '2', '3']\n"
     ]
    }
   ],
   "source": [
    "def soul_snatcher(n_of_souls):\n",
    "    snatched_souls = [];\n",
    "    while len(snatched_souls) < n_of_souls:\n",
    "        a = input(\"Enter a Name\")\n",
    "        snatched_souls.append(a)\n",
    "    return snatched_souls\n",
    "\n",
    "x = soul_snatcher(3)\n",
    "print(x)"
   ]
  },
  {
   "cell_type": "markdown",
   "id": "b1b9da41-94ea-4924-bc50-957ec445524f",
   "metadata": {},
   "source": [
    "### Excercise 2"
   ]
  },
  {
   "cell_type": "markdown",
   "id": "27f8ba6d-65c6-4966-a04c-563e0167e634",
   "metadata": {},
   "source": [
    "We define a function that takes 3 parameters. 2 of them have a default value. <br>\n",
    "We initialise a counter and two empty list.<br>\n",
    "We start a loops to fill up the lists with the given parameters.<br>\n",
    "We start a loop which checks whether the letters from \"word\" are in \"poisonous_word\" and increse the counter by 1 if it's a match.<br>\n",
    "In the end we check if the word is poisonous or not and print the corresponding answer.<br>"
   ]
  },
  {
   "cell_type": "code",
   "execution_count": 6,
   "id": "a53dad0f-af03-4095-95e2-2a3448d05dcb",
   "metadata": {},
   "outputs": [
    {
     "name": "stdout",
     "output_type": "stream",
     "text": [
      "This is poisoned, be careful\n",
      "None\n"
     ]
    }
   ],
   "source": [
    "def is_it_poisonous(word, poisonous_word=\"belladonna\", poison_resistance=3):\n",
    "    poisonous_count = 0\n",
    "    poisonous_word_l = []\n",
    "    word_l = []\n",
    "    for i in poisonous_word:\n",
    "        poisonous_word_l.append(i)\n",
    "    for i in word:\n",
    "        word_l.append(i)\n",
    "    for i in word_l :\n",
    "        n = poisonous_word_l.count(i)\n",
    "        if n > 0:\n",
    "            poisonous_count += 1\n",
    "    if poisonous_count > poison_resistance:\n",
    "        print(\"This is poisoned, be careful\")\n",
    "    else:\n",
    "        print(\"This is safe\")\n",
    "\n",
    "test = is_it_poisonous(\"rafe\", \"giraffe\")\n",
    "print(test)"
   ]
  },
  {
   "cell_type": "markdown",
   "id": "684a9617-28fb-4e7f-bc78-a2a42590c42e",
   "metadata": {},
   "source": [
    "### Exercise 3"
   ]
  },
  {
   "cell_type": "markdown",
   "id": "db190958-78bd-4a01-a82a-42dbea472e82",
   "metadata": {},
   "source": [
    "We define a new function which takes in 6 parameters.<br>\n",
    "We compare each parameter of the victim with the one of the killer.<br>\n",
    "If the victims parameter is better than the Killers, a message is printed stating this, otherwise the \"wound\" counter is incresed by the difference (killer_value - victim_value)<br>\n",
    "In the end we check if the victim survived and give out a line of text.<br>\n",
    "It survives with less than 6 wounds and perfectly suvives if the victim has 0 wounds.<br>"
   ]
  },
  {
   "cell_type": "code",
   "execution_count": 4,
   "id": "ef15f9e8-d4a4-4f52-bcdb-4de0af331f87",
   "metadata": {},
   "outputs": [
    {
     "name": "stdout",
     "output_type": "stream",
     "text": [
      "You are faster than the killer!\n",
      "You did not survive the chase\n"
     ]
    }
   ],
   "source": [
    "def chase_scene(victim_speed, killer_speed, victim_iq, killer_iq, victim_luck, killer_luck):\n",
    "    victim_skills = [victim_speed, victim_iq,victim_luck]\n",
    "    killer_skills =  [killer_speed, killer_iq, killer_luck]\n",
    "    wound = 0\n",
    "    if victim_speed > killer_speed:\n",
    "        print(\"You are faster than the killer!\")\n",
    "    else:\n",
    "        wound = wound + (killer_speed - victim_speed)\n",
    "    if victim_iq > killer_iq:\n",
    "        print(\"You are smarter than the killer!\")\n",
    "    else:\n",
    "        wound = wound + (killer_iq - victim_iq)\n",
    "    if victim_luck > killer_luck:\n",
    "        print(\"You have more luck than the killer!\")\n",
    "    else:\n",
    "        wound = wound + (killer_luck - victim_luck)\n",
    "    if wound > 5:\n",
    "        print(\"You did not survive the chase\")\n",
    "    elif (wound > 0) and (wound <= 5):\n",
    "        print(\"You survived the chase with \" + str(wound) + \" wounds\")\n",
    "    else:\n",
    "        print(\"You survived the chase effortlessly, good job!\")\n",
    "\n",
    "test = chase_scene(12,2,2,14,15,19)"
   ]
  },
  {
   "cell_type": "markdown",
   "id": "45440176-a1cd-4d61-9c53-e782662cf33b",
   "metadata": {},
   "source": [
    "### Exercise 4"
   ]
  },
  {
   "cell_type": "markdown",
   "id": "bd6d425a-24b8-4851-9c5c-849212bb3564",
   "metadata": {},
   "source": [
    "We import the random function.<br>\n",
    "We define a new function which takes over 2 parameters.<br>\n",
    "We check if the parameters are valid (my_try must be smaller than difficulty)<br>\n",
    "We print a bunch of statements.<br>\n",
    "We initialise an empty list.<br>\n",
    "We start a loop to fill out the empty list.<br>\n",
    "We initialise a variable and add a random value to it.<br>\n",
    "We use the random value to insert \"you escaped\" into the list.<br>\n",
    "We print out the list.<br>\n",
    "If we find \"you escaped\" in the list we return 1, otherwise 0 gets returned.<br>"
   ]
  },
  {
   "cell_type": "code",
   "execution_count": 8,
   "id": "3d304e75-e487-40c7-9355-6a39c204d358",
   "metadata": {},
   "outputs": [
    {
     "name": "stdout",
     "output_type": "stream",
     "text": [
      "the second parameter must be smaller or equal than the first one\n",
      "0\n"
     ]
    }
   ],
   "source": [
    "from random import randint\n",
    "\n",
    "def saw_riddle(difficulty, my_try):\n",
    "    if my_try > difficulty:\n",
    "        print(\"the second parameter must be smaller or equal than the first one\")\n",
    "        return 0\n",
    "    print(\"let's play a game\")\n",
    "    print(\"there are \" + str(difficulty + 1) + \" rooms in front of you\")\n",
    "    print(\"you have chosen to enter room \" + str(my_try))\n",
    "    print(\"will you escape or be stuck forever in here?\")\n",
    "    print(\"let the games begin\")\n",
    "    possibilities = []\n",
    "    while len(possibilities) < difficulty:\n",
    "        possibilities.append(\"game over\")\n",
    "    random_pos = randint(0, difficulty)\n",
    "    possibilities.insert(random_pos, \"you escaped\")\n",
    "    print(possibilities[my_try])\n",
    "    if possibilities[my_try] == \"you escaped\":\n",
    "        return 1\n",
    "    else:\n",
    "        return 0\n",
    "\n",
    "test = saw_riddle(5,6)\n",
    "print(test)"
   ]
  },
  {
   "cell_type": "code",
   "execution_count": null,
   "id": "aeaf90e4-4f63-4b3b-bf53-c93aa4cc9510",
   "metadata": {},
   "outputs": [],
   "source": []
  }
 ],
 "metadata": {
  "kernelspec": {
   "display_name": "Python 3 (ipykernel)",
   "language": "python",
   "name": "python3"
  },
  "language_info": {
   "codemirror_mode": {
    "name": "ipython",
    "version": 3
   },
   "file_extension": ".py",
   "mimetype": "text/x-python",
   "name": "python",
   "nbconvert_exporter": "python",
   "pygments_lexer": "ipython3",
   "version": "3.10.1"
  }
 },
 "nbformat": 4,
 "nbformat_minor": 5
}
