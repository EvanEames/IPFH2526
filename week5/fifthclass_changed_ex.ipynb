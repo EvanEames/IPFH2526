{
 "cells": [
  {
   "cell_type": "markdown",
   "metadata": {
    "id": "HieuxmkNv06f"
   },
   "source": [
    "# Understanding and correcting algorithms\n",
    "## Understanding\n",
    "\n",
    "The goal of the understanding part of algorithms is that you are able to predict what the output will be without running the code by recognizing the different python methods that are used."
   ]
  },
  {
   "cell_type": "markdown",
   "metadata": {},
   "source": [
    "For example, given:\n",
    "\n",
    "```python\n",
    "x = \"hello world\"\n",
    "y = \"aeiou\"\n",
    "count = 0\n",
    "for char in x:\n",
    "    if char in y:\n",
    "        count += 1\n",
    "```"
   ]
  },
  {
   "cell_type": "markdown",
   "metadata": {},
   "source": [
    "What is the value of `count` at the end?"
   ]
  },
  {
   "cell_type": "markdown",
   "metadata": {},
   "source": [
    "Or a more complex example, given this function:"
   ]
  },
  {
   "cell_type": "markdown",
   "metadata": {},
   "source": [
    "```python\n",
    "def my_function(digits_list):\n",
    "    result = []\n",
    "    second_digit_list = []\n",
    "    for n in digits_list:\n",
    "        second_digit_list.append(n)\n",
    "    for n in digits_list:\n",
    "        if n > len(second_digit_list):\n",
    "            result.append(n)\n",
    "        else:\n",
    "            second_digit_list.pop()\n",
    "    return result\n",
    "```\n",
    "            "
   ]
  },
  {
   "cell_type": "markdown",
   "metadata": {},
   "source": [
    "What does it return if I run it as `my_function([0,9,3,1,5,2])`?"
   ]
  },
  {
   "cell_type": "markdown",
   "metadata": {},
   "source": [
    "Acting like a computer, you should try to dissect the function like this:\n",
    "\n",
    "\n",
    "First for loop: iterates over the input list and gives its values to a second list called `second_digit_list`\n",
    "Current status after the first for loop\n",
    "* `second_digit_list`: is basically a copy of the first list, so it's value at the start is `[0,9,3,1,5,2]`\n",
    "* `result`: is still empty, no value was added to it\n",
    "\n",
    "Second for loop: iterates over the input list and according to it's values it adds something to the `result` list or it changes the `second_digit_list`\n",
    "* first iteration:  `n = 0`. `n` is not more than `6` (which the current length of `second_digit_list`). So the algorithm takes out the last element of `second_digit_list`\n",
    "* `result` is still empty, `second_digit_list` is now `[0,9,3,1,5]`\n",
    "* second iteration `n = 9`. `n` is more than `5` (which is the current length of `second_digit_list`). So the algorithm adds `9` to `result`.\n",
    "* `result` is now `[9]`, `second_digit_list` is still `[0,9,3,1,5]`\n",
    "* third iteration `n = 3`. `n` is not more than `5` (which is the current length of `second_digit_list`). So the algorithm takes out the last element of `second_digit_list`\n",
    "* `result` is still `[9]`, `second_digit_list` is now `[0,9,3,1]`\n",
    "* fourth iteration: `n = 1`. `n` is not more than `4` (which is the current length of `second_digit_list`). So the algorithm takes out the last element of `second_digit_list`\n",
    "* `result` is still `[9]`, `second_digit_list` is now `[0,9,3]`\n",
    "* fifth iteration: `n = 5`. `n` is more than `3` (which is the current length of `second_digit_list`). So the algorithm adds `5` to `result`.\n",
    "*  `result` is now `[9, 5]`, `second_digit_list` is still `[0,9,3]`\n",
    "* sixth iteration:  `n = 2`. `n` is not more than `3` (which is the current length of `second_digit_list`). So the algorithm takes out the last element of `second_digit_list`\n",
    "* `result` is still `[9, 5]`, `second_digit_list` is now `[0,9]`\n",
    "* The algorithm returns `result`, which is `[9, 5]`"
   ]
  },
  {
   "cell_type": "code",
   "execution_count": 5,
   "metadata": {},
   "outputs": [
    {
     "data": {
      "text/plain": [
       "[9, 5]"
      ]
     },
     "execution_count": 5,
     "metadata": {},
     "output_type": "execute_result"
    }
   ],
   "source": [
    "# Just as a proof of concept, we run the algorithm traditionally\n",
    "\n",
    "def my_function(digits_list):\n",
    "    result = []\n",
    "    second_digit_list = []\n",
    "    for n in digits_list:\n",
    "        second_digit_list.append(n)\n",
    "    for n in digits_list:\n",
    "        if n > len(second_digit_list):\n",
    "            result.append(n)\n",
    "        else:\n",
    "            second_digit_list.pop()\n",
    "    return result\n",
    "\n",
    "my_function([0,9,3,1,5,2])"
   ]
  },
  {
   "cell_type": "markdown",
   "metadata": {},
   "source": [
    "## Debugging\n",
    "\n",
    "Debugging is the process of testing and correcting mistakes of your code. Understanding and debugging are connected, as you can't correct the code if you are not aware of what it is supposed to do.\n",
    "\n",
    "There are mainly two types of mistakes:\n",
    "\n",
    "* code error: there is a problem with the python code that makes the interpret not able to run it, so there is either the misuse of some syntax, referencing to non-existant variables or using methods that do not apply to the specific data structures (like using append for sets)\n",
    "* * If a code error happens, python will stop at the first error, so if more errors are present, Python will not tell you all of them at the same time, you have to correct the first error and run the code again, to check if there are more errors\n",
    "* unexpected result or empty result: while the functions runs nicely and no error is given by the interpreter, the result is not what you expected, or sometimes it is empty."
   ]
  },
  {
   "cell_type": "markdown",
   "metadata": {},
   "source": [
    "For example, given this code:"
   ]
  },
  {
   "cell_type": "code",
   "execution_count": 6,
   "metadata": {},
   "outputs": [
    {
     "ename": "SyntaxError",
     "evalue": "closing parenthesis ']' does not match opening parenthesis '{' (1537020796.py, line 1)",
     "output_type": "error",
     "traceback": [
      "\u001b[1;36m  Cell \u001b[1;32mIn[6], line 1\u001b[1;36m\u001b[0m\n\u001b[1;33m    great_set = {3,2,4,1]\u001b[0m\n\u001b[1;37m                        ^\u001b[0m\n\u001b[1;31mSyntaxError\u001b[0m\u001b[1;31m:\u001b[0m closing parenthesis ']' does not match opening parenthesis '{'\n"
     ]
    }
   ],
   "source": [
    "great_set = {3,2,4,1]\n",
    "\n",
    "for x in great_set:\n",
    "    print(set_element)"
   ]
  },
  {
   "cell_type": "markdown",
   "metadata": {},
   "source": [
    "Error 1: we create a set and then we open the curly but close them with squared ones.\n",
    "Second try:"
   ]
  },
  {
   "cell_type": "code",
   "execution_count": 7,
   "metadata": {},
   "outputs": [
    {
     "ename": "NameError",
     "evalue": "name 'set_element' is not defined",
     "output_type": "error",
     "traceback": [
      "\u001b[1;31m---------------------------------------------------------------------------\u001b[0m",
      "\u001b[1;31mNameError\u001b[0m                                 Traceback (most recent call last)",
      "Cell \u001b[1;32mIn[7], line 4\u001b[0m\n\u001b[0;32m      1\u001b[0m great_set \u001b[38;5;241m=\u001b[39m {\u001b[38;5;241m3\u001b[39m,\u001b[38;5;241m2\u001b[39m,\u001b[38;5;241m4\u001b[39m,\u001b[38;5;241m1\u001b[39m}\n\u001b[0;32m      3\u001b[0m \u001b[38;5;28;01mfor\u001b[39;00m x \u001b[38;5;129;01min\u001b[39;00m great_set:\n\u001b[1;32m----> 4\u001b[0m     \u001b[38;5;28mprint\u001b[39m(\u001b[43mset_element\u001b[49m)\n",
      "\u001b[1;31mNameError\u001b[0m: name 'set_element' is not defined"
     ]
    }
   ],
   "source": [
    "great_set = {3,2,4,1}\n",
    "\n",
    "for x in great_set:\n",
    "    print(set_element)"
   ]
  },
  {
   "cell_type": "markdown",
   "metadata": {},
   "source": [
    "Error 2: I am first referring to the iteration element as \"x\", and then \"set_element\". Third try:"
   ]
  },
  {
   "cell_type": "code",
   "execution_count": 8,
   "metadata": {},
   "outputs": [
    {
     "name": "stdout",
     "output_type": "stream",
     "text": [
      "1\n",
      "2\n",
      "3\n",
      "4\n"
     ]
    }
   ],
   "source": [
    "great_set = {3,2,4,1}\n",
    "\n",
    "for x in great_set:\n",
    "    print(x)"
   ]
  },
  {
   "cell_type": "markdown",
   "metadata": {},
   "source": [
    "As for the second time of errors, this can happen:"
   ]
  },
  {
   "cell_type": "code",
   "execution_count": 11,
   "metadata": {},
   "outputs": [
    {
     "data": {
      "text/plain": [
       "['goodbye']"
      ]
     },
     "execution_count": 11,
     "metadata": {},
     "output_type": "execute_result"
    }
   ],
   "source": [
    "def give_me_x_length_words(list_of_words, length):\n",
    "    for word in list_of_words:\n",
    "        result = []\n",
    "        if len(word) > length:\n",
    "            result.append(word)\n",
    "    return result\n",
    "\n",
    "give_me_x_length_words([\"hi\",\"hello\",\"goodbye\"], 4)"
   ]
  },
  {
   "cell_type": "markdown",
   "metadata": {},
   "source": [
    "But why? I am sure than hello has more than 4 characters! I will try to print result at every step to see what is wrong"
   ]
  },
  {
   "cell_type": "code",
   "execution_count": 12,
   "metadata": {},
   "outputs": [
    {
     "name": "stdout",
     "output_type": "stream",
     "text": [
      "[]\n",
      "['hello']\n",
      "['goodbye']\n"
     ]
    },
    {
     "data": {
      "text/plain": [
       "['goodbye']"
      ]
     },
     "execution_count": 12,
     "metadata": {},
     "output_type": "execute_result"
    }
   ],
   "source": [
    "def give_me_x_length_words(list_of_words, length):\n",
    "    for word in list_of_words:\n",
    "        result = []\n",
    "        if len(word) > length:\n",
    "            result.append(word)\n",
    "        print(result)\n",
    "    return result\n",
    "\n",
    "give_me_x_length_words([\"hi\",\"hello\",\"goodbye\"], 4)"
   ]
  },
  {
   "cell_type": "markdown",
   "metadata": {},
   "source": [
    "So, at some point hello is there, but then there is only goodbye, it looks like the list is starting empty everytime. It is because I am creating it brand new for each iteration, I should create it before the for loop!"
   ]
  },
  {
   "cell_type": "code",
   "execution_count": 14,
   "metadata": {},
   "outputs": [
    {
     "data": {
      "text/plain": [
       "['hello', 'goodbye']"
      ]
     },
     "execution_count": 14,
     "metadata": {},
     "output_type": "execute_result"
    }
   ],
   "source": [
    "def give_me_x_length_words(list_of_words, length):\n",
    "    result = []\n",
    "    for word in list_of_words:\n",
    "        if len(word) > length:\n",
    "            result.append(word)\n",
    "    return result\n",
    "\n",
    "give_me_x_length_words([\"hi\",\"hello\",\"goodbye\"], 4)"
   ]
  },
  {
   "cell_type": "markdown",
   "metadata": {
    "id": "5jnLbkGEVKjk"
   },
   "source": [
    "# Scriptmas Marathon"
   ]
  },
  {
   "cell_type": "markdown",
   "metadata": {
    "id": "pnDZJN7bVNBp"
   },
   "source": [
    "## Rules\n",
    "\n",
    "You have to complete two tracks of exercises in whatever order: Error track and Understanding track. <br>\n",
    "You will work alone, this is not a team effort. <br>\n",
    "You will have X minutes to complete the two marathons. <br>\n",
    "First you have to come to me and choose your track. I will give you a piece of paper with an exercise (either correct the algorithm or give me the result of the algorithm when using a specific input. <br>\n",
    "Once you know the results, bring me back your piece of paper and, if correct, I will give you the second one. <br>\n",
    "There are 4 exercises per track, at increasing difficulty.  <br>\n",
    "Once you finish all the exercises from one track you can move to the other.  <br>\n",
    "Once you finish all the exercises from both tracks, you are done.  <br>\n",
    "If you are stuck with one truck, you can ask me to start the other one instead, but you cannot work on both tracks at the same time.  <br>\n",
    "\n",
    "If you complete a track, you get 0.1 bonus points <br>\n",
    "If you complete both tracks, you get 0.3 bonus points <br>\n",
    "\n",
    "The first student that completes both will get an additional 0.2 bonus points <br>\n",
    "Second and third students will get an additional 0.1 bonus points. <br>\n",
    "\n",
    "So first student will get 0.5 bonus points <br>\n",
    "Second and third will get 0.4 bonus points <br>\n",
    "The rest of the students that complete both tracks will get 0.3 bonus points. <br>\n",
    "\n",
    "These points will be added to the ones you got from the halloween event. <br>\n",
    "\n",
    "**Important** if you need help ask me, no talking with other students is allowed! <br>\n",
    "**Computers** must be turned off, as in the real exam setting"
   ]
  },
  {
   "cell_type": "code",
   "execution_count": null,
   "metadata": {},
   "outputs": [],
   "source": []
  }
 ],
 "metadata": {
  "colab": {
   "provenance": []
  },
  "kernelspec": {
   "display_name": "Python 3 (ipykernel)",
   "language": "python",
   "name": "python3"
  },
  "language_info": {
   "codemirror_mode": {
    "name": "ipython",
    "version": 3
   },
   "file_extension": ".py",
   "mimetype": "text/x-python",
   "name": "python",
   "nbconvert_exporter": "python",
   "pygments_lexer": "ipython3",
   "version": "3.8.10"
  }
 },
 "nbformat": 4,
 "nbformat_minor": 4
}
